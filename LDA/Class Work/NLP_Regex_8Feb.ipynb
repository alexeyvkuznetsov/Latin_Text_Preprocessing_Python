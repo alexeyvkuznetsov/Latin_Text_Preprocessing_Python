{
  "nbformat": 4,
  "nbformat_minor": 0,
  "metadata": {
    "colab": {
      "name": "NLP_Regex_8Feb.ipynb",
      "provenance": [],
      "collapsed_sections": [],
      "authorship_tag": "ABX9TyPELJ2bN1vBdDFP7i4wR/tF",
      "include_colab_link": true
    },
    "kernelspec": {
      "name": "python3",
      "display_name": "Python 3"
    }
  },
  "cells": [
    {
      "cell_type": "markdown",
      "metadata": {
        "id": "view-in-github",
        "colab_type": "text"
      },
      "source": [
        "<a href=\"https://colab.research.google.com/github/aashu1328/Natural-language-Processing/blob/master/NLP_Regex_8Feb.ipynb\" target=\"_parent\"><img src=\"https://colab.research.google.com/assets/colab-badge.svg\" alt=\"Open In Colab\"/></a>"
      ]
    },
    {
      "cell_type": "code",
      "metadata": {
        "id": "3hdaVOFvx2fc",
        "colab_type": "code",
        "colab": {}
      },
      "source": [
        "import pandas as pd\n",
        "import numpy as np\n",
        "import re"
      ],
      "execution_count": 0,
      "outputs": []
    },
    {
      "cell_type": "code",
      "metadata": {
        "id": "wFkHgLQ50uxY",
        "colab_type": "code",
        "colab": {}
      },
      "source": [
        "def find(str):\n",
        "  list = []\n",
        "  list = re.findall(r\"\\b[0-9]{10}\\b\", str)\n",
        "  return list"
      ],
      "execution_count": 0,
      "outputs": []
    },
    {
      "cell_type": "code",
      "metadata": {
        "id": "QjDehXPn5Ift",
        "colab_type": "code",
        "outputId": "0634caf5-ec13-413e-8072-1397204061de",
        "colab": {
          "base_uri": "https://localhost:8080/",
          "height": 35
        }
      },
      "source": [
        "find(' yiy893893829832 9820031143')"
      ],
      "execution_count": 6,
      "outputs": [
        {
          "output_type": "execute_result",
          "data": {
            "text/plain": [
              "['9820031143']"
            ]
          },
          "metadata": {
            "tags": []
          },
          "execution_count": 6
        }
      ]
    },
    {
      "cell_type": "code",
      "metadata": {
        "id": "wezHryR95KcQ",
        "colab_type": "code",
        "colab": {
          "base_uri": "https://localhost:8080/",
          "height": 35
        },
        "outputId": "8bbe0cd0-5aaa-4231-cf1b-1c2dc53bcb3f"
      },
      "source": [
        "find('company no is 8173219860 and landline is 2173 6664')"
      ],
      "execution_count": 7,
      "outputs": [
        {
          "output_type": "execute_result",
          "data": {
            "text/plain": [
              "['8173219860']"
            ]
          },
          "metadata": {
            "tags": []
          },
          "execution_count": 7
        }
      ]
    },
    {
      "cell_type": "code",
      "metadata": {
        "id": "ZWtENipzxtMu",
        "colab_type": "code",
        "colab": {}
      },
      "source": [
        "def find_email(str):\n",
        "  list=[]\n",
        "  list=st = re.findall('\\S+@\\S+',str)\n",
        "  return list   "
      ],
      "execution_count": 0,
      "outputs": []
    },
    {
      "cell_type": "code",
      "metadata": {
        "id": "6jNQFByYycMG",
        "colab_type": "code",
        "colab": {
          "base_uri": "https://localhost:8080/",
          "height": 35
        },
        "outputId": "f2137dea-2908-40f0-a139-5a255a2a5cb7"
      },
      "source": [
        "find_email('r No. email- panda.prasad@gmail.com')"
      ],
      "execution_count": 11,
      "outputs": [
        {
          "output_type": "execute_result",
          "data": {
            "text/plain": [
              "['panda.prasad@gmail.com']"
            ]
          },
          "metadata": {
            "tags": []
          },
          "execution_count": 11
        }
      ]
    },
    {
      "cell_type": "code",
      "metadata": {
        "id": "jpCnJ6t8yjV-",
        "colab_type": "code",
        "colab": {}
      },
      "source": [
        "import pandas as pd\n",
        "df=pd.read_csv('/content/data_yozoco.csv')"
      ],
      "execution_count": 0,
      "outputs": []
    },
    {
      "cell_type": "code",
      "metadata": {
        "id": "TBLyFRojy6yd",
        "colab_type": "code",
        "colab": {
          "base_uri": "https://localhost:8080/",
          "height": 482
        },
        "outputId": "6403acb1-d7ab-48a8-e7db-42c70a2792ad"
      },
      "source": [
        "df.head()"
      ],
      "execution_count": 13,
      "outputs": [
        {
          "output_type": "execute_result",
          "data": {
            "text/html": [
              "<div>\n",
              "<style scoped>\n",
              "    .dataframe tbody tr th:only-of-type {\n",
              "        vertical-align: middle;\n",
              "    }\n",
              "\n",
              "    .dataframe tbody tr th {\n",
              "        vertical-align: top;\n",
              "    }\n",
              "\n",
              "    .dataframe thead th {\n",
              "        text-align: right;\n",
              "    }\n",
              "</style>\n",
              "<table border=\"1\" class=\"dataframe\">\n",
              "  <thead>\n",
              "    <tr style=\"text-align: right;\">\n",
              "      <th></th>\n",
              "      <th>p_no__001</th>\n",
              "      <th>p_no__002</th>\n",
              "      <th>p_no__003</th>\n",
              "      <th>p_no__004</th>\n",
              "      <th>p_no__005</th>\n",
              "      <th>p_no__006</th>\n",
              "      <th>p_no__007</th>\n",
              "      <th>p_no__008</th>\n",
              "      <th>email_address__001</th>\n",
              "      <th>email_address__002</th>\n",
              "      <th>website__-</th>\n",
              "      <th>address</th>\n",
              "      <th>organisation</th>\n",
              "      <th>person_name</th>\n",
              "      <th>text</th>\n",
              "    </tr>\n",
              "  </thead>\n",
              "  <tbody>\n",
              "    <tr>\n",
              "      <th>0</th>\n",
              "      <td>9.822342e+09</td>\n",
              "      <td>9.970177e+09</td>\n",
              "      <td>2.471024e+06</td>\n",
              "      <td>8.668489e+09</td>\n",
              "      <td>NaN</td>\n",
              "      <td>NaN</td>\n",
              "      <td>NaN</td>\n",
              "      <td>NaN</td>\n",
              "      <td>NaN</td>\n",
              "      <td>NaN</td>\n",
              "      <td>NaN</td>\n",
              "      <td>Best Quality Dry Fruits,Frozen Dry Fruits, Att...</td>\n",
              "      <td>Vardhaman Kochar Sadhana Kochar 9822342076</td>\n",
              "      <td>NaN</td>\n",
              "      <td>Vardhaman Kochar\\nSadhana Kochar\\n9822342076\\...</td>\n",
              "    </tr>\n",
              "    <tr>\n",
              "      <th>1</th>\n",
              "      <td>9.370237e+09</td>\n",
              "      <td>7.972465e+09</td>\n",
              "      <td>9.423777e+09</td>\n",
              "      <td>9.373558e+09</td>\n",
              "      <td>2.532460e+09</td>\n",
              "      <td>2454688.0</td>\n",
              "      <td>9.623769e+09</td>\n",
              "      <td>7.620558e+09</td>\n",
              "      <td>balajicanvassingcompany@gmail.com</td>\n",
              "      <td>NaN</td>\n",
              "      <td>NaN</td>\n",
              "      <td>Canvassing Agents in : Rice, Paddy &amp; Foodgrain...</td>\n",
              "      <td>Rice, Paddy &amp; Foodgrains</td>\n",
              "      <td>I Tarachand 9370237313 BALAJI 7972464762 CANVA...</td>\n",
              "      <td>I Tarachand\\n9370237313\\nBALAJI\\n7972464762\\n...</td>\n",
              "    </tr>\n",
              "    <tr>\n",
              "      <th>2</th>\n",
              "      <td>9.186576e+09</td>\n",
              "      <td>NaN</td>\n",
              "      <td>NaN</td>\n",
              "      <td>NaN</td>\n",
              "      <td>NaN</td>\n",
              "      <td>NaN</td>\n",
              "      <td>NaN</td>\n",
              "      <td>NaN</td>\n",
              "      <td>manan.mathur@questoffices.com</td>\n",
              "      <td>NaN</td>\n",
              "      <td>NaN</td>\n",
              "      <td>5th Floor, Technopolis Knowledge Park,Mahakali...</td>\n",
              "      <td>Quest Coworks Pvt. Ltd. 5th Floor</td>\n",
              "      <td>Manan Mathur</td>\n",
              "      <td>Manan Mathur\\nRelationship Manager - Sales\\n+...</td>\n",
              "    </tr>\n",
              "    <tr>\n",
              "      <th>3</th>\n",
              "      <td>9.188889e+09</td>\n",
              "      <td>5.210001e+09</td>\n",
              "      <td>NaN</td>\n",
              "      <td>NaN</td>\n",
              "      <td>NaN</td>\n",
              "      <td>NaN</td>\n",
              "      <td>NaN</td>\n",
              "      <td>NaN</td>\n",
              "      <td>shivament.pune@gmail.com</td>\n",
              "      <td>property.junction27@gmail.com</td>\n",
              "      <td>NaN</td>\n",
              "      <td>Maha, Rera No.: A52100008609</td>\n",
              "      <td>Rera</td>\n",
              "      <td>918888887791 shivament.pune@gmail.com property...</td>\n",
              "      <td>Help Ever Hurt Never....\\nRahul Gholap\\nManag...</td>\n",
              "    </tr>\n",
              "    <tr>\n",
              "      <th>4</th>\n",
              "      <td>9.425326e+08</td>\n",
              "      <td>9.179662e+08</td>\n",
              "      <td>NaN</td>\n",
              "      <td>NaN</td>\n",
              "      <td>NaN</td>\n",
              "      <td>NaN</td>\n",
              "      <td>NaN</td>\n",
              "      <td>NaN</td>\n",
              "      <td>tarungarg55@in.com</td>\n",
              "      <td>NaN</td>\n",
              "      <td>NaN</td>\n",
              "      <td>NAYA BAZAR, BAGHANA,Cell : 094253 25555, 09179...</td>\n",
              "      <td>NaN</td>\n",
              "      <td>AGENT</td>\n",
              "      <td>तক ई\\nतसुणम\\n1.&amp; SONS\\nCANVASING AGENT\\nNAYA ...</td>\n",
              "    </tr>\n",
              "  </tbody>\n",
              "</table>\n",
              "</div>"
            ],
            "text/plain": [
              "      p_no__001  ...                                               text\n",
              "0  9.822342e+09  ...   Vardhaman Kochar\\nSadhana Kochar\\n9822342076\\...\n",
              "1  9.370237e+09  ...   I Tarachand\\n9370237313\\nBALAJI\\n7972464762\\n...\n",
              "2  9.186576e+09  ...   Manan Mathur\\nRelationship Manager - Sales\\n+...\n",
              "3  9.188889e+09  ...   Help Ever Hurt Never....\\nRahul Gholap\\nManag...\n",
              "4  9.425326e+08  ...   तক ई\\nतसुणम\\n1.& SONS\\nCANVASING AGENT\\nNAYA ...\n",
              "\n",
              "[5 rows x 15 columns]"
            ]
          },
          "metadata": {
            "tags": []
          },
          "execution_count": 13
        }
      ]
    },
    {
      "cell_type": "code",
      "metadata": {
        "id": "LgGqS6pey78_",
        "colab_type": "code",
        "colab": {
          "base_uri": "https://localhost:8080/",
          "height": 35
        },
        "outputId": "d7e71b25-9ae8-4219-a8e0-f56c7511a490"
      },
      "source": [
        "find_email(df.person_name[3])"
      ],
      "execution_count": 20,
      "outputs": [
        {
          "output_type": "execute_result",
          "data": {
            "text/plain": [
              "['shivament.pune@gmail.com', 'property.junction27@gmail.com']"
            ]
          },
          "metadata": {
            "tags": []
          },
          "execution_count": 20
        }
      ]
    }
  ]
}
