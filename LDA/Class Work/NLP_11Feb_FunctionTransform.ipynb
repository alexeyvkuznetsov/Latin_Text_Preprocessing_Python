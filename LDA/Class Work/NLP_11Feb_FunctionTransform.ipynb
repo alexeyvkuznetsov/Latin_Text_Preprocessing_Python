{
  "nbformat": 4,
  "nbformat_minor": 0,
  "metadata": {
    "colab": {
      "name": "NLP_11Feb_FunctionTransform.ipynb",
      "provenance": [],
      "collapsed_sections": [],
      "authorship_tag": "ABX9TyPo1DvlymhXW28/mdRXqySJ",
      "include_colab_link": true
    },
    "kernelspec": {
      "name": "python3",
      "display_name": "Python 3"
    }
  },
  "cells": [
    {
      "cell_type": "markdown",
      "metadata": {
        "id": "view-in-github",
        "colab_type": "text"
      },
      "source": [
        "<a href=\"https://colab.research.google.com/github/aashu1328/Natural-language-Processing/blob/master/NLP_11Feb_FunctionTransform.ipynb\" target=\"_parent\"><img src=\"https://colab.research.google.com/assets/colab-badge.svg\" alt=\"Open In Colab\"/></a>"
      ]
    },
    {
      "cell_type": "markdown",
      "metadata": {
        "id": "AXUczYS8K0jh",
        "colab_type": "text"
      },
      "source": [
        "Wrapper function ; deploy -api- GET,POST,PUT,DELETE : get is read only :post,put,delete ->update hota hai \n",
        "1.Batch based- spark,hadoop ; create,read,update,delete-> update and read need transaction locks ->>>json to df conversion->>>ml pipeline->>> prediction->>>then convert back to json (work flow )-preprocessing can be done in any third party tool like hadoop , spark etc\n",
        "2.Stream based              "
      ]
    },
    {
      "cell_type": "markdown",
      "metadata": {
        "id": "6Mil6FFIRCPU",
        "colab_type": "text"
      },
      "source": [
        "FUNCTION TRANSFORMER "
      ]
    },
    {
      "cell_type": "code",
      "metadata": {
        "id": "863pm1pFKhmQ",
        "colab_type": "code",
        "colab": {}
      },
      "source": [
        "from sklearn.preprocessing import FunctionTransformer\n",
        "from sklearn.preprocessing import MinMaxScaler\n",
        "import numpy as np"
      ],
      "execution_count": 0,
      "outputs": []
    },
    {
      "cell_type": "code",
      "metadata": {
        "id": "4RqgxMffUQy9",
        "colab_type": "code",
        "outputId": "55e4829c-efdf-4bf1-c2d3-d5a877178aa5",
        "colab": {
          "base_uri": "https://localhost:8080/",
          "height": 52
        }
      },
      "source": [
        "transformer = FunctionTransformer(np.log1p)\n",
        "X = np.array([[0, 1], [2, 3]])\n",
        "transformer.transform(X)"
      ],
      "execution_count": 0,
      "outputs": [
        {
          "output_type": "execute_result",
          "data": {
            "text/plain": [
              "array([[0.        , 0.69314718],\n",
              "       [1.09861229, 1.38629436]])"
            ]
          },
          "metadata": {
            "tags": []
          },
          "execution_count": 8
        }
      ]
    },
    {
      "cell_type": "code",
      "metadata": {
        "id": "1ZovMxhqVL7F",
        "colab_type": "code",
        "colab": {}
      },
      "source": [
        "scaler = MinMaxScaler()\n",
        "s= scaler.fit_transform(X)"
      ],
      "execution_count": 0,
      "outputs": []
    },
    {
      "cell_type": "code",
      "metadata": {
        "id": "0N8RK1RD4XRW",
        "colab_type": "code",
        "outputId": "d5136ba5-7149-4fbc-8206-911521eefde6",
        "colab": {
          "base_uri": "https://localhost:8080/",
          "height": 52
        }
      },
      "source": [
        "print(scaler.inverse_transform(s))"
      ],
      "execution_count": 0,
      "outputs": [
        {
          "output_type": "stream",
          "text": [
            "[[0. 1.]\n",
            " [2. 3.]]\n"
          ],
          "name": "stdout"
        }
      ]
    },
    {
      "cell_type": "code",
      "metadata": {
        "id": "7xEZJko5VPxa",
        "colab_type": "code",
        "colab": {}
      },
      "source": [
        "from sklearn.base import BaseEstimator, TransformerMixin"
      ],
      "execution_count": 0,
      "outputs": []
    },
    {
      "cell_type": "code",
      "metadata": {
        "id": "IIs96iwJ30th",
        "colab_type": "code",
        "colab": {}
      },
      "source": [
        "class PostitionalSelector(BaseEstimator, TransformerMixin):\n",
        "  def __init_(self,positions):\n",
        "    self.positions = positions\n",
        "\n",
        "  def fit(self,X,y=None): \n",
        "    return\n",
        "\n",
        "  def transform(self,X):\n",
        "    return np.array(X)[:self.positions]\n",
        "\n",
        "  def inverse_transform(X):\n",
        "    return X"
      ],
      "execution_count": 0,
      "outputs": []
    },
    {
      "cell_type": "code",
      "metadata": {
        "id": "YwtVGEG234jD",
        "colab_type": "code",
        "colab": {}
      },
      "source": [
        "class Min_Max_Scaler(BaseEstimator, TransformerMixin):\n",
        "      def __init_(self):\n",
        "         def fit(self,X,y=None): #logic to exlude Y column if entire dataframe is passed\n",
        "           return\n",
        "\n",
        "         def transform(self,X):\n",
        "           return np.array(X)[:self.positions]"
      ],
      "execution_count": 0,
      "outputs": []
    },
    {
      "cell_type": "code",
      "metadata": {
        "id": "YSJ-7nl13-hO",
        "colab_type": "code",
        "colab": {}
      },
      "source": [
        ""
      ],
      "execution_count": 0,
      "outputs": []
    }
  ]
}
