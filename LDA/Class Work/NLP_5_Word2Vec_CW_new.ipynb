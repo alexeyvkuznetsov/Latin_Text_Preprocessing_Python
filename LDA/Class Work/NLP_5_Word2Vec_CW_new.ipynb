{
  "nbformat": 4,
  "nbformat_minor": 0,
  "metadata": {
    "kernelspec": {
      "display_name": "Python 3",
      "language": "python",
      "name": "python3"
    },
    "language_info": {
      "codemirror_mode": {
        "name": "ipython",
        "version": 3
      },
      "file_extension": ".py",
      "mimetype": "text/x-python",
      "name": "python",
      "nbconvert_exporter": "python",
      "pygments_lexer": "ipython3",
      "version": "3.7.3"
    },
    "colab": {
      "name": "NLP_5_Word2Vec_CW_new.ipynb",
      "provenance": [],
      "collapsed_sections": [],
      "include_colab_link": true
    }
  },
  "cells": [
    {
      "cell_type": "markdown",
      "metadata": {
        "id": "view-in-github",
        "colab_type": "text"
      },
      "source": [
        "<a href=\"https://colab.research.google.com/github/aashu1328/Natural-language-Processing/blob/master/NLP_5_Word2Vec_CW_new.ipynb\" target=\"_parent\"><img src=\"https://colab.research.google.com/assets/colab-badge.svg\" alt=\"Open In Colab\"/></a>"
      ]
    },
    {
      "cell_type": "code",
      "metadata": {
        "id": "B7R2vGJguQcD",
        "colab_type": "code",
        "outputId": "c0b82ff2-ef9e-439d-881b-27a36534a253",
        "colab": {
          "base_uri": "https://localhost:8080/",
          "height": 84
        }
      },
      "source": [
        "#pip install gensim\n",
        "from gensim.models import Word2Vec\n",
        "#import gensim.downloader as api\n",
        "from nltk.corpus import stopwords\n",
        "from nltk.tokenize import word_tokenize\n",
        "import nltk\n",
        "import gensim\n",
        "nltk.download('stopwords')\n",
        "nltk.download('punkt')\n",
        "from string import digits "
      ],
      "execution_count": 0,
      "outputs": [
        {
          "output_type": "stream",
          "text": [
            "[nltk_data] Downloading package stopwords to /root/nltk_data...\n",
            "[nltk_data]   Unzipping corpora/stopwords.zip.\n",
            "[nltk_data] Downloading package punkt to /root/nltk_data...\n",
            "[nltk_data]   Unzipping tokenizers/punkt.zip.\n"
          ],
          "name": "stdout"
        }
      ]
    },
    {
      "cell_type": "code",
      "metadata": {
        "id": "RzxmduknuQcJ",
        "colab_type": "code",
        "colab": {}
      },
      "source": [
        "import pandas as pd \n",
        "data=pd.read_json(\"http://snap.stanford.edu/data/amazon/productGraph/categoryFiles/reviews_Office_Products_5.json.gz\",lines= True,orient='values')"
      ],
      "execution_count": 0,
      "outputs": []
    },
    {
      "cell_type": "code",
      "metadata": {
        "id": "XfuOYsv32CjS",
        "colab_type": "code",
        "outputId": "5a22f1bc-f594-4189-ab99-5448738949e5",
        "colab": {
          "base_uri": "https://localhost:8080/",
          "height": 1000
        }
      },
      "source": [
        "sent"
      ],
      "execution_count": 0,
      "outputs": [
        {
          "output_type": "execute_result",
          "data": {
            "text/plain": [
              "['I',\n",
              " 'bought',\n",
              " 'my',\n",
              " 'first',\n",
              " 'HP12C',\n",
              " 'in',\n",
              " 'about',\n",
              " '1984',\n",
              " 'or',\n",
              " 'so,',\n",
              " 'and',\n",
              " 'it',\n",
              " 'served',\n",
              " 'me',\n",
              " 'faithfully',\n",
              " 'until',\n",
              " '2002',\n",
              " 'when',\n",
              " 'I',\n",
              " 'lost',\n",
              " 'it',\n",
              " 'while',\n",
              " 'travelling.',\n",
              " 'I',\n",
              " 'searched',\n",
              " 'for',\n",
              " 'another',\n",
              " 'one',\n",
              " 'to',\n",
              " 'replace',\n",
              " 'it,',\n",
              " 'but',\n",
              " 'found',\n",
              " 'one',\n",
              " 'difficult',\n",
              " 'to',\n",
              " 'come',\n",
              " 'by',\n",
              " 'in',\n",
              " 'my',\n",
              " 'area.',\n",
              " 'So,',\n",
              " 'I',\n",
              " 'decided',\n",
              " 'to',\n",
              " 'buy',\n",
              " 'up',\n",
              " 'and',\n",
              " 'purchased',\n",
              " 'an',\n",
              " 'HP',\n",
              " '49G.',\n",
              " 'What',\n",
              " 'a',\n",
              " 'mistake!',\n",
              " 'I',\n",
              " 'know',\n",
              " 'that',\n",
              " 'many',\n",
              " 'people',\n",
              " 'view',\n",
              " 'the',\n",
              " 'HP',\n",
              " '49G',\n",
              " '(now',\n",
              " '49G+)',\n",
              " 'as',\n",
              " 'the',\n",
              " 'flagship',\n",
              " 'of',\n",
              " 'the',\n",
              " 'HP',\n",
              " 'line,',\n",
              " 'but',\n",
              " 'for',\n",
              " 'me',\n",
              " 'that',\n",
              " 'was',\n",
              " 'a',\n",
              " 'disaster.The',\n",
              " '49G',\n",
              " 'may',\n",
              " 'be',\n",
              " 'powerful,',\n",
              " 'but',\n",
              " 'using',\n",
              " 'it',\n",
              " 'is',\n",
              " 'extremely',\n",
              " 'counterintuitive...and',\n",
              " 'the',\n",
              " 'manual',\n",
              " 'was',\n",
              " 'sketchy',\n",
              " 'at',\n",
              " 'best.',\n",
              " 'The',\n",
              " '12C,',\n",
              " 'on',\n",
              " 'the',\n",
              " 'other',\n",
              " 'hand,',\n",
              " 'does',\n",
              " 'what',\n",
              " 'I',\n",
              " 'need',\n",
              " 'in',\n",
              " 'a',\n",
              " 'way',\n",
              " 'that',\n",
              " 'makes',\n",
              " 'good',\n",
              " 'sense',\n",
              " 'to',\n",
              " 'me.If',\n",
              " 'you',\n",
              " 'are',\n",
              " 'looking',\n",
              " 'for',\n",
              " 'a',\n",
              " 'solid,',\n",
              " 'reliable',\n",
              " 'calculator,',\n",
              " 'the',\n",
              " 'HP12C',\n",
              " 'may',\n",
              " 'be',\n",
              " 'for',\n",
              " 'you.',\n",
              " \"It's\",\n",
              " 'programmable.',\n",
              " 'It',\n",
              " 'does',\n",
              " 'basic',\n",
              " 'statistics',\n",
              " 'well,',\n",
              " 'and',\n",
              " 'many',\n",
              " 'business',\n",
              " 'applications',\n",
              " 'too.',\n",
              " 'The',\n",
              " 'manual',\n",
              " 'makes',\n",
              " 'sense;',\n",
              " 'you',\n",
              " 'will',\n",
              " 'be',\n",
              " 'up',\n",
              " 'and',\n",
              " 'running',\n",
              " 'in',\n",
              " 'short',\n",
              " \"order.I'm\",\n",
              " 'ready',\n",
              " 'to',\n",
              " 'set',\n",
              " 'my',\n",
              " '49G',\n",
              " 'aside',\n",
              " 'and',\n",
              " 'move',\n",
              " 'back',\n",
              " 'to',\n",
              " 'my',\n",
              " 'old',\n",
              " 'friend.',\n",
              " 'I',\n",
              " \"didn't\",\n",
              " 'even',\n",
              " 'have',\n",
              " 'to',\n",
              " 'replace',\n",
              " 'the',\n",
              " 'batteries',\n",
              " 'in',\n",
              " 'well',\n",
              " 'over',\n",
              " 'a',\n",
              " 'decade',\n",
              " 'of',\n",
              " 'use!HP',\n",
              " '12C,',\n",
              " \"I'm\",\n",
              " 'coming',\n",
              " 'home!']"
            ]
          },
          "metadata": {
            "tags": []
          },
          "execution_count": 56
        }
      ]
    },
    {
      "cell_type": "code",
      "metadata": {
        "id": "26AT0b6MuQcN",
        "colab_type": "code",
        "outputId": "5fbf4c32-02b2-4699-e42b-10f92b490e02",
        "colab": {
          "base_uri": "https://localhost:8080/",
          "height": 54
        }
      },
      "source": [
        "sent = data.reviewText[0].split()\n",
        "stop_words = stopwords.words('english') \n",
        "#word_tokens = word_tokenize(sent)\n",
        "punctuation=\",;-!:'{}|[]?/><()\"\n",
        "filtered_sentence = ' '.join([w for w in sent if w not in stop_words])\n",
        "for w in filtered_sentence.split():\n",
        "  if w in list(punctuation):\n",
        "    filtered_sentence2 =filtered_sentence.replace(w,'')  \n",
        "  elif w=='.':\n",
        "    filtered_sentence2 =filtered_sentence.replace(w,'  ')\n",
        "print(filtered_sentence2) "
      ],
      "execution_count": 0,
      "outputs": [
        {
          "output_type": "stream",
          "text": [
            "I bought first HP12C 1984 so served faithfully 2002 I lost travelling I searched another one replace it found one difficult come area So I decided buy purchased HP 49G What mistake I know many people view HP 49G now 49G+ flagship HP line disasterThe 49G may powerful using extremely counterintuitiveand manual sketchy best The 12C hand I need way makes good sense meIf looking solid reliable calculator HP12C may you Its programmable It basic statistics well many business applications too The manual makes sense running short orderIm ready set 49G aside move back old friend I even replace batteries well decade useHP 12C Im coming home\n"
          ],
          "name": "stdout"
        }
      ]
    },
    {
      "cell_type": "code",
      "metadata": {
        "id": "zVMN6HzwuQcQ",
        "colab_type": "code",
        "colab": {}
      },
      "source": [
        "final = list(set(filtered_sentence2.split()))"
      ],
      "execution_count": 0,
      "outputs": []
    },
    {
      "cell_type": "code",
      "metadata": {
        "id": "ntbiwh076hM0",
        "colab_type": "code",
        "outputId": "2b4225b9-ecbf-4cca-9565-d3ee533be4f4",
        "colab": {
          "base_uri": "https://localhost:8080/",
          "height": 1000
        }
      },
      "source": [
        "final"
      ],
      "execution_count": 0,
      "outputs": [
        {
          "output_type": "execute_result",
          "data": {
            "text/plain": [
              "['mistake',\n",
              " 'The',\n",
              " 'need',\n",
              " '49G',\n",
              " 'may',\n",
              " 'HP12C',\n",
              " 'manual',\n",
              " 'served',\n",
              " 'friend',\n",
              " 'It',\n",
              " 'disasterThe',\n",
              " 'orderIm',\n",
              " 'replace',\n",
              " 'counterintuitiveand',\n",
              " 'so',\n",
              " 'programmable',\n",
              " 'coming',\n",
              " 'it',\n",
              " 'know',\n",
              " 'even',\n",
              " 'bought',\n",
              " 'business',\n",
              " 'people',\n",
              " 'decade',\n",
              " 'found',\n",
              " '2002',\n",
              " 'flagship',\n",
              " 'useHP',\n",
              " 'sense',\n",
              " 'old',\n",
              " 'HP',\n",
              " 'way',\n",
              " 'I',\n",
              " 'reliable',\n",
              " 'view',\n",
              " 'aside',\n",
              " 'one',\n",
              " 'home',\n",
              " 'short',\n",
              " 'now',\n",
              " 'you',\n",
              " 'meIf',\n",
              " 'travelling',\n",
              " 'Its',\n",
              " 'area',\n",
              " 'searched',\n",
              " 'Im',\n",
              " 'come',\n",
              " 'ready',\n",
              " 'faithfully',\n",
              " 'batteries',\n",
              " 'many',\n",
              " 'buy',\n",
              " '49G+',\n",
              " 'solid',\n",
              " '1984',\n",
              " 'So',\n",
              " 'another',\n",
              " 'powerful',\n",
              " 'best',\n",
              " 'decided',\n",
              " 'back',\n",
              " 'looking',\n",
              " '12C',\n",
              " 'good',\n",
              " 'What',\n",
              " 'move',\n",
              " 'line',\n",
              " 'statistics',\n",
              " 'set',\n",
              " 'hand',\n",
              " 'difficult',\n",
              " 'sketchy',\n",
              " 'lost',\n",
              " 'too',\n",
              " 'using',\n",
              " 'basic',\n",
              " 'extremely',\n",
              " 'applications',\n",
              " 'purchased',\n",
              " 'makes',\n",
              " 'first',\n",
              " 'well',\n",
              " 'calculator',\n",
              " 'running']"
            ]
          },
          "metadata": {
            "tags": []
          },
          "execution_count": 70
        }
      ]
    },
    {
      "cell_type": "code",
      "metadata": {
        "id": "-OvnQ-4LuQcT",
        "colab_type": "code",
        "colab": {}
      },
      "source": [
        "bagofwords = [[i] for i in final]\n",
        "model3 = Word2Vec(list(bagofwords), min_count=1,size= 50,workers=3, window =3, sg = 1)"
      ],
      "execution_count": 0,
      "outputs": []
    },
    {
      "cell_type": "code",
      "metadata": {
        "id": "a1kH8h_O6aYK",
        "colab_type": "code",
        "outputId": "3b9ddcac-d823-4934-de42-a088c7542a2a",
        "colab": {
          "base_uri": "https://localhost:8080/",
          "height": 1000
        }
      },
      "source": [
        "bagofwords"
      ],
      "execution_count": 0,
      "outputs": [
        {
          "output_type": "execute_result",
          "data": {
            "text/plain": [
              "[['mistake'],\n",
              " ['The'],\n",
              " ['need'],\n",
              " ['49G'],\n",
              " ['may'],\n",
              " ['HP12C'],\n",
              " ['manual'],\n",
              " ['served'],\n",
              " ['friend'],\n",
              " ['It'],\n",
              " ['disasterThe'],\n",
              " ['orderIm'],\n",
              " ['replace'],\n",
              " ['counterintuitiveand'],\n",
              " ['so'],\n",
              " ['programmable'],\n",
              " ['coming'],\n",
              " ['it'],\n",
              " ['know'],\n",
              " ['even'],\n",
              " ['bought'],\n",
              " ['business'],\n",
              " ['people'],\n",
              " ['decade'],\n",
              " ['found'],\n",
              " ['2002'],\n",
              " ['flagship'],\n",
              " ['useHP'],\n",
              " ['sense'],\n",
              " ['old'],\n",
              " ['HP'],\n",
              " ['way'],\n",
              " ['I'],\n",
              " ['reliable'],\n",
              " ['view'],\n",
              " ['aside'],\n",
              " ['one'],\n",
              " ['home'],\n",
              " ['short'],\n",
              " ['now'],\n",
              " ['you'],\n",
              " ['meIf'],\n",
              " ['travelling'],\n",
              " ['Its'],\n",
              " ['area'],\n",
              " ['searched'],\n",
              " ['Im'],\n",
              " ['come'],\n",
              " ['ready'],\n",
              " ['faithfully'],\n",
              " ['batteries'],\n",
              " ['many'],\n",
              " ['buy'],\n",
              " ['49G+'],\n",
              " ['solid'],\n",
              " ['1984'],\n",
              " ['So'],\n",
              " ['another'],\n",
              " ['powerful'],\n",
              " ['best'],\n",
              " ['decided'],\n",
              " ['back'],\n",
              " ['looking'],\n",
              " ['12C'],\n",
              " ['good'],\n",
              " ['What'],\n",
              " ['move'],\n",
              " ['line'],\n",
              " ['statistics'],\n",
              " ['set'],\n",
              " ['hand'],\n",
              " ['difficult'],\n",
              " ['sketchy'],\n",
              " ['lost'],\n",
              " ['too'],\n",
              " ['using'],\n",
              " ['basic'],\n",
              " ['extremely'],\n",
              " ['applications'],\n",
              " ['purchased'],\n",
              " ['makes'],\n",
              " ['first'],\n",
              " ['well'],\n",
              " ['calculator'],\n",
              " ['running']]"
            ]
          },
          "metadata": {
            "tags": []
          },
          "execution_count": 74
        }
      ]
    },
    {
      "cell_type": "code",
      "metadata": {
        "id": "nzRu8trruQcW",
        "colab_type": "code",
        "outputId": "a7ef83a2-187a-4fba-a871-de587d94788a",
        "colab": {
          "base_uri": "https://localhost:8080/",
          "height": 843
        }
      },
      "source": [
        "vocabulary = model3.wv.vocab\n",
        "print(vocabulary)\n",
        "for i in bagofwords[0:10]: #taking smaller sample of words for ease of computing\n",
        "  for j in bagofwords[0:10]:\n",
        "    if j>i:\n",
        "      print(i[0],j[0],' : ',model3.wv.similarity(i[0],j[0]))\n",
        "    else:\n",
        "      continue"
      ],
      "execution_count": 0,
      "outputs": [
        {
          "output_type": "stream",
          "text": [
            "{'mistake': <gensim.models.keyedvectors.Vocab object at 0x7f0c8f0ec978>, 'The': <gensim.models.keyedvectors.Vocab object at 0x7f0c8f116518>, 'need': <gensim.models.keyedvectors.Vocab object at 0x7f0c8f0d8cc0>, '49G': <gensim.models.keyedvectors.Vocab object at 0x7f0c8f0d8cf8>, 'may': <gensim.models.keyedvectors.Vocab object at 0x7f0c8f0d8c88>, 'HP12C': <gensim.models.keyedvectors.Vocab object at 0x7f0c8f0d8e80>, 'manual': <gensim.models.keyedvectors.Vocab object at 0x7f0c8f0d8ac8>, 'served': <gensim.models.keyedvectors.Vocab object at 0x7f0c8f0d8ba8>, 'friend': <gensim.models.keyedvectors.Vocab object at 0x7f0c8f0d8f60>, 'It': <gensim.models.keyedvectors.Vocab object at 0x7f0c8f0d8a58>, 'disasterThe': <gensim.models.keyedvectors.Vocab object at 0x7f0c8f0d8c50>, 'orderIm': <gensim.models.keyedvectors.Vocab object at 0x7f0c8f0cec18>, 'replace': <gensim.models.keyedvectors.Vocab object at 0x7f0c8f0ceef0>, 'counterintuitiveand': <gensim.models.keyedvectors.Vocab object at 0x7f0c8f0ceda0>, 'so': <gensim.models.keyedvectors.Vocab object at 0x7f0c8f0ceeb8>, 'programmable': <gensim.models.keyedvectors.Vocab object at 0x7f0c8f0cedd8>, 'coming': <gensim.models.keyedvectors.Vocab object at 0x7f0c8f0ced30>, 'it': <gensim.models.keyedvectors.Vocab object at 0x7f0c8f0ced68>, 'know': <gensim.models.keyedvectors.Vocab object at 0x7f0c8f0ce3c8>, 'even': <gensim.models.keyedvectors.Vocab object at 0x7f0c8f0cee80>, 'bought': <gensim.models.keyedvectors.Vocab object at 0x7f0c8f0ce358>, 'business': <gensim.models.keyedvectors.Vocab object at 0x7f0c8f0ce588>, 'people': <gensim.models.keyedvectors.Vocab object at 0x7f0c8f0cecc0>, 'decade': <gensim.models.keyedvectors.Vocab object at 0x7f0c8f0cec88>, 'found': <gensim.models.keyedvectors.Vocab object at 0x7f0c8f0ceb38>, '2002': <gensim.models.keyedvectors.Vocab object at 0x7f0c8f0cee10>, 'flagship': <gensim.models.keyedvectors.Vocab object at 0x7f0c8f0cef98>, 'useHP': <gensim.models.keyedvectors.Vocab object at 0x7f0c8f0cef60>, 'sense': <gensim.models.keyedvectors.Vocab object at 0x7f0c8f0cefd0>, 'old': <gensim.models.keyedvectors.Vocab object at 0x7f0c8f0ce780>, 'HP': <gensim.models.keyedvectors.Vocab object at 0x7f0c8f0ce518>, 'way': <gensim.models.keyedvectors.Vocab object at 0x7f0c8f0ce8d0>, 'I': <gensim.models.keyedvectors.Vocab object at 0x7f0c8f0ce908>, 'reliable': <gensim.models.keyedvectors.Vocab object at 0x7f0c8f0ce160>, 'view': <gensim.models.keyedvectors.Vocab object at 0x7f0c8f0ce710>, 'aside': <gensim.models.keyedvectors.Vocab object at 0x7f0c8f0ce6d8>, 'one': <gensim.models.keyedvectors.Vocab object at 0x7f0c8f0ce208>, 'home': <gensim.models.keyedvectors.Vocab object at 0x7f0c8f0ce4e0>, 'short': <gensim.models.keyedvectors.Vocab object at 0x7f0c8f0ce4a8>, 'now': <gensim.models.keyedvectors.Vocab object at 0x7f0c8f0ce550>, 'you': <gensim.models.keyedvectors.Vocab object at 0x7f0c8f0ce320>, 'meIf': <gensim.models.keyedvectors.Vocab object at 0x7f0c8f0ce630>, 'travelling': <gensim.models.keyedvectors.Vocab object at 0x7f0c8f0ce240>, 'Its': <gensim.models.keyedvectors.Vocab object at 0x7f0c8f0ce470>, 'area': <gensim.models.keyedvectors.Vocab object at 0x7f0c8f12f080>, 'searched': <gensim.models.keyedvectors.Vocab object at 0x7f0c8f12f208>, 'Im': <gensim.models.keyedvectors.Vocab object at 0x7f0c8f12f1d0>, 'come': <gensim.models.keyedvectors.Vocab object at 0x7f0c8f12f198>, 'ready': <gensim.models.keyedvectors.Vocab object at 0x7f0c8f12f160>, 'faithfully': <gensim.models.keyedvectors.Vocab object at 0x7f0c8f12f358>, 'batteries': <gensim.models.keyedvectors.Vocab object at 0x7f0c8f12f320>, 'many': <gensim.models.keyedvectors.Vocab object at 0x7f0c8f12f2e8>, 'buy': <gensim.models.keyedvectors.Vocab object at 0x7f0c8f12f278>, '49G+': <gensim.models.keyedvectors.Vocab object at 0x7f0c8f0e5fd0>, 'solid': <gensim.models.keyedvectors.Vocab object at 0x7f0c8f0e5240>, '1984': <gensim.models.keyedvectors.Vocab object at 0x7f0c8f0e53c8>, 'So': <gensim.models.keyedvectors.Vocab object at 0x7f0c8f0e5ef0>, 'another': <gensim.models.keyedvectors.Vocab object at 0x7f0c8f0e5278>, 'powerful': <gensim.models.keyedvectors.Vocab object at 0x7f0c8f0e5f28>, 'best': <gensim.models.keyedvectors.Vocab object at 0x7f0c8f0e50f0>, 'decided': <gensim.models.keyedvectors.Vocab object at 0x7f0c8f0e5400>, 'back': <gensim.models.keyedvectors.Vocab object at 0x7f0c8f0e50b8>, 'looking': <gensim.models.keyedvectors.Vocab object at 0x7f0c8f0e5390>, '12C': <gensim.models.keyedvectors.Vocab object at 0x7f0c8f0e5358>, 'good': <gensim.models.keyedvectors.Vocab object at 0x7f0c8f0e54e0>, 'What': <gensim.models.keyedvectors.Vocab object at 0x7f0c8f0e54a8>, 'move': <gensim.models.keyedvectors.Vocab object at 0x7f0c8f0e5470>, 'line': <gensim.models.keyedvectors.Vocab object at 0x7f0c8f0e5438>, 'statistics': <gensim.models.keyedvectors.Vocab object at 0x7f0c8f0e55c0>, 'set': <gensim.models.keyedvectors.Vocab object at 0x7f0c8f0e5588>, 'hand': <gensim.models.keyedvectors.Vocab object at 0x7f0c8f0e5550>, 'difficult': <gensim.models.keyedvectors.Vocab object at 0x7f0c8f0e5518>, 'sketchy': <gensim.models.keyedvectors.Vocab object at 0x7f0c8f0e56a0>, 'lost': <gensim.models.keyedvectors.Vocab object at 0x7f0c8f0e5668>, 'too': <gensim.models.keyedvectors.Vocab object at 0x7f0c8f0e5630>, 'using': <gensim.models.keyedvectors.Vocab object at 0x7f0c8f0e55f8>, 'basic': <gensim.models.keyedvectors.Vocab object at 0x7f0c8f0e5780>, 'extremely': <gensim.models.keyedvectors.Vocab object at 0x7f0c8f0e5748>, 'applications': <gensim.models.keyedvectors.Vocab object at 0x7f0c8f0e5710>, 'purchased': <gensim.models.keyedvectors.Vocab object at 0x7f0c8f0e56d8>, 'makes': <gensim.models.keyedvectors.Vocab object at 0x7f0c8f0e5860>, 'first': <gensim.models.keyedvectors.Vocab object at 0x7f0c8f0e5828>, 'well': <gensim.models.keyedvectors.Vocab object at 0x7f0c8f0e57f0>, 'calculator': <gensim.models.keyedvectors.Vocab object at 0x7f0c8f0e57b8>, 'running': <gensim.models.keyedvectors.Vocab object at 0x7f0c8f0e5940>}\n",
            "mistake need  :  -0.2570709\n",
            "mistake served  :  -0.114951454\n",
            "The mistake  :  0.0282244\n",
            "The need  :  0.014946323\n",
            "The may  :  -0.14826597\n",
            "The manual  :  0.12023819\n",
            "The served  :  0.005613196\n",
            "The friend  :  -0.06771823\n",
            "need served  :  0.23295057\n",
            "49G mistake  :  -0.015206642\n",
            "49G The  :  -0.05758929\n",
            "49G need  :  0.13259883\n",
            "49G may  :  0.23110342\n",
            "49G HP12C  :  -0.052832186\n",
            "49G manual  :  -0.027188497\n",
            "49G served  :  0.17856151\n",
            "49G friend  :  -0.010859767\n",
            "49G It  :  0.15174906\n",
            "may mistake  :  0.17556717\n",
            "may need  :  -0.21028805\n",
            "may served  :  0.12914178\n",
            "HP12C mistake  :  0.14759399\n",
            "HP12C The  :  0.042444326\n",
            "HP12C need  :  -0.13841009\n",
            "HP12C may  :  0.16014752\n",
            "HP12C manual  :  -0.3035731\n",
            "HP12C served  :  -0.10032786\n",
            "HP12C friend  :  0.26343167\n",
            "HP12C It  :  -0.039256655\n",
            "manual mistake  :  0.078297466\n",
            "manual need  :  -0.052643627\n",
            "manual may  :  0.108892925\n",
            "manual served  :  -0.05322953\n",
            "friend mistake  :  -0.13690875\n",
            "friend need  :  -0.147489\n",
            "friend may  :  -0.029011616\n",
            "friend manual  :  -0.06561466\n",
            "friend served  :  -0.055375602\n",
            "It mistake  :  -0.12872007\n",
            "It The  :  0.10021181\n",
            "It need  :  0.11087948\n",
            "It may  :  -0.018152364\n",
            "It manual  :  0.012150859\n",
            "It served  :  -0.048148695\n",
            "It friend  :  -0.16724989\n"
          ],
          "name": "stdout"
        },
        {
          "output_type": "stream",
          "text": [
            "/usr/local/lib/python3.6/dist-packages/gensim/matutils.py:737: FutureWarning: Conversion of the second argument of issubdtype from `int` to `np.signedinteger` is deprecated. In future, it will be treated as `np.int64 == np.dtype(int).type`.\n",
            "  if np.issubdtype(vec.dtype, np.int):\n"
          ],
          "name": "stderr"
        }
      ]
    },
    {
      "cell_type": "code",
      "metadata": {
        "id": "6CDwxQk7uQcZ",
        "colab_type": "code",
        "colab": {}
      },
      "source": [
        ""
      ],
      "execution_count": 0,
      "outputs": []
    }
  ]
}
