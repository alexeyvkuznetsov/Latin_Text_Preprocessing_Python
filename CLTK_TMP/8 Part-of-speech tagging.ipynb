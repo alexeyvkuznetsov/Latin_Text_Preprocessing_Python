{
 "cells": [
  {
   "cell_type": "markdown",
   "metadata": {},
   "source": [
    "# Latin\n",
    "\n",
    "For Latin POS tags, see https://github.com/cltk/latin_treebank_perseus."
   ]
  },
  {
   "cell_type": "code",
   "execution_count": 16,
   "metadata": {},
   "outputs": [],
   "source": [
    "aen = \"\"\"arma virumque cano, Troiae qui primus ab oris\n",
    "Italiam, fato profugus, Laviniaque venit\n",
    "litora, multum ille et terris iactatus et alto\n",
    "vi superum saevae memorem Iunonis ob iram;\n",
    "multa quoque et bello passus, dum conderet urbem,               5\n",
    "inferretque deos Latio, genus unde Latinum,\n",
    "Albanique patres, atque altae moenia Romae.\"\"\"\n",
    "\n",
    "# rm line breaks\n",
    "aen = aen.replace('\\n',' ')"
   ]
  },
  {
   "cell_type": "code",
   "execution_count": 17,
   "metadata": {},
   "outputs": [
    {
     "name": "stdout",
     "output_type": "stream",
     "text": [
      "arma virumque cano, Troiae qui primus ab oris Italiam, fato profugus, Laviniaque venit litora, multum ille et terris iactatus et alto vi superum saevae memorem Iunonis ob iram; multa quoque et bello passus, dum conderet urbem,               5 inferretque deos Latio, genus unde Latinum, Albanique patres, atque altae moenia Romae.\n"
     ]
    }
   ],
   "source": [
    "print(aen)"
   ]
  },
  {
   "cell_type": "code",
   "execution_count": 18,
   "metadata": {},
   "outputs": [],
   "source": [
    "from cltk.tag.pos import POSTag"
   ]
  },
  {
   "cell_type": "code",
   "execution_count": 19,
   "metadata": {},
   "outputs": [],
   "source": [
    "tagger = POSTag('latin')\n",
    "aen_tagged = tagger.tag_ngram_123_backoff(aen)"
   ]
  },
  {
   "cell_type": "code",
   "execution_count": 20,
   "metadata": {},
   "outputs": [
    {
     "name": "stdout",
     "output_type": "stream",
     "text": [
      "[('arma', 'N-P---NA-'), ('virumque', None), ('cano', None), (',', 'U--------'), ('Troiae', None), ('qui', 'P-S---MN-'), ('primus', 'A-S---MN-'), ('ab', 'R--------'), ('oris', 'N-P---NB-'), ('Italiam', None), (',', 'U--------'), ('fato', None), ('profugus', None), (',', 'U--------'), ('Laviniaque', None), ('venit', 'V3SPIA---'), ('litora', 'N-P---NA-'), (',', 'U--------'), ('multum', 'A-S---MA-'), ('ille', 'P-S---MN-'), ('et', 'C--------'), ('terris', 'N-P---FB-'), ('iactatus', None), ('et', 'C--------'), ('alto', 'A-S---MB-'), ('vi', 'N-S---FB-'), ('superum', 'N-P---MG-'), ('saevae', None), ('memorem', 'V1SPSA---'), ('Iunonis', None), ('ob', 'R--------'), ('iram', 'N-S---FA-'), (';', None), ('multa', 'A-P---NA-'), ('quoque', 'D--------'), ('et', 'C--------'), ('bello', 'N-S---NB-'), ('passus', 'N-P---MA-'), (',', 'U--------'), ('dum', 'C--------'), ('conderet', None), ('urbem', 'N-S---FA-'), (',', 'U--------'), ('5', None), ('inferretque', None), ('deos', 'N-P---MA-'), ('Latio', None), (',', 'U--------'), ('genus', 'N-S---NN-'), ('unde', 'D--------'), ('Latinum', None), (',', 'U--------'), ('Albanique', None), ('patres', 'N-P---MV-'), (',', 'U--------'), ('atque', 'C--------'), ('altae', None), ('moenia', 'N-P---NA-'), ('Romae', None), ('.', 'U--------')]\n"
     ]
    }
   ],
   "source": [
    "print(aen_tagged)"
   ]
  },
  {
   "cell_type": "code",
   "execution_count": 21,
   "metadata": {},
   "outputs": [],
   "source": [
    "# There are options, as the following\n",
    "\n",
    "aen_tagged = tagger.tag_crf('Gallia est omnis divisa in partes tres')"
   ]
  },
  {
   "cell_type": "code",
   "execution_count": 7,
   "metadata": {
    "scrolled": false
   },
   "outputs": [
    {
     "name": "stdout",
     "output_type": "stream",
     "text": [
      "[('Gallia', 'A-P---NA-'), ('est', 'V3SPIA---'), ('omnis', 'A-S---FN-'), ('divisa', 'N-S---FN-'), ('in', 'R--------'), ('partes', 'N-P---FA-'), ('tres', 'M--------')]\n"
     ]
    }
   ],
   "source": [
    "print(aen_tagged)"
   ]
  },
  {
   "cell_type": "markdown",
   "metadata": {},
   "source": [
    "# Greek\n",
    "\n",
    "For Greek POS tags, see https://github.com/cltk/greek_treebank_perseus."
   ]
  },
  {
   "cell_type": "code",
   "execution_count": 9,
   "metadata": {},
   "outputs": [],
   "source": [
    "athenaeus = \"Ἀθήναιος μὲν ὁ τῆς βίβλου πατήρ· ποιεῖται δὲ τὸν λόγον πρὸς Τιμοκράτην· Δειπνοσοφιστὴς δὲ ταύτῃ τὸ ὄνομα. Ὑπόκειται δὲ τῷ λόγῳ Λαρήνσιος Ῥωμαῖος, ἀνὴρ τῇ τύχῃ περιφανής, τοὺς κατὰ πᾶσαν παιδείαν ἐμπειροτάτους ἐν αὑτοῦ δαιτυμόνας ποιούμενος·\""
   ]
  },
  {
   "cell_type": "code",
   "execution_count": 10,
   "metadata": {},
   "outputs": [
    {
     "name": "stdout",
     "output_type": "stream",
     "text": [
      "[('Ἀθήναιος', 'Unk'), ('μὲν', 'G--------'), ('ὁ', 'L-S---MN-'), ('τῆς', 'L-S---FG-'), ('βίβλου', 'Unk'), ('πατήρ', 'N-S---MN-'), ('·', 'U--------'), ('ποιεῖται', 'V3SPIE---'), ('δὲ', 'G--------'), ('τὸν', 'P-S---MA-'), ('λόγον', 'N-S---MA-'), ('πρὸς', 'R--------'), ('Τιμοκράτην', 'Unk'), ('·', 'U--------'), ('Δειπνοσοφιστὴς', 'Unk'), ('δὲ', 'G--------'), ('ταύτῃ', 'D--------'), ('τὸ', 'L-S---NN-'), ('ὄνομα', 'N-S---NN-'), ('.', 'U--------'), ('Ὑπόκειται', 'Unk'), ('δὲ', 'G--------'), ('τῷ', 'L-S---MD-'), ('λόγῳ', 'N-S---MD-'), ('Λαρήνσιος', 'Unk'), ('Ῥωμαῖος', 'Unk'), (',', 'U--------'), ('ἀνὴρ', 'N-S---MN-'), ('τῇ', 'L-S---FD-'), ('τύχῃ', 'N-S---FD-'), ('περιφανής', 'Unk'), (',', 'U--------'), ('τοὺς', 'P-P---MA-'), ('κατὰ', 'R--------'), ('πᾶσαν', 'A-S---FA-'), ('παιδείαν', 'Unk'), ('ἐμπειροτάτους', 'Unk'), ('ἐν', 'R--------'), ('αὑτοῦ', 'A-S---MG-'), ('δαιτυμόνας', 'N-P---MA-'), ('ποιούμενος', 'T-SPPEMN-'), ('·', 'U--------')]\n"
     ]
    }
   ],
   "source": [
    "from cltk.tag.pos import POSTag\n",
    "tagger = POSTag('greek')\n",
    "\n",
    "# Using another tagger\n",
    "\n",
    "athenaeus_tagged = tagger.tag_tnt(athenaeus)\n",
    "print(athenaeus_tagged)"
   ]
  }
 ],
 "metadata": {
  "kernelspec": {
   "display_name": "Python 3",
   "language": "python",
   "name": "python3"
  },
  "language_info": {
   "codemirror_mode": {
    "name": "ipython",
    "version": 3
   },
   "file_extension": ".py",
   "mimetype": "text/x-python",
   "name": "python",
   "nbconvert_exporter": "python",
   "pygments_lexer": "ipython3",
   "version": "3.6.5"
  }
 },
 "nbformat": 4,
 "nbformat_minor": 2
}
