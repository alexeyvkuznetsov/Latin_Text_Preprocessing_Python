{
 "cells": [
  {
   "cell_type": "code",
   "execution_count": 1,
   "metadata": {
    "collapsed": true
   },
   "outputs": [],
   "source": [
    "# See this blog post for more info on working with the Latin Library corpus\n",
    "# using the Classical Language Toolkit (CLTK):\n",
    "# https://disiectamembra.wordpress.com/2016/08/11/working-with-the-latin-library-corpus-in-cltk/"
   ]
  },
  {
   "cell_type": "code",
   "execution_count": 2,
   "metadata": {},
   "outputs": [
    {
     "name": "stdout",
     "output_type": "stream",
     "text": [
      "Arabic not supported. Install `pyarabic` library to tokenize Arabic.\n"
     ]
    }
   ],
   "source": [
    "# Imports\n",
    "\n",
    "from pprint import pprint\n",
    "from cltk.corpus.latin import latinlibrary"
   ]
  },
  {
   "cell_type": "code",
   "execution_count": 3,
   "metadata": {},
   "outputs": [],
   "source": [
    "# Setup files\n",
    "\n",
    "files = latinlibrary.fileids()\n",
    "files = [file for file in files]"
   ]
  },
  {
   "cell_type": "code",
   "execution_count": 4,
   "metadata": {},
   "outputs": [
    {
     "name": "stdout",
     "output_type": "stream",
     "text": [
      "['ammianus/14.txt', 'ammianus/15.txt', 'ammianus/16.txt', 'ammianus/17.txt', 'ammianus/18.txt', 'ammianus/19.txt', 'ammianus/20.txt', 'ammianus/21.txt', 'ammianus/22.txt', 'ammianus/23.txt', 'ammianus/24.txt', 'ammianus/25.txt', 'ammianus/26.txt', 'ammianus/27.txt', 'ammianus/28.txt', 'ammianus/29.txt', 'ammianus/30.txt', 'ammianus/31.txt', 'apuleius/apuleius.apol.txt', 'apuleius/apuleius.cupid.txt', 'apuleius/apuleius.deosocratis.txt', 'apuleius/apuleius.dog1.txt', 'apuleius/apuleius.dog2.txt', 'apuleius/apuleius.florida.txt', 'apuleius/apuleius.mundo.txt', 'apuleius/apuleius1.txt', 'apuleius/apuleius10.txt', 'apuleius/apuleius11.txt', 'apuleius/apuleius2.txt', 'apuleius/apuleius3.txt', 'apuleius/apuleius4.txt', 'apuleius/apuleius5.txt', 'apuleius/apuleius6.txt', 'apuleius/apuleius7.txt', 'apuleius/apuleius8.txt', 'apuleius/apuleius9.txt', 'caesar/alex.txt', 'caesar/bc1.txt', 'caesar/bc2.txt', 'caesar/bc3.txt', 'caesar/bellafr.txt', 'caesar/gall1.txt', 'caesar/gall2.txt', 'caesar/gall3.txt', 'caesar/gall4.txt', 'caesar/gall5.txt', 'caesar/gall6.txt', 'caesar/gall7.txt', 'caesar/gall8.txt', 'caesar/hisp.txt', 'cato/cato.agri.txt', 'cato/cato.frag.txt', 'catullus.txt', 'cicero/acad.txt', 'cicero/adbrutum1.txt', 'cicero/adbrutum2.txt', 'cicero/amic.txt', 'cicero/arch.txt', 'cicero/att1.txt', 'cicero/att10.txt', 'cicero/att11.txt', 'cicero/att12.txt', 'cicero/att13.txt', 'cicero/att14.txt', 'cicero/att15.txt', 'cicero/att16.txt', 'cicero/att2.txt', 'cicero/att3.txt', 'cicero/att4.txt', 'cicero/att5.txt', 'cicero/att6.txt', 'cicero/att7.txt', 'cicero/att8.txt', 'cicero/att9.txt', 'cicero/balbo.txt', 'cicero/brut.txt', 'cicero/caecilium.txt', 'cicero/caecina.txt', 'cicero/cael.txt', 'cicero/cat1.txt', 'cicero/cat2.txt', 'cicero/cat3.txt', 'cicero/cat4.txt', 'cicero/cluentio.txt', 'cicero/compet.txt', 'cicero/consulatu.txt', 'cicero/deio.txt', 'cicero/divinatione.txt', 'cicero/divinatione1.txt', 'cicero/divinatione2.txt', 'cicero/domo.txt', 'cicero/fam1.txt', 'cicero/fam10.txt', 'cicero/fam11.txt', 'cicero/fam12.txt', 'cicero/fam13.txt', 'cicero/fam14.txt', 'cicero/fam15.txt', 'cicero/fam16.txt', 'cicero/fam2.txt', 'cicero/fam3.txt', 'cicero/fam4.txt', 'cicero/fam5.txt', 'cicero/fam6.txt', 'cicero/fam7.txt', 'cicero/fam8.txt', 'cicero/fam9.txt', 'cicero/fato.txt', 'cicero/fin1.txt', 'cicero/fin2.txt', 'cicero/fin3.txt', 'cicero/fin4.txt', 'cicero/fin5.txt', 'cicero/flacco.txt', 'cicero/fonteio.txt', 'cicero/fratrem1.txt', 'cicero/fratrem2.txt', 'cicero/fratrem3.txt', 'cicero/haruspicum.txt', 'cicero/imp.txt', 'cicero/inventione1.txt', 'cicero/inventione2.txt', 'cicero/leg1.txt', 'cicero/leg2.txt', 'cicero/leg3.txt', 'cicero/legagr1.txt', 'cicero/legagr2.txt', 'cicero/legagr3.txt', 'cicero/lig.txt', 'cicero/marc.txt', 'cicero/milo.txt', 'cicero/murena.txt', 'cicero/nd.txt', 'cicero/nd1.txt', 'cicero/nd2.txt', 'cicero/nd3.txt', 'cicero/off1.txt', 'cicero/off2.txt', 'cicero/off3.txt', 'cicero/optgen.txt', 'cicero/orator.txt', 'cicero/oratore1.txt', 'cicero/oratore2.txt', 'cicero/oratore3.txt', 'cicero/paradoxa.txt', 'cicero/partitione.txt', 'cicero/phil1.txt', 'cicero/phil10.txt', 'cicero/phil11.txt', 'cicero/phil12.txt', 'cicero/phil13.txt', 'cicero/phil14.txt', 'cicero/phil2.txt', 'cicero/phil3.txt', 'cicero/phil4.txt', 'cicero/phil5.txt', 'cicero/phil6.txt', 'cicero/phil7.txt', 'cicero/phil8.txt', 'cicero/phil9.txt', 'cicero/piso.txt', 'cicero/plancio.txt', 'cicero/postreditum.txt', 'cicero/postreditum2.txt', 'cicero/prov.txt', 'cicero/quinc.txt', 'cicero/rabirio.txt', 'cicero/rabiriopost.txt', 'cicero/repub1.txt', 'cicero/repub2.txt', 'cicero/repub3.txt', 'cicero/repub4.txt', 'cicero/repub5.txt', 'cicero/repub6.txt', 'cicero/rosccom.txt', 'cicero/scauro.txt', 'cicero/senectute.txt', 'cicero/sestio.txt', 'cicero/sex.rosc.txt', 'cicero/sulla.txt', 'cicero/topica.txt', 'cicero/tusc1.txt', 'cicero/tusc2.txt', 'cicero/tusc3.txt', 'cicero/tusc4.txt', 'cicero/tusc5.txt', 'cicero/vatin.txt', 'cicero/ver1.txt', 'cicero/verres.2.1.txt', 'cicero/verres.2.2.txt', 'cicero/verres.2.3.txt', 'cicero/verres.2.4.txt', 'cicero/verres.2.5.txt', 'claudian/claudian.cons6.txt', 'claudian/claudian.olyb.txt', 'claudian/claudian.proserp1.txt', 'claudian/claudian.proserp2.txt', 'claudian/claudian.proserp3.txt', 'claudian/claudian.ruf1.txt', 'curtius/curtius10.txt', 'curtius/curtius3.txt', 'curtius/curtius4.txt', 'curtius/curtius5.txt', 'curtius/curtius6.txt', 'curtius/curtius7.txt', 'curtius/curtius8.txt', 'curtius/curtius9.txt', 'enn.txt', 'eutropius/eutropius1.txt', 'eutropius/eutropius10.txt', 'eutropius/eutropius2.txt', 'eutropius/eutropius3.txt', 'eutropius/eutropius4.txt', 'eutropius/eutropius5.txt', 'eutropius/eutropius6.txt', 'eutropius/eutropius7.txt', 'eutropius/eutropius8.txt', 'eutropius/eutropius9.txt', 'florus1.txt', 'florus2.txt', 'frontinus/aqua1.txt', 'frontinus/aqua2.txt', 'frontinus/contro.txt', 'frontinus/lim.txt', 'frontinus/mensoria.txt', 'frontinus/qualitate.txt', 'frontinus/strat1.txt', 'frontinus/strat2.txt', 'frontinus/strat3.txt', 'frontinus/strat4.txt', 'gellius/gellius1.txt', 'gellius/gellius10.txt', 'gellius/gellius11.txt', 'gellius/gellius13.txt', 'gellius/gellius2.txt', 'gellius/gellius20.txt', 'gellius/gellius3.txt', 'gellius/gellius4.txt', 'gellius/gellius5.txt', 'gellius/gellius6.txt', 'gellius/gellius7.txt', 'gellius/gellius8.txt', 'gellius/gellius9.txt', 'gellius/gelliuscapitula.txt', 'gellius/gelliuspraef.txt', 'hor.txt', 'horace/arspoet.txt', 'horace/carm1.txt', 'horace/carm2.txt', 'horace/carm3.txt', 'horace/carm4.txt', 'horace/carmsaec.txt', 'horace/ep.txt', 'horace/epist1.txt', 'horace/epist2.txt', 'horace/serm1.txt', 'horace/serm2.txt', 'justin/1.txt', 'justin/10.txt', 'justin/11.txt', 'justin/12.txt', 'justin/13.txt', 'justin/14.txt', 'justin/15.txt', 'justin/16.txt', 'justin/17.txt', 'justin/18.txt', 'justin/19.txt', 'justin/2.txt', 'justin/20.txt', 'justin/21.txt', 'justin/22.txt', 'justin/23.txt', 'justin/24.txt', 'justin/25.txt', 'justin/26.txt', 'justin/27.txt', 'justin/28.txt', 'justin/29.txt', 'justin/3.txt', 'justin/30.txt', 'justin/31.txt', 'justin/32.txt', 'justin/33.txt', 'justin/34.txt', 'justin/35.txt', 'justin/36.txt', 'justin/37.txt', 'justin/38.txt', 'justin/39.txt', 'justin/4.txt', 'justin/40.txt', 'justin/41.txt', 'justin/42.txt', 'justin/43.txt', 'justin/44.txt', 'justin/5.txt', 'justin/6.txt', 'justin/7.txt', 'justin/8.txt', 'justin/9.txt', 'justin/praefatio.txt', 'justin/prologi.txt', 'juvenal/1.txt', 'juvenal/10.txt', 'juvenal/11.txt', 'juvenal/12.txt', 'juvenal/13.txt', 'juvenal/14.txt', 'juvenal/15.txt', 'juvenal/16.txt', 'juvenal/2.txt', 'juvenal/3.txt', 'juvenal/4.txt', 'juvenal/5.txt', 'juvenal/6.txt', 'juvenal/7.txt', 'juvenal/8.txt', 'juvenal/9.txt', 'livy/liv.1.txt', 'livy/liv.10.txt', 'livy/liv.2.txt', 'livy/liv.21.txt', 'livy/liv.22.txt', 'livy/liv.23.txt', 'livy/liv.24.txt', 'livy/liv.25.txt', 'livy/liv.26.txt', 'livy/liv.27.txt', 'livy/liv.28.txt', 'livy/liv.29.txt', 'livy/liv.3.txt', 'livy/liv.30.txt', 'livy/liv.31.txt', 'livy/liv.32.txt', 'livy/liv.33.txt', 'livy/liv.34.txt', 'livy/liv.35.txt', 'livy/liv.36.txt', 'livy/liv.37.txt', 'livy/liv.38.txt', 'livy/liv.39.txt', 'livy/liv.4.txt', 'livy/liv.40.txt', 'livy/liv.41.txt', 'livy/liv.42.txt', 'livy/liv.43.txt', 'livy/liv.44.txt', 'livy/liv.45.txt', 'livy/liv.5.txt', 'livy/liv.6.txt', 'livy/liv.7.txt', 'livy/liv.8.txt', 'livy/liv.9.txt', 'livy/liv.per.txt', 'livy/liv.per1.txt', 'livy/liv.per10.txt', 'livy/liv.per100.txt', 'livy/liv.per101.txt', 'livy/liv.per102.txt', 'livy/liv.per103.txt', 'livy/liv.per104.txt', 'livy/liv.per105.txt', 'livy/liv.per106.txt', 'livy/liv.per107.txt', 'livy/liv.per108.txt', 'livy/liv.per109.txt', 'livy/liv.per11.txt', 'livy/liv.per110.txt', 'livy/liv.per111.txt', 'livy/liv.per112.txt', 'livy/liv.per113.txt', 'livy/liv.per114.txt', 'livy/liv.per115.txt', 'livy/liv.per116.txt', 'livy/liv.per117.txt', 'livy/liv.per118.txt', 'livy/liv.per119.txt', 'livy/liv.per12.txt', 'livy/liv.per120.txt', 'livy/liv.per121.txt', 'livy/liv.per122.txt', 'livy/liv.per123.txt', 'livy/liv.per124.txt', 'livy/liv.per125.txt', 'livy/liv.per126.txt', 'livy/liv.per127.txt', 'livy/liv.per128.txt', 'livy/liv.per129.txt', 'livy/liv.per13.txt', 'livy/liv.per130.txt', 'livy/liv.per131.txt', 'livy/liv.per132.txt', 'livy/liv.per133.txt', 'livy/liv.per134.txt', 'livy/liv.per135.txt', 'livy/liv.per136-7.txt', 'livy/liv.per138.txt', 'livy/liv.per139.txt', 'livy/liv.per14.txt', 'livy/liv.per140.txt', 'livy/liv.per141.txt', 'livy/liv.per142.txt', 'livy/liv.per15.txt', 'livy/liv.per16.txt', 'livy/liv.per17.txt', 'livy/liv.per18.txt', 'livy/liv.per19.txt', 'livy/liv.per2.txt', 'livy/liv.per20.txt', 'livy/liv.per21.txt', 'livy/liv.per22.txt', 'livy/liv.per23.txt', 'livy/liv.per24.txt', 'livy/liv.per25.txt', 'livy/liv.per26.txt', 'livy/liv.per27.txt', 'livy/liv.per28.txt', 'livy/liv.per29.txt', 'livy/liv.per3.txt', 'livy/liv.per30.txt', 'livy/liv.per31.txt', 'livy/liv.per32.txt', 'livy/liv.per33.txt', 'livy/liv.per34.txt', 'livy/liv.per35.txt', 'livy/liv.per36.txt', 'livy/liv.per37.txt', 'livy/liv.per38.txt', 'livy/liv.per39.txt', 'livy/liv.per4.txt', 'livy/liv.per40.txt', 'livy/liv.per41.txt', 'livy/liv.per42.txt', 'livy/liv.per43.txt', 'livy/liv.per44.txt', 'livy/liv.per45.txt', 'livy/liv.per46.txt', 'livy/liv.per47.txt', 'livy/liv.per48.txt', 'livy/liv.per49.txt', 'livy/liv.per5.txt', 'livy/liv.per50.txt', 'livy/liv.per51.txt', 'livy/liv.per52.txt', 'livy/liv.per53.txt', 'livy/liv.per54.txt', 'livy/liv.per55.txt', 'livy/liv.per56.txt', 'livy/liv.per57.txt', 'livy/liv.per58.txt', 'livy/liv.per59.txt', 'livy/liv.per6.txt', 'livy/liv.per60.txt', 'livy/liv.per61.txt', 'livy/liv.per62.txt', 'livy/liv.per63.txt', 'livy/liv.per64.txt', 'livy/liv.per65.txt', 'livy/liv.per66.txt', 'livy/liv.per67.txt', 'livy/liv.per68.txt', 'livy/liv.per69.txt', 'livy/liv.per7.txt', 'livy/liv.per70.txt', 'livy/liv.per71.txt', 'livy/liv.per72.txt', 'livy/liv.per73.txt', 'livy/liv.per74.txt', 'livy/liv.per75.txt', 'livy/liv.per76.txt', 'livy/liv.per77.txt', 'livy/liv.per78.txt', 'livy/liv.per79.txt', 'livy/liv.per8.txt', 'livy/liv.per80.txt', 'livy/liv.per81.txt', 'livy/liv.per82.txt', 'livy/liv.per83.txt', 'livy/liv.per84.txt', 'livy/liv.per85.txt', 'livy/liv.per86.txt', 'livy/liv.per87.txt', 'livy/liv.per88.txt', 'livy/liv.per89.txt', 'livy/liv.per9.txt', 'livy/liv.per90.txt', 'livy/liv.per91.txt', 'livy/liv.per92.txt', 'livy/liv.per93.txt', 'livy/liv.per94.txt', 'livy/liv.per95.txt', 'livy/liv.per96.txt', 'livy/liv.per97.txt', 'livy/liv.per98.txt', 'livy/liv.per99.txt', 'livy/liv.pr.txt', 'lucan/lucan1.txt', 'lucan/lucan10.txt', 'lucan/lucan2.txt', 'lucan/lucan3.txt', 'lucan/lucan4.txt', 'lucan/lucan5.txt', 'lucan/lucan6.txt', 'lucan/lucan7.txt', 'lucan/lucan8.txt', 'lucan/lucan9.txt', 'lucretius/lucretius1.txt', 'lucretius/lucretius2.txt', 'lucretius/lucretius3.txt', 'lucretius/lucretius4.txt', 'lucretius/lucretius5.txt', 'lucretius/lucretius6.txt', 'martial/mart.spec.txt', 'martial/mart1.txt', 'martial/mart10.txt', 'martial/mart11.txt', 'martial/mart12.txt', 'martial/mart13.txt', 'martial/mart14.txt', 'martial/mart2.txt', 'martial/mart3.txt', 'martial/mart4.txt', 'martial/mart5.txt', 'martial/mart6.txt', 'martial/mart7.txt', 'martial/mart8.txt', 'martial/mart9.txt', 'nemesianus1.txt', 'nemesianus2.txt', 'nemesianus3.txt', 'nemesianus4.txt', 'nepos/nepos.age.txt', 'nepos/nepos.alc.txt', 'nepos/nepos.aris.txt', 'nepos/nepos.att.txt', 'nepos/nepos.cat.txt', 'nepos/nepos.cha.txt', 'nepos/nepos.cim.txt', 'nepos/nepos.con.txt', 'nepos/nepos.dat.txt', 'nepos/nepos.dion.txt', 'nepos/nepos.epam.txt', 'nepos/nepos.eum.txt', 'nepos/nepos.fragmenta.txt', 'nepos/nepos.ham.txt', 'nepos/nepos.han.txt', 'nepos/nepos.iph.txt', 'nepos/nepos.kings.txt', 'nepos/nepos.lys.txt', 'nepos/nepos.mil.txt', 'nepos/nepos.paus.txt', 'nepos/nepos.pel.txt', 'nepos/nepos.phoc.txt', 'nepos/nepos.pr.txt', 'nepos/nepos.them.txt', 'nepos/nepos.thras.txt', 'nepos/nepos.tim.txt', 'nepos/nepos.timo.txt', 'ovid/ovid.amor1.txt', 'ovid/ovid.amor2.txt', 'ovid/ovid.amor3.txt', 'ovid/ovid.artis1.txt', 'ovid/ovid.artis2.txt', 'ovid/ovid.artis3.txt', 'ovid/ovid.fasti1.txt', 'ovid/ovid.fasti2.txt', 'ovid/ovid.fasti3.txt', 'ovid/ovid.fasti4.txt', 'ovid/ovid.fasti5.txt', 'ovid/ovid.fasti6.txt', 'ovid/ovid.her1.txt', 'ovid/ovid.her10.txt', 'ovid/ovid.her11.txt', 'ovid/ovid.her12.txt', 'ovid/ovid.her13.txt', 'ovid/ovid.her14.txt', 'ovid/ovid.her15.txt', 'ovid/ovid.her16.txt', 'ovid/ovid.her17.txt', 'ovid/ovid.her18.txt', 'ovid/ovid.her19.txt', 'ovid/ovid.her2.txt', 'ovid/ovid.her20.txt', 'ovid/ovid.her21.txt', 'ovid/ovid.her3.txt', 'ovid/ovid.her4.txt', 'ovid/ovid.her5.txt', 'ovid/ovid.her6.txt', 'ovid/ovid.her7.txt', 'ovid/ovid.her8.txt', 'ovid/ovid.her9.txt', 'ovid/ovid.ibis.txt', 'ovid/ovid.met1.txt', 'ovid/ovid.met10.txt', 'ovid/ovid.met11.txt', 'ovid/ovid.met12.txt', 'ovid/ovid.met13.txt', 'ovid/ovid.met14.txt', 'ovid/ovid.met15.txt', 'ovid/ovid.met2.txt', 'ovid/ovid.met3.txt', 'ovid/ovid.met4.txt', 'ovid/ovid.met5.txt', 'ovid/ovid.met6.txt', 'ovid/ovid.met7.txt', 'ovid/ovid.met8.txt', 'ovid/ovid.met9.txt', 'ovid/ovid.ponto1.txt', 'ovid/ovid.ponto2.txt', 'ovid/ovid.ponto3.txt', 'ovid/ovid.ponto4.txt', 'ovid/ovid.rem.txt', 'ovid/ovid.tristia1.txt', 'ovid/ovid.tristia2.txt', 'ovid/ovid.tristia3.txt', 'ovid/ovid.tristia4.txt', 'ovid/ovid.tristia5.txt', 'persius.txt', 'petronius.txt', 'petronius1.txt', 'petroniusfrag.txt', 'phaedr1.txt', 'phaedr2.txt', 'phaedr3.txt', 'phaedr4.txt', 'phaedr5.txt', 'phaedrapp.txt', 'plautus/amphitruo.txt', 'plautus/asinaria.txt', 'plautus/aulularia.txt', 'plautus/bacchides.txt', 'plautus/captivi.txt', 'plautus/cas.txt', 'plautus/cistellaria.txt', 'plautus/curculio.txt', 'plautus/epidicus.txt', 'plautus/menaechmi.txt', 'plautus/mercator.txt', 'plautus/miles.txt', 'plautus/mostellaria.txt', 'plautus/persa.txt', 'plautus/poenulus.txt', 'plautus/pseudolus.txt', 'plautus/rudens.txt', 'plautus/stichus.txt', 'plautus/trinummus.txt', 'plautus/truculentus.txt', 'plautus/vidularia.txt', 'pliny.ep1.txt', 'pliny.ep10.txt', 'pliny.ep2.txt', 'pliny.ep3.txt', 'pliny.ep4.txt', 'pliny.ep5.txt', 'pliny.ep6.txt', 'pliny.ep7.txt', 'pliny.ep8.txt', 'pliny.ep9.txt', 'pliny.nh1.txt', 'pliny.nh2.txt', 'pliny.nh3.txt', 'pliny.nh4.txt', 'pliny.nh5.txt', 'pliny.nhpr.txt', 'pliny.panegyricus.txt', 'prop2.txt', 'prop3.txt', 'prop4.txt', 'propertius1.txt', 'quintilian/quintilian.decl.mai1.txt', 'quintilian/quintilian.decl.mai10.txt', 'quintilian/quintilian.decl.mai11.txt', 'quintilian/quintilian.decl.mai12.txt', 'quintilian/quintilian.decl.mai13.txt', 'quintilian/quintilian.decl.mai14.txt', 'quintilian/quintilian.decl.mai15.txt', 'quintilian/quintilian.decl.mai16.txt', 'quintilian/quintilian.decl.mai17.txt', 'quintilian/quintilian.decl.mai18.txt', 'quintilian/quintilian.decl.mai19.txt', 'quintilian/quintilian.decl.mai2.txt', 'quintilian/quintilian.decl.mai4.txt', 'quintilian/quintilian.decl.mai5.txt', 'quintilian/quintilian.decl.mai6.txt', 'quintilian/quintilian.decl.mai7.txt', 'quintilian/quintilian.decl.mai8.txt', 'quintilian/quintilian.decl.mai9.txt', 'quintilian/quintilian.institutio1.txt', 'quintilian/quintilian.institutio10.txt', 'quintilian/quintilian.institutio11.txt', 'quintilian/quintilian.institutio12.txt', 'quintilian/quintilian.institutio2.txt', 'quintilian/quintilian.institutio3.txt', 'quintilian/quintilian.institutio4.txt', 'quintilian/quintilian.institutio5.txt', 'quintilian/quintilian.institutio6.txt', 'quintilian/quintilian.institutio7.txt', 'quintilian/quintilian.institutio8.txt', 'quintilian/quintilian.institutio9.txt', 'resgestae.txt', 'resgestae1.txt', 'rhetores.txt', 'sall.1.txt', 'sall.2.txt', 'sall.cotta.txt', 'sall.ep1.txt', 'sall.ep2.txt', 'sall.frag.txt', 'sall.invectiva.txt', 'sall.lep.txt', 'sall.macer.txt', 'sall.mithr.txt', 'sall.phil.txt', 'sall.pomp.txt', 'scbaccanalibus.txt', 'sen/ben1.txt', 'sen/ben2.txt', 'sen/ben3.txt', 'sen/octavia.txt', 'sen/sen.agamemnon.txt', 'sen/sen.apoc.txt', 'sen/sen.brevita.txt', 'sen/sen.clem.txt', 'sen/sen.consolatione1.txt', 'sen/sen.consolatione2.txt', 'sen/sen.consolatione3.txt', 'sen/sen.constantia.txt', 'sen/sen.hercules.txt', 'sen/sen.ira1.txt', 'sen/sen.ira2.txt', 'sen/sen.ira3.txt', 'sen/sen.medea.txt', 'sen/sen.oedipus.txt', 'sen/sen.otio.txt', 'sen/sen.phaedra.txt', 'sen/sen.phoen.txt', 'sen/sen.prov.txt', 'sen/sen.proverbs.txt', 'sen/sen.qn1.txt', 'sen/sen.qn2.txt', 'sen/sen.qn3.txt', 'sen/sen.qn4.txt', 'sen/sen.qn5.txt', 'sen/sen.qn6.txt', 'sen/sen.qn7.txt', 'sen/sen.thyestes.txt', 'sen/sen.tranq.txt', 'sen/sen.vita.txt', 'sen/seneca.ep1.txt', 'sen/seneca.ep10.txt', 'sen/seneca.ep11-13.txt', 'sen/seneca.ep14-15.txt', 'sen/seneca.ep16.txt', 'sen/seneca.ep17-18.txt', 'sen/seneca.ep19.txt', 'sen/seneca.ep2.txt', 'sen/seneca.ep20.txt', 'sen/seneca.ep22.txt', 'sen/seneca.ep3.txt', 'sen/seneca.ep4.txt', 'sen/seneca.ep5.txt', 'sen/seneca.ep6.txt', 'sen/seneca.ep7.txt', 'sen/seneca.ep8.txt', 'sen/seneca.ep9.txt', 'seneca.contr1.txt', 'seneca.contr10.txt', 'seneca.contr2.txt', 'seneca.contr3.txt', 'seneca.contr4.txt', 'seneca.contr5.txt', 'seneca.contr6.txt', 'seneca.contr7.txt', 'seneca.contr8.txt', 'seneca.contr9.txt', 'seneca.fragmenta.txt', 'seneca.suasoriae.txt', 'sha/30.txt', 'sha/aelii.txt', 'sha/alexsev.txt', 'sha/ant.txt', 'sha/aurel.txt', 'sha/avid.txt', 'sha/car.txt', 'sha/carus.txt', 'sha/claud.txt', 'sha/clod.txt', 'sha/com.txt', 'sha/diad.txt', 'sha/didiul.txt', 'sha/firmus.txt', 'sha/gall.txt', 'sha/geta.txt', 'sha/gord.txt', 'sha/hadr.txt', 'sha/helio.txt', 'sha/mac.txt', 'sha/marcant.txt', 'sha/max.txt', 'sha/maxbal.txt', 'sha/pert.txt', 'sha/pesc.txt', 'sha/probus.txt', 'sha/sepsev.txt', 'sha/tacitus.txt', 'sha/val.txt', 'sha/verus.txt', 'silius/silius1.txt', 'silius/silius10.txt', 'silius/silius11.txt', 'silius/silius12.txt', 'silius/silius13.txt', 'silius/silius14.txt', 'silius/silius15.txt', 'silius/silius16.txt', 'silius/silius17.txt', 'silius/silius2.txt', 'silius/silius3.txt', 'silius/silius4.txt', 'silius/silius5.txt', 'silius/silius6.txt', 'silius/silius7.txt', 'silius/silius8.txt', 'silius/silius9.txt', 'statius/achilleid1.txt', 'statius/achilleid2.txt', 'statius/silvae1.txt', 'statius/silvae2.txt', 'statius/silvae3.txt', 'statius/silvae4.txt', 'statius/silvae5.txt', 'statius/theb1.txt', 'statius/theb10.txt', 'statius/theb11.txt', 'statius/theb12.txt', 'statius/theb2.txt', 'statius/theb3.txt', 'statius/theb4.txt', 'statius/theb5.txt', 'statius/theb6.txt', 'statius/theb7.txt', 'statius/theb8.txt', 'statius/theb9.txt', 'suetonius/suet.aug.txt', 'suetonius/suet.caesar.txt', 'suetonius/suet.cal.txt', 'suetonius/suet.claudius.txt', 'suetonius/suet.crispus.txt', 'suetonius/suet.dom.txt', 'suetonius/suet.galba.txt', 'suetonius/suet.gram.txt', 'suetonius/suet.horace.txt', 'suetonius/suet.lucan.txt', 'suetonius/suet.nero.txt', 'suetonius/suet.otho.txt', 'suetonius/suet.persius.txt', 'suetonius/suet.pliny.txt', 'suetonius/suet.rhet.txt', 'suetonius/suet.terence.txt', 'suetonius/suet.tib.txt', 'suetonius/suet.tibullus.txt', 'suetonius/suet.titus.txt', 'suetonius/suet.vesp.txt', 'suetonius/suet.virgil.txt', 'suetonius/suet.vit.txt', 'sulpicia.txt', 'tacitus/tac.agri.txt', 'tacitus/tac.ann1.txt', 'tacitus/tac.ann11.txt', 'tacitus/tac.ann12.txt', 'tacitus/tac.ann13.txt', 'tacitus/tac.ann14.txt', 'tacitus/tac.ann15.txt', 'tacitus/tac.ann16.txt', 'tacitus/tac.ann2.txt', 'tacitus/tac.ann3.txt', 'tacitus/tac.ann4.txt', 'tacitus/tac.ann5.txt', 'tacitus/tac.ann6.txt', 'tacitus/tac.dialogus.txt', 'tacitus/tac.ger.txt', 'tacitus/tac.hist1.txt', 'tacitus/tac.hist2.txt', 'tacitus/tac.hist3.txt', 'tacitus/tac.hist4.txt', 'tacitus/tac.hist5.txt', 'ter.adel.txt', 'ter.andria.txt', 'ter.eunuchus.txt', 'ter.heauton.txt', 'ter.hecyra.txt', 'ter.phormio.txt', 'tibullus1.txt', 'tibullus2.txt', 'tibullus3.txt', 'valeriusflaccus1.txt', 'valeriusflaccus2.txt', 'valeriusflaccus3.txt', 'valeriusflaccus4.txt', 'valeriusflaccus5.txt', 'valeriusflaccus6.txt', 'valeriusflaccus7.txt', 'valeriusflaccus8.txt', 'valmax1.txt', 'valmax2.txt', 'valmax3.txt', 'valmax4.txt', 'valmax5.txt', 'valmax6.txt', 'valmax7.txt', 'valmax8.txt', 'valmax9.txt', 'varro.frag.txt', 'varro.ll10.txt', 'varro.ll5.txt', 'varro.ll6.txt', 'varro.ll7.txt', 'varro.ll8.txt', 'varro.ll9.txt', 'varro.rr1.txt', 'varro.rr2.txt', 'varro.rr3.txt', 'vegetius1.txt', 'vegetius2.txt', 'vegetius3.txt', 'vegetius4.txt', 'vell1.txt', 'vell2.txt', 'vergil/aen1.txt', 'vergil/aen10.txt', 'vergil/aen11.txt', 'vergil/aen12.txt', 'vergil/aen2.txt', 'vergil/aen3.txt', 'vergil/aen4.txt', 'vergil/aen5.txt', 'vergil/aen6.txt', 'vergil/aen7.txt', 'vergil/aen8.txt', 'vergil/aen9.txt', 'vergil/ec1.txt', 'vergil/ec10.txt', 'vergil/ec2.txt', 'vergil/ec3.txt', 'vergil/ec4.txt', 'vergil/ec5.txt', 'vergil/ec6.txt', 'vergil/ec7.txt', 'vergil/ec8.txt', 'vergil/ec9.txt', 'vergil/geo1.txt', 'vergil/geo2.txt', 'vergil/geo3.txt', 'vergil/geo4.txt', 'victor.caes.txt', 'victor.caes2.txt', 'victor.ill.txt', 'victor.origio.txt', 'victor.txt', 'vitruvius1.txt', 'vitruvius10.txt', 'vitruvius2.txt', 'vitruvius3.txt', 'vitruvius4.txt', 'vitruvius5.txt', 'vitruvius6.txt', 'vitruvius7.txt', 'vitruvius8.txt', 'vitruvius9.txt']\n"
     ]
    }
   ],
   "source": [
    "classical_files = []\n",
    "\n",
    "remove = [\"The Bible\", \n",
    "          \"Ius Romanum\",\n",
    "          \"Papal Bulls\",\n",
    "          \"Medieval Latin\",\n",
    "          \"Christian Latin\",\n",
    "          \"Christina Latin\",\n",
    "          \"Neo-Latin\",\n",
    "          \"The Miscellany\",\n",
    "          \"Contemporary Latin\"]\n",
    "\n",
    "for file in files:\n",
    "    raw = latinlibrary.raw(file)\n",
    "    if not any(x in raw for x in remove):\n",
    "        classical_files.append(file)\n",
    "\n",
    "print(classical_files)"
   ]
  },
  {
   "cell_type": "code",
   "execution_count": 5,
   "metadata": {},
   "outputs": [],
   "source": [
    "classical_raw = [latinlibrary.raw(file) for file in classical_files]"
   ]
  },
  {
   "cell_type": "code",
   "execution_count": 6,
   "metadata": {},
   "outputs": [
    {
     "name": "stdout",
     "output_type": "stream",
     "text": [
      "ammianus/14.txt\n",
      "Ammianus: Liber XIV\n",
      "\t\t \n",
      "\n",
      "\t\t \n",
      "\t\t\n",
      "\t\t \n",
      "\t\t\n",
      "\t\t \n",
      "\t\t \n",
      "\t \n",
      "\t\n",
      " \n",
      "\n",
      " \n",
      "\n",
      " AMMIANI MARCELLINI HISTORIAE LIBER XIV \n",
      "\n",
      " \n",
      "\t I \n",
      "\t II \n",
      "\t III \n",
      "\t IV \n",
      "\t V \n",
      "\t VI \n",
      "\t VII \n",
      "\t VIII \n",
      "\t IX \n",
      "\t X \n",
      "\t XI \n",
      " \n",
      "\n",
      " \n",
      " I 1. Post emensos insuperabilis expeditionis eventus languentibus partium animis, quas periculorum varietas fregerat et laborum, nondum tubarum cessante clangore vel milite locato per stationes hibernas, fortunae saevientis procellae tempestates alias rebus infudere communibus per multa illa et dira facinora Caesaris Galli, qui ex squalore imo miseriarum in aetatis adultae primitiis ad principale culmen insperato saltu provectus ultra terminos potestatis delatae procurrens asperitate nimia cuncta foedabat. propinquitate enim regiae stirpis gentilitateque etiam tum Constantini nominis efferebatur in fastus, si plus valuisset, ausurus hostilia in auctorem suae felicitatis, ut videbatur. 2. Cuius acerbitati uxor grave accesserat incentivum, germanitate Augusti turgida supra modum, quam Hannibaliano regi fratris filio\n"
     ]
    }
   ],
   "source": [
    "# Print sample filename & text\n",
    "\n",
    "print(classical_files[0])\n",
    "print(classical_raw[0][:1000])"
   ]
  }
 ],
 "metadata": {
  "kernelspec": {
   "display_name": "Python 3",
   "language": "python",
   "name": "python3"
  },
  "language_info": {
   "codemirror_mode": {
    "name": "ipython",
    "version": 3
   },
   "file_extension": ".py",
   "mimetype": "text/x-python",
   "name": "python",
   "nbconvert_exporter": "python",
   "pygments_lexer": "ipython3",
   "version": "3.6.1"
  }
 },
 "nbformat": 4,
 "nbformat_minor": 1
}
