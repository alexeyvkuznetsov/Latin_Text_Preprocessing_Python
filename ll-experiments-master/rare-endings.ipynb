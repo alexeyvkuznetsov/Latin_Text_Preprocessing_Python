{
 "cells": [
  {
   "cell_type": "code",
   "execution_count": 46,
   "metadata": {},
   "outputs": [],
   "source": [
    "import html\n",
    "import re\n",
    "from collections import Counter\n",
    "\n",
    "from pprint import pprint\n",
    "\n",
    "from cltk.corpus.latin import latinlibrary\n",
    "from cltk.tokenize.word import WordTokenizer\n",
    "from cltk.stem.latin.j_v import JVReplacer"
   ]
  },
  {
   "cell_type": "code",
   "execution_count": 17,
   "metadata": {},
   "outputs": [],
   "source": [
    "word_tokenizer = WordTokenizer('latin')\n",
    "replacer = JVReplacer()"
   ]
  },
  {
   "cell_type": "code",
   "execution_count": 73,
   "metadata": {
    "collapsed": true
   },
   "outputs": [],
   "source": [
    "# Preprocess texts\n",
    "\n",
    "def preprocess(text):\n",
    "\n",
    "    text = html.unescape(text) # Handle html entities\n",
    "    text = re.sub(r'&nbsp;?', ' ',text) #&nbsp; stripped incorrectly in corpus?\n",
    "    text = re.sub(r'\\x00',' ',text) #Another space problem?\n",
    "    \n",
    "    text = text.lower()\n",
    "    text = replacer.replace(text) #Normalize u/v & i/j\n",
    "    \n",
    "    punctuation =\"\\\"#$%&\\'()*+,-/:;<=>@[\\]^_`{|}~.?!«»“\"\n",
    "    translator = str.maketrans({key: \" \" for key in punctuation})\n",
    "    text = text.translate(translator)\n",
    "    \n",
    "    translator = str.maketrans({key: \" \" for key in '0123456789'})\n",
    "    text = text.translate(translator)\n",
    "    \n",
    "    remove_list = [r'\\bthe latin library\\b',\n",
    "               r'\\bthe classics page\\b',\n",
    "               r'\\bneo-latin\\b', \n",
    "               r'\\bmedieval latin\\b',\n",
    "               r'\\bchristian latin\\b',\n",
    "               r'\\bthe miscellany\\b',\n",
    "              ]\n",
    "    \n",
    "    for pattern in remove_list:\n",
    "        text = re.sub(pattern, '', text)\n",
    "    \n",
    "    text = re.sub('[ ]+',' ', text) # Remove double spaces\n",
    "    text = re.sub('\\s+\\n+\\s+','\\n', text) # Remove double lines and trim spaces around new lines\n",
    "    \n",
    "    return text"
   ]
  },
  {
   "cell_type": "code",
   "execution_count": 74,
   "metadata": {},
   "outputs": [],
   "source": [
    "raw = preprocess(latinlibrary.raw())"
   ]
  },
  {
   "cell_type": "code",
   "execution_count": 75,
   "metadata": {
    "collapsed": true
   },
   "outputs": [],
   "source": [
    "tokens = word_tokenizer.tokenize(raw)"
   ]
  },
  {
   "cell_type": "code",
   "execution_count": 76,
   "metadata": {},
   "outputs": [
    {
     "data": {
      "text/plain": [
       "['duodecim',\n",
       " 'tabularum',\n",
       " 'leges',\n",
       " 'duodecim',\n",
       " 'tabularum',\n",
       " 'leges',\n",
       " 'tabula',\n",
       " 'i',\n",
       " 'si',\n",
       " 'in',\n",
       " 'ius',\n",
       " 'uocat',\n",
       " 'ito',\n",
       " 'ni',\n",
       " 'it',\n",
       " 'antestamino',\n",
       " 'igitur',\n",
       " 'em',\n",
       " 'capito',\n",
       " 'si',\n",
       " 'caluitur',\n",
       " 'pedem',\n",
       " '-ue',\n",
       " 'struit',\n",
       " 'manum',\n",
       " 'endo',\n",
       " 'iacito',\n",
       " 'si',\n",
       " 'morbus',\n",
       " 'aeuitas',\n",
       " '-ue',\n",
       " 'uitium',\n",
       " 'escit',\n",
       " 'iumentum',\n",
       " 'dato',\n",
       " 'si',\n",
       " 'nolet',\n",
       " 'arceram',\n",
       " 'ne',\n",
       " 'sternito',\n",
       " 'assiduo',\n",
       " 'uindex',\n",
       " 'assiduus',\n",
       " 'esto',\n",
       " 'proletario',\n",
       " 'iam',\n",
       " 'ciui',\n",
       " 'quis',\n",
       " 'uolet',\n",
       " 'uindex',\n",
       " 'esto',\n",
       " 'nex',\n",
       " 'forti',\n",
       " 'sanati',\n",
       " 'rem',\n",
       " 'ubi',\n",
       " 'pacunt',\n",
       " 'orato',\n",
       " 'ni',\n",
       " 'pacunt',\n",
       " 'in',\n",
       " 'comitio',\n",
       " 'aut',\n",
       " 'in',\n",
       " 'foro',\n",
       " 'ante',\n",
       " 'meridiem',\n",
       " 'caussam',\n",
       " 'coiciunto',\n",
       " 'com',\n",
       " 'peroranto',\n",
       " 'ambo',\n",
       " 'praesentes',\n",
       " 'post',\n",
       " 'meridiem',\n",
       " 'praesenti',\n",
       " 'litem',\n",
       " 'addicito',\n",
       " 'si',\n",
       " 'ambo',\n",
       " 'praesentes',\n",
       " 'solis',\n",
       " 'occasus',\n",
       " 'suprema',\n",
       " 'tempestas',\n",
       " 'esto',\n",
       " 'uades',\n",
       " 'subuades',\n",
       " 'tabula',\n",
       " 'ii',\n",
       " 'actor',\n",
       " 'dicito',\n",
       " 'ex',\n",
       " 'sponsione',\n",
       " 'te',\n",
       " 'mihi',\n",
       " 'dare',\n",
       " 'oportere',\n",
       " 'aio',\n",
       " 'quando']"
      ]
     },
     "execution_count": 76,
     "metadata": {},
     "output_type": "execute_result"
    }
   ],
   "source": [
    "tokens[:100] "
   ]
  },
  {
   "cell_type": "code",
   "execution_count": 77,
   "metadata": {},
   "outputs": [],
   "source": [
    "size = len(tokens)"
   ]
  },
  {
   "cell_type": "markdown",
   "metadata": {},
   "source": [
    "### -ebus adverbs"
   ]
  },
  {
   "cell_type": "code",
   "execution_count": 80,
   "metadata": {
    "collapsed": true
   },
   "outputs": [],
   "source": [
    "ebus_exceptions = ['phoebus', 'nectanebus', 'phebus', 'ephebus', 'coroebus', 'erebus', 'choroebus']\n",
    "# iebus? phaebus? estrebus?\n",
    "ebus_tokens = [token for token in tokens if token.endswith('ebus') and token not in ebus_exceptions]"
   ]
  },
  {
   "cell_type": "code",
   "execution_count": 81,
   "metadata": {},
   "outputs": [
    {
     "name": "stdout",
     "output_type": "stream",
     "text": [
      "There are 10653 tokens with the ending -ebus.\n",
      "\n",
      "The most common -ebus tokens are: \n",
      "[('rebus', 7440),\n",
      " ('diebus', 2975),\n",
      " ('speciebus', 136),\n",
      " ('aciebus', 41),\n",
      " ('iebus', 12),\n",
      " ('superficiebus', 6),\n",
      " ('spebus', 5),\n",
      " ('faciebus', 4),\n",
      " ('phaebus', 3),\n",
      " ('omnibusrebus', 2),\n",
      " ('generationebus', 2),\n",
      " ('foebus', 2),\n",
      " ('bonisrebus', 1),\n",
      " ('aliisrebus', 1),\n",
      " ('cunctisdiebus', 1),\n",
      " ('estrebus', 1),\n",
      " ('humanisrebus', 1),\n",
      " ('prosperisrebus', 1),\n",
      " ('philebus', 1),\n",
      " ('alebus', 1),\n",
      " ('spetiebus', 1),\n",
      " ('exemplarebus', 1),\n",
      " ('uocebus', 1),\n",
      " ('manebus', 1),\n",
      " ('pedebus', 1)]\n",
      "\n",
      " -ebus tokens make up 0.08% of the Latin Library. Diederich reports .12%.\n"
     ]
    }
   ],
   "source": [
    "print('There are %d tokens with the ending -ebus.\\n' % len(ebus_tokens))\n",
    "\n",
    "print('The most common -ebus tokens are: ')\n",
    "pprint(Counter(ebus_tokens).most_common(25))\n",
    "\n",
    "print('\\n -ebus tokens make up {:.2%} of the Latin Library. Diederich reports .12%.'.format(len(ebus_tokens)/size))"
   ]
  },
  {
   "cell_type": "markdown",
   "metadata": {},
   "source": [
    "### -u adverb"
   ]
  },
  {
   "cell_type": "code",
   "execution_count": 91,
   "metadata": {},
   "outputs": [],
   "source": [
    "u_exceptions = ['tu', 'u']\n",
    "u_exceptions += ['iu', 'xu', 'xiu'] #roman numerals\n",
    "u_exceptions += ['nou'] # abbreviation\n",
    "# uu?\n",
    "\n",
    "u_tokens = [token for token in tokens if token.endswith('u') and token not in u_exceptions]"
   ]
  },
  {
   "cell_type": "code",
   "execution_count": 92,
   "metadata": {},
   "outputs": [
    {
     "name": "stdout",
     "output_type": "stream",
     "text": [
      "There are 80164 tokens with the ending -u.\n",
      "\n",
      "The most common -u tokens are: \n",
      "[('manu', 4489),\n",
      " ('seu', 3756),\n",
      " ('diu', 3238),\n",
      " ('exercitu', 2767),\n",
      " ('metu', 1892),\n",
      " ('casu', 1718),\n",
      " ('senatu', 1713),\n",
      " ('spiritu', 1529),\n",
      " ('usu', 1484),\n",
      " ('conspectu', 1220),\n",
      " ('cursu', 978),\n",
      " ('impetu', 944),\n",
      " ('uu', 943),\n",
      " ('iussu', 925),\n",
      " ('motu', 920),\n",
      " ('heu', 886),\n",
      " ('uultu', 882),\n",
      " ('iesu', 878),\n",
      " ('consensu', 865),\n",
      " ('sensu', 825),\n",
      " ('statu', 808),\n",
      " ('gradu', 749),\n",
      " ('aduentu', 739),\n",
      " ('quamdiu', 736),\n",
      " ('actu', 668)]\n",
      "\n",
      " -u tokens make up 0.59% of the Latin Library. Diederich reports .63%.\n"
     ]
    }
   ],
   "source": [
    "print('There are %d tokens with the ending -u.\\n' % len(u_tokens))\n",
    "\n",
    "print('The most common -u tokens are: ')\n",
    "pprint(Counter(u_tokens).most_common(25))\n",
    "\n",
    "print('\\n -u tokens make up {:.2%} of the Latin Library. Diederich reports .63%.'.format(len(u_tokens)/size))"
   ]
  },
  {
   "cell_type": "markdown",
   "metadata": {},
   "source": [
    "### -iter true adverb"
   ]
  },
  {
   "cell_type": "markdown",
   "metadata": {},
   "source": [
    "### -ei adjective adverb"
   ]
  },
  {
   "cell_type": "markdown",
   "metadata": {},
   "source": [
    "### -d subject object"
   ]
  },
  {
   "cell_type": "markdown",
   "metadata": {},
   "source": [
    "### -ius subject object adjective, true comparative adverb"
   ]
  },
  {
   "cell_type": "markdown",
   "metadata": {},
   "source": [
    "### -r acted upon"
   ]
  },
  {
   "cell_type": "markdown",
   "metadata": {},
   "source": [
    "### -mur acted upon"
   ]
  },
  {
   "cell_type": "markdown",
   "metadata": {},
   "source": [
    "### -tur acted upon"
   ]
  },
  {
   "cell_type": "markdown",
   "metadata": {},
   "source": [
    "### -ntur acted upon"
   ]
  },
  {
   "cell_type": "code",
   "execution_count": 64,
   "metadata": {},
   "outputs": [],
   "source": [
    "ntur_exceptions = []\n",
    "ntur_tokens = [token for token in tokens if token.endswith('ntur')]"
   ]
  },
  {
   "cell_type": "code",
   "execution_count": 50,
   "metadata": {},
   "outputs": [
    {
     "name": "stdout",
     "output_type": "stream",
     "text": [
      "There are 66712 tokens with the ending -ntur.\n",
      "\n",
      "The most common -ntur tokens are: \n",
      "[('dicuntur', 1848),\n",
      " ('uidentur', 1665),\n",
      " ('uideantur', 781),\n",
      " ('uidebantur', 575),\n",
      " ('sequuntur', 502),\n",
      " ('continentur', 500),\n",
      " ('uocantur', 488),\n",
      " ('uiderentur', 411),\n",
      " ('utuntur', 389),\n",
      " ('nascuntur', 348),\n",
      " ('appellantur', 329),\n",
      " ('habentur', 324),\n",
      " ('referuntur', 309),\n",
      " ('feruntur', 309),\n",
      " ('tenentur', 294),\n",
      " ('dicantur', 264),\n",
      " ('aguntur', 262),\n",
      " ('inueniuntur', 259),\n",
      " ('patiuntur', 240),\n",
      " ('dantur', 239),\n",
      " ('loquuntur', 235),\n",
      " ('geruntur', 220),\n",
      " ('teneantur', 216),\n",
      " ('arbitrantur', 206),\n",
      " ('mouentur', 201)]\n",
      "\n",
      " -ntur tokens make up 0.49% of the Latin Library. Diederich reports .51%.\n"
     ]
    }
   ],
   "source": [
    "print('There are %d tokens with the ending -ntur.\\n' % len(ntur_tokens))\n",
    "\n",
    "print('The most common -ntur tokens are: ')\n",
    "pprint(Counter(ntur_tokens).most_common(25))\n",
    "\n",
    "print('\\n -ntur tokens make up {:.2%} of the Latin Library. Diederich reports .51%.'.format(len(ntur_tokens)/size))"
   ]
  },
  {
   "cell_type": "markdown",
   "metadata": {},
   "source": [
    "### -isti acted"
   ]
  },
  {
   "cell_type": "code",
   "execution_count": 54,
   "metadata": {
    "collapsed": true
   },
   "outputs": [],
   "source": [
    "isti_exceptions = ['christi', 'isti', 'tristi', 'cristi']\n",
    "isti_tokens = [token for token in tokens if token.endswith('isti') and token not in isti_exceptions]"
   ]
  },
  {
   "cell_type": "code",
   "execution_count": 55,
   "metadata": {},
   "outputs": [
    {
     "name": "stdout",
     "output_type": "stream",
     "text": [
      "There are 9246 tokens with the ending -isti.\n",
      "\n",
      "The most common -isti tokens are: \n",
      "[('fecisti', 687),\n",
      " ('dedisti', 405),\n",
      " ('dixisti', 393),\n",
      " ('fuisti', 276),\n",
      " ('uidisti', 251),\n",
      " ('uoluisti', 246),\n",
      " ('audisti', 174),\n",
      " ('potuisti', 147),\n",
      " ('accepisti', 140),\n",
      " ('uenisti', 135),\n",
      " ('habuisti', 122),\n",
      " ('misisti', 121),\n",
      " ('scripsisti', 112),\n",
      " ('sisti', 92),\n",
      " ('posuisti', 88),\n",
      " ('meministi', 83),\n",
      " ('coepisti', 80),\n",
      " ('occidisti', 78),\n",
      " ('perdidisti', 74),\n",
      " ('debuisti', 73),\n",
      " ('egisti', 66),\n",
      " ('emisti', 64),\n",
      " ('uicisti', 63),\n",
      " ('noluisti', 59),\n",
      " ('tulisti', 59)]\n",
      "\n",
      " -isti tokens make up 0.07% of the Latin Library. Diederich reports .05%.\n"
     ]
    }
   ],
   "source": [
    "print('There are %d tokens with the ending -isti.\\n' % len(isti_tokens))\n",
    "\n",
    "print('The most common -isti tokens are: ')\n",
    "pprint(Counter(isti_tokens).most_common(25))\n",
    "\n",
    "print('\\n -isti tokens make up {:.2%} of the Latin Library. Diederich reports .05%.'.format(len(isti_tokens)/size))"
   ]
  },
  {
   "cell_type": "markdown",
   "metadata": {},
   "source": [
    "### -erunt acted"
   ]
  },
  {
   "cell_type": "code",
   "execution_count": 58,
   "metadata": {
    "collapsed": true
   },
   "outputs": [],
   "source": [
    "erunt_exceptions = ['fuerunt', 'erunt', 'ferunt', 'quaerunt']\n",
    "erunt_tokens = [token for token in tokens if token.endswith('erunt') and token not in erunt_exceptions]"
   ]
  },
  {
   "cell_type": "code",
   "execution_count": 59,
   "metadata": {},
   "outputs": [
    {
     "name": "stdout",
     "output_type": "stream",
     "text": [
      "There are 40486 tokens with the ending -erunt.\n",
      "\n",
      "The most common -erunt tokens are: \n",
      "[('dixerunt', 1396),\n",
      " ('fecerunt', 1158),\n",
      " ('uenerunt', 1065),\n",
      " ('coeperunt', 836),\n",
      " ('potuerunt', 743),\n",
      " ('dederunt', 561),\n",
      " ('uoluerunt', 528),\n",
      " ('uiderunt', 446),\n",
      " ('poterunt', 389),\n",
      " ('habuerunt', 383),\n",
      " ('miserunt', 372),\n",
      " ('ceciderunt', 370),\n",
      " ('acceperunt', 354),\n",
      " ('posuerunt', 331),\n",
      " ('peruenerunt', 309),\n",
      " ('responderunt', 297),\n",
      " ('inuenerunt', 278),\n",
      " ('receperunt', 268),\n",
      " ('conuenerunt', 245),\n",
      " ('crediderunt', 244),\n",
      " ('reliquerunt', 238),\n",
      " ('tulerunt', 238),\n",
      " ('rescripserunt', 235),\n",
      " ('perierunt', 231),\n",
      " ('tradiderunt', 217)]\n",
      "\n",
      " -erunt tokens make up 0.30% of the Latin Library. Diederich reports .20%.\n"
     ]
    }
   ],
   "source": [
    "print('There are %d tokens with the ending -erunt.\\n' % len(erunt_tokens))\n",
    "\n",
    "print('The most common -erunt tokens are: ')\n",
    "pprint(Counter(erunt_tokens).most_common(25))\n",
    "\n",
    "print('\\n -erunt tokens make up {:.2%} of the Latin Library. Diederich reports .20%.'.format(len(erunt_tokens)/size))"
   ]
  },
  {
   "cell_type": "markdown",
   "metadata": {},
   "source": [
    "### -ri to be acted upon"
   ]
  },
  {
   "cell_type": "markdown",
   "metadata": {},
   "source": [
    "### -isse to have acted"
   ]
  },
  {
   "cell_type": "code",
   "execution_count": 62,
   "metadata": {
    "collapsed": true
   },
   "outputs": [],
   "source": [
    "isse_exceptions = []\n",
    "isse_tokens = [token for token in tokens if token.endswith('isse') and token not in isse_exceptions]"
   ]
  },
  {
   "cell_type": "code",
   "execution_count": 63,
   "metadata": {},
   "outputs": [
    {
     "name": "stdout",
     "output_type": "stream",
     "text": [
      "There are 30928 tokens with the ending -isse.\n",
      "\n",
      "The most common -isse tokens are: \n",
      "[('fuisse', 5429),\n",
      " ('fecisse', 1239),\n",
      " ('potuisse', 820),\n",
      " ('dixisse', 760),\n",
      " ('uenisse', 740),\n",
      " ('habuisse', 635),\n",
      " ('dedisse', 515),\n",
      " ('meminisse', 393),\n",
      " ('uidisse', 392),\n",
      " ('uoluisse', 369),\n",
      " ('accepisse', 346),\n",
      " ('peruenisse', 238),\n",
      " ('egisse', 221),\n",
      " ('respondisse', 211),\n",
      " ('cecidisse', 208),\n",
      " ('scripsisse', 204),\n",
      " ('audisse', 204),\n",
      " ('odisse', 195),\n",
      " ('sensisse', 183),\n",
      " ('perisse', 182),\n",
      " ('accidisse', 171),\n",
      " ('meruisse', 165),\n",
      " ('inuenisse', 160),\n",
      " ('tulisse', 153),\n",
      " ('placuisse', 151)]\n",
      "\n",
      " -isse tokens make up 0.23% of the Latin Library. Diederich reports .21%.\n"
     ]
    }
   ],
   "source": [
    "print('There are %d tokens with the ending -isse.\\n' % len(isse_tokens))\n",
    "\n",
    "print('The most common -isse tokens are: ')\n",
    "pprint(Counter(isse_tokens).most_common(25))\n",
    "\n",
    "print('\\n -isse tokens make up {:.2%} of the Latin Library. Diederich reports .21%.'.format(len(isse_tokens)/size))"
   ]
  },
  {
   "cell_type": "markdown",
   "metadata": {},
   "source": [
    "### verb stem with or without -te (Act!)"
   ]
  },
  {
   "cell_type": "markdown",
   "metadata": {},
   "source": [
    "### -ebus adverbs"
   ]
  },
  {
   "cell_type": "markdown",
   "metadata": {},
   "source": [
    "### -ebus adverbs"
   ]
  },
  {
   "cell_type": "markdown",
   "metadata": {},
   "source": [
    "### -ebus adverbs"
   ]
  },
  {
   "cell_type": "markdown",
   "metadata": {},
   "source": [
    "### -ebus adverbs"
   ]
  },
  {
   "cell_type": "markdown",
   "metadata": {},
   "source": [
    "### -ebus adverbs"
   ]
  },
  {
   "cell_type": "markdown",
   "metadata": {},
   "source": [
    "### -ebus adverbs"
   ]
  },
  {
   "cell_type": "markdown",
   "metadata": {},
   "source": [
    "### -ebus adverbs"
   ]
  },
  {
   "cell_type": "code",
   "execution_count": null,
   "metadata": {
    "collapsed": true
   },
   "outputs": [],
   "source": []
  }
 ],
 "metadata": {
  "kernelspec": {
   "display_name": "Python 3",
   "language": "python",
   "name": "python3"
  },
  "language_info": {
   "codemirror_mode": {
    "name": "ipython",
    "version": 3
   },
   "file_extension": ".py",
   "mimetype": "text/x-python",
   "name": "python",
   "nbconvert_exporter": "python",
   "pygments_lexer": "ipython3",
   "version": "3.6.1"
  }
 },
 "nbformat": 4,
 "nbformat_minor": 2
}
