{
 "cells": [
  {
   "cell_type": "markdown",
   "metadata": {},
   "source": [
    "- Based on (Herdan 1962).\n",
    "- same data and reasoning about expected values\n",
    "- G. responding to an \"elementary but serious error\"\n",
    "- 55: \"The unwary and unnumbered classicist will be led astray.\""
   ]
  },
  {
   "cell_type": "code",
   "execution_count": 42,
   "metadata": {
    "collapsed": true
   },
   "outputs": [],
   "source": [
    "# Imports\n",
    "\n",
    "import os\n",
    "import string\n",
    "import re\n",
    "from collections import Counter\n",
    "import html  \n",
    "\n",
    "from pprint import pprint\n",
    "\n",
    "import numpy as np\n",
    "import pandas as pd\n",
    "import matplotlib.pyplot as plt\n",
    "\n",
    "from cltk.corpus.latin import latinlibrary\n",
    "from cltk.tokenize.line import LineTokenizer\n",
    "from cltk.tokenize.word import WordTokenizer\n",
    "from cltk.stem.latin.j_v import JVReplacer"
   ]
  },
  {
   "cell_type": "code",
   "execution_count": 44,
   "metadata": {
    "collapsed": true
   },
   "outputs": [],
   "source": [
    "# Setup CLTK tools\n",
    "\n",
    "line_tokenizer = LineTokenizer('latin')\n",
    "word_tokenizer = WordTokenizer('latin')\n",
    "replacer = JVReplacer()"
   ]
  },
  {
   "cell_type": "markdown",
   "metadata": {},
   "source": [
    "## Get text of the Georgics"
   ]
  },
  {
   "cell_type": "code",
   "execution_count": 31,
   "metadata": {
    "collapsed": true
   },
   "outputs": [],
   "source": [
    "# Get the Aeneid texts\n",
    "\n",
    "files = latinlibrary.fileids()\n",
    "georgics_files = [file for file in files if 'vergil/geo' in file]\n",
    "georgics_raw = [latinlibrary.raw(file) for file in georgics_files]"
   ]
  },
  {
   "cell_type": "code",
   "execution_count": 32,
   "metadata": {
    "collapsed": true
   },
   "outputs": [],
   "source": [
    "# Preprocess texts\n",
    "\n",
    "def preprocess(text):\n",
    "\n",
    "    remove_list = [r'\\bVergil\\b',\n",
    "                   r'\\bThe Latin Library\\b',\n",
    "                   r'\\bThe Classics Page',\n",
    "                   r'\\bP. VERGILI MARONIS GEORGICON LIBER .+?\\b'\n",
    "                  ]\n",
    "    \n",
    "    for pattern in remove_list:\n",
    "        text = re.sub(pattern, '', text)\n",
    "    \n",
    "    # REMOVE LETTER HEADINGS?\n",
    "    \n",
    "    text = html.unescape(text) # Handle html entities\n",
    "    text = re.sub(r'&nbsp;?', ' ',text) #&nbsp; stripped incorrectly in corpus?\n",
    "    text = re.sub(r'\\x00',' ',text) #Another space problem?\n",
    "    \n",
    "    # Remove roman numeral headings; must be before lower & replacer\n",
    "    #text = re.sub(r'\\b(M{1,4}(CM|CD|D?C{0,3})(XC|XL|L?X{0,3})(IX|IV|V?I{0,3})|M{0,4}(CM|C?D|D?C{1,3})(XC|XL|L?X{0,3})(IX|IV|V?I{0,4})|M{0,4}(CM|CD|D?C{0,3})(XC|X?L|L?X{1,3})(IX|IV|V?I{0,3})|M{0,4}(CM|CD|D?C{0,3})(XC|XL|L?X{0,3})(IX|I?V|V?I{1,3}))\\b[\\.]',' ',text)\n",
    "    \n",
    "    text = text.lower()\n",
    "    text = replacer.replace(text) #Normalize u/v & i/j\n",
    "    \n",
    "    # Herdan also normalizes 'qu' to 'c'\n",
    "    #text = re.sub('qu', 'k', text)\n",
    "    #text = re.sub('cui', 'ku', text)\n",
    "    \n",
    "    \n",
    "    punctuation =\"\\\"#$%&\\'()*+,-/:;<=>@[\\]^_`{|}~.?!«»\"\n",
    "    translator = str.maketrans({key: \" \" for key in punctuation})\n",
    "    text = text.translate(translator)\n",
    "    \n",
    "    translator = str.maketrans({key: \" \" for key in '0123456789'})\n",
    "    text = text.translate(translator)\n",
    "    \n",
    "    text = re.sub('[ ]+',' ', text) # Remove double spaces\n",
    "    text = re.sub('\\s+\\n+\\s+','\\n', text) # Remove double lines and trim spaces around new lines\n",
    "    \n",
    "    return text"
   ]
  },
  {
   "cell_type": "code",
   "execution_count": 33,
   "metadata": {},
   "outputs": [
    {
     "name": "stdout",
     "output_type": "stream",
     "text": [
      "\n",
      "quid faciat laetas segetes quo sidere terram\n",
      "uertere maecenas ulmisque adiungere uitis\n",
      "conueniat quae cura boum qui cultus habendo\n",
      "sit pecori apibus quanta experientia parcis\n",
      "hinc canere incipiam uos o clarissima mundi\n",
      "lumina labentem caelo quae ducitis annum\n",
      "liber et alma ceres uestro si munere tellus\n",
      "chaoniam pingui glandem mutauit arista\n",
      "poculaque inuentis acheloia miscuit uuis\n",
      "et uos agrestum praesentia numina fauni\n",
      "ferte simul faunique pedem dryadesque puellae\n",
      "munera uestra cano tuque o cui prima frementem\n",
      "fudit equum magno tellus percussa tridenti\n",
      "neptune et cultor nemorum cui pinguia ceae\n",
      "ter centum niuei tondent dumeta iuuenci\n",
      "ipse nemus linquens patrium saltusque lycaei\n",
      "pan ouium custos tua si tibi maenala curae\n",
      "adsis o tegeaee fauens oleaeque minerua\n",
      "inuentrix uncique puer monstrator aratri\n",
      "et teneram ab radice ferens siluane cupressum\n",
      "dique deaeque omnes studium quibus arua tueri\n",
      "quique nouas alitis non ullo semine fruges\n",
      "quique satis largum caelo demittitis imbrem\n",
      "tuque adeo quem mox quae sint habitura deorum\n",
      "concilia incertum est urbisne inuisere caesar\n",
      "terrarumque uelis curam et te maximus orbis\n",
      "auctorem frugum tempestatumque potentem\n",
      "accipiat cingens materna tempora myrto\n",
      "an deus immensi uenias maris ac tua nautae\n",
      "numina sola colant tibi seruiat ultima thule\n",
      "teque sibi generum tethys emat omnibus undis\n",
      "anne nouum tardis sidus te mensibus addas\n",
      "qua locus erigonen inter chelasque sequentis\n",
      "panditur ipse tibi iam bracchia contrahit ardens\n",
      "scorpius et caeli iusta plus parte reliquit\n",
      "quidquid eris nam te nec sperant tartara regem\n",
      "nec tibi regnandi ueniat tam dira cupido\n",
      "quamuis elysios miretur graecia campos\n",
      "nec repetita sequi curet proserpina matrem\n",
      "da facilem cursum atque audacibus adnue coeptis\n",
      "ignarosque uiae mecum miseratus agrestis\n",
      "ingredere et uotis iam nunc adsuesce uocari\n",
      "uere nouo gelidus canis cum montibus umor\n",
      "liquitur et zephyro putris se glaeba resoluit\n",
      "depresso incipiat iam tum mihi taurus aratro\n",
      "ingemere et sulco attritus splendescere uomer\n",
      "illa seges demum uotis respondet auari\n",
      "agricolae bis quae solem bis frigora sensit\n",
      "illius immensae ruperunt horrea messes\n",
      "ac prius ignotum ferro quam scindimus aequor\n",
      "uentos et uarium caeli praediscere morem\n",
      "cura sit ac patrios cultusque habitusque locorum\n",
      "et quid quaeque ferat regio et quid quaeque recuset\n",
      "hic segetes illic ueniunt felicius uuae\n",
      "arborei fetus alibi atque inussa uirescunt\n",
      "gramina nonne uides croceos ut tmolus odores\n",
      "india mittit ebur molles sua tura sabaei\n",
      "at chalybes nudi ferrum uirosaque pontus\n",
      "castorea eliadum palmas epiros equarum\n",
      "continuo has leges aeternaque foedera certis\n",
      "imposuit natura locis quo tempore primum\n",
      "deucalion uacuum lapides iactauit in orbem\n",
      "unde homines nati durum genus ergo age terrae\n",
      "pingue solum primis extemplo a mensibus anni\n",
      "fortes inuertant tauri glaebasque iacentis\n",
      "puluerulenta coquat maturis solibus aestas\n",
      "at si non fuerit tellus fecunda sub ipsum\n",
      "arcturum tenui sat erit suspendere sulco\n",
      "illic officiant laetis ne frugibus herbae\n",
      "hic sterilem exiguus ne deserat umor harenam\n",
      "alternis idem tonsas cessare noualis\n",
      "et segnem patiere situ durescere campum\n",
      "aut ibi flaua seres mutato sidere farra\n",
      "unde prius laetum siliqua quassante legumen\n",
      "aut tenuis fetus uiciae tristisque lupini\n",
      "sustuleris fragilis calamos siluamque sonantem\n",
      "urit enim lini campum seges urit auenae\n",
      "urunt lethaeo perfusa papauera somno\n",
      "sed tamen alternis facilis labor arida tantum\n",
      "ne saturare fimo pingui pudeat sola neue\n",
      "effetos cinerem immundum iactare per agros\n",
      "sic quoque mutatis requiescunt fetibus arua\n",
      "nec nulla interea est inaratae gratia terrae\n",
      "saepe etiam sterilis incendere profuit agros\n",
      "atque leuem stipulam crepitantibus urere flammis\n",
      "siue inde occultas uiris et pabula terrae\n",
      "pinguia concipiunt siue illis omne per ignem\n",
      "excoquitur uitium atque exsudat inutilis umor\n",
      "seu pluris calor ille uias et caeca relaxat\n",
      "spiramenta nouas ueniat qua sucus in herbas\n",
      "seu durat magis et uenas astringit hiantis\n",
      "ne tenues pluuiae rapidiue potentia solis\n",
      "acrior aut boreae penetrabile frigus adurat\n",
      "multum adeo rastris glaebas qui frangit inertis\n",
      "uimineasque trahit cratis iuuat arua neque illum\n",
      "flaua ceres alto nequiquam spectat olympo\n",
      "et qui proscisso quae suscitat aequore terga\n",
      "rursus in obliquum uerso perrumpit aratro\n",
      "exercetque frequens tellurem atque imperat aruis\n",
      "umida solstitia atque hiemes orate serenas\n",
      "agricolae hiberno laetissima puluere farra\n",
      "laetus ager nullo tantum se mysia cultu\n",
      "iactat et ipsa suas mirantur gargara messis\n",
      "quid dicam iacto qui semine comminus arua\n",
      "insequitur cumulosque ruit male pinguis harenae\n",
      "deinde satis fluuium inducit riuosque sequentis\n",
      "et cum exustus ager morientibus aestuat herbis\n",
      "ecce supercilio cliuosi tramitis undam\n",
      "elicit illa cadens raucum per leuia murmur\n",
      "saxa ciet scatebrisque arentia temperat arua\n",
      "quid qui ne grauidis procumbat culmus aristis\n",
      "luxuriem segetum tenera depascit in herba\n",
      "cum primum sulcos aequant sata quique paludis\n",
      "collectum umorem bibula deducit harena\n",
      "praesertim incertis si mensibus amnis abundans\n",
      "exit et obducto late tenet omnia limo\n",
      "unde cauae tepido sudant umore lacunae\n",
      "nec tamen haec cum sint hominumque boumque labores\n",
      "uersando terram experti nihil improbus anser\n",
      "strymoniaeque grues et amaris intiba fibris\n",
      "officiunt aut umbra nocet pater ipse colendi\n",
      "haud facilem esse uiam uoluit primusque per artem\n",
      "mouit agros curis acuens mortalia corda\n",
      "nec torpere graui passus sua regna ueterno\n",
      "ante iouem nulli subigebant arua coloni\n",
      "ne signare quidem aut partiri limite campum\n",
      "fas erat in medium quaerebant ipsaque tellus\n",
      "omnia liberius nullo poscente ferebat\n",
      "ille malum uirus serpentibus addidit atris\n",
      "praedarique lupos iussit pontumque moueri\n",
      "mellaque decussit foliis ignemque remouit\n",
      "et passim riuis currentia uina repressit\n",
      "ut uarias usus meditando extunderet artis\n",
      "paulatim et sulcis frumenti quaereret herbam\n",
      "ut silicis uenis abstrusum excuderet ignem\n",
      "tunc alnos primum fluuii sensere cauatas\n",
      "nauita tum stellis numeros et nomina fecit\n",
      "pleiadas hyadas claramque lycaonis arcton\n",
      "tum laqueis captare feras et fallere uisco\n",
      "inuentum et magnos canibus circumdare saltus\n",
      "atque alius latum funda iam uerberat amnem\n",
      "alta petens pelagoque alius trahit umida lina\n",
      "tum ferri rigor atque argutae lammina serrae\n",
      "nam primi cuneis scindebant fissile lignum\n",
      "tum uariae uenere artes labor omnia uicit\n",
      "improbus et duris urgens in rebus egestas\n",
      "prima ceres ferro mortalis uertere terram\n",
      "instituit cum iam glandes atque arbuta sacrae\n",
      "deficerent siluae et uictum dodona negaret\n",
      "mox et frumentis labor additus ut mala culmos\n",
      "esset robigo segnisque horreret in aruis\n",
      "carduus intereunt segetes subit aspera silua\n",
      "lappaeque tribolique interque nitentia culta\n",
      "infelix lolium et steriles dominantur auenae\n",
      "quod nisi et adsiduis herbam insectabere rastris\n",
      "et sonitu terrebis auis et ruris opaci\n",
      "falce premes umbras uotisque uocaueris imbrem\n",
      "heu magnum alterius frustra spectabis aceruum\n",
      "concussaque famem in siluis solabere quercu\n",
      "dicendum et quae sint duris agrestibus arma\n",
      "quis sine nec potuere seri nec surgere messes\n",
      "uomis et inflexi primum graue robur aratri\n",
      "tardaque eleusinae matris uoluentia plaustra\n",
      "tribulaque traheaeque et iniquo pondere rastri\n",
      "uirgea praeterea celei uilisque supellex\n",
      "arbuteae crates et mystica uannus iacchi\n",
      "omnia quae multo ante memor prouisa repones\n",
      "si te digna manet diuini gloria ruris\n",
      "continuo in siluis magna ui flexa domatur\n",
      "in burim et curui formam accipit ulmus aratri\n",
      "huic a stirpe pedes temo protentus in octo\n",
      "binae aures duplici aptantur dentalia dorso\n",
      "caeditur et tilia ante iugo leuis altaque fagus\n",
      "stiuaque quae currus a tergo torqueat imos\n",
      "et suspensa focis explorat robora fumus\n",
      "possum multa tibi ueterum praecepta referre\n",
      "ni refugis tenuisque piget cognoscere curas\n",
      "area cum primis ingenti aequanda cylindro\n",
      "et uertenda manu et creta solidanda tenaci\n",
      "ne subeant herbae neu puluere uicta fatiscat\n",
      "tum uariae inludant pestes saepe exiguus mus\n",
      "sub terris posuitque domos atque horrea fecit\n",
      "aut oculis capti fodere cubilia talpae\n",
      "inuentusque cauis bufo et quae plurima terrae\n",
      "monstra ferunt populatque ingentem farris aceruum\n",
      "curculio atque inopi metuens formica senectae\n",
      "contemplator item cum se nux plurima siluis\n",
      "induet in florem et ramos curuabit olentis\n",
      "si superant fetus pariter frumenta sequentur\n",
      "magnaque cum magno ueniet tritura calore\n",
      "at si luxuria foliorum exuberat umbra\n",
      "nequiquam pinguis palea teret area culmos\n",
      "semina uidi equidem multos medicare serentis\n",
      "et nitro prius et nigra perfundere amurca\n",
      "grandior ut fetus siliquis fallacibus esset\n",
      "et quamuis igni exiguo properata maderent\n",
      "uidi lecta diu et multo spectata labore\n",
      "degenerare tamen ni uis humana quotannis\n",
      "maxima quaeque manu legeret sic omnia fatis\n",
      "in peius ruere ac retro sublapsa referri\n",
      "non aliter quam qui aduerso uix flumine lembum\n",
      "remigiis subigit si bracchia forte remisit\n",
      "atque illum in praeceps prono rapit alueus amni\n",
      "praeterea tam sunt arcturi sidera nobis\n",
      "haedorumque dies seruandi et lucidus anguis\n",
      "quam quibus in patriam uentosa per aequora uectis\n",
      "pontus et ostriferi fauces temptantur abydi\n",
      "libra die somnique pares ubi fecerit horas\n",
      "et medium luci atque umbris iam diuidit orbem\n",
      "exercete uiri tauros serite hordea campis\n",
      "usque sub extremum brumae intractabilis imbrem\n",
      "nec non et lini segetem et cereale papauer\n",
      "tempus humo tegere et iamdudum incumbere aratris\n",
      "dum sicca tellure licet dum nubila pendent\n",
      "uere fabis satio tum te quoque medica putres\n",
      "accipiunt sulci et milio uenit annua cura\n",
      "candidus auratis aperit cum cornibus annum\n",
      "taurus et auerso cedens canis occidit astro\n",
      "at si triticeam in messem robustaque farra\n",
      "exercebis humum solisque instabis aristis\n",
      "ante tibi eoae atlantides abscondantur\n",
      "cnosiaque ardentis decedat stella coronae\n",
      "debita quam sulcis committas semina quamque\n",
      "inuitae properes anni spem credere terrae\n",
      "multi ante occasum maiae coepere sed illos\n",
      "exspectata seges uanis elusit auenis\n",
      "si uero uiciamque seres uilemque phaselum\n",
      "nec pelusiacae curam aspernabere lentis\n",
      "haud obscura cadens mittet tibi signa bootes\n",
      "incipe et ad medias sementem extende pruinas\n",
      "idcirco certis dimensum partibus orbem\n",
      "per duodena regit mundi sol aureus astra\n",
      "quinque tenent caelum zonae quarum una corusco\n",
      "semper sole rubens et torrida semper ab igni\n",
      "quam circum extremae dextra laeuaque trahuntur\n",
      "caeruleae glacie concretae atque imbribus atris\n",
      "has inter mediamque duae mortalibus aegris\n",
      "munere concessae diuum et uia secta per ambas\n",
      "obliquus qua se signorum uerteret ordo\n",
      "mundus ut ad scythiam riphaeasque arduus arces\n",
      "consurgit premitur libyae deuexus in austros\n",
      "hic uertex nobis semper sublimis at illum\n",
      "sub pedibus styx atra uidet manesque profundi\n",
      "maximus hic flexu sinuoso elabitur anguis\n",
      "circum perque duas in morem fluminis arctos\n",
      "arctos oceani metuentis aequore tingi\n",
      "illic ut perhibent aut intempesta silet nox\n",
      "semper et obtenta densentur nocte tenebrae\n",
      "aut redit a nobis aurora diemque reducit\n",
      "nosque ubi primus equis oriens adflauit anhelis\n",
      "illic sera rubens accendit lumina uesper\n",
      "hinc tempestates dubio praediscere caelo\n",
      "possumus hinc messisque diem tempusque serendi\n",
      "et quando infidum remis impellere marmor\n",
      "conueniat quando armatas deducere classis\n",
      "aut tempestiuam siluis euertere pinum\n",
      "nec frustra signorum obitus speculamur et ortus\n",
      "temporibusque parem diuersis quattuor annum\n",
      "frigidus agricolam si quando continet imber\n",
      "multa forent quae mox caelo properanda sereno\n",
      "maturare datur durum procudit arator\n",
      "uomeris obtunsi dentem cauat arbore lintres\n",
      "aut pecori signum aut numeros impressit aceruis\n",
      "exacuunt alii uallos furcasque bicornis\n",
      "atque amerina parant lentae retinacula uiti\n",
      "nunc facilis rubea texatur fiscina uirga\n",
      "nunc torrete igni fruges nunc frangite saxo\n",
      "quippe etiam festis quaedam exercere diebus\n",
      "fas et iura sinunt riuos deducere nulla\n",
      "religio uetuit segeti praetendere saepem\n",
      "insidias auibus moliri incendere uepres\n",
      "balantumque gregem fluuio mersare salubri\n",
      "saepe oleo tardi costas agitator aselli\n",
      "uilibus aut onerat pomis lapidemque reuertens\n",
      "incusum aut atrae massam picis urbe reportat\n",
      "ipsa dies alios alio dedit ordine luna\n",
      "felicis operum quintam fuge pallidus orcus\n",
      "eumenidesque satae tum partu terra nefando\n",
      "coeumque iapetumque creat saeuumque typhoea\n",
      "et coniuratos caelum rescindere fratres\n",
      "ter sunt conati imponere pelio ossam\n",
      "scilicet atque ossae frondosum inuoluere olympum\n",
      "ter pater exstructos disiecit fulmine montis\n",
      "septima post decimam felix et ponere uitem\n",
      "et prensos domitare boues et licia telae\n",
      "addere nona fugae melior contraria furtis\n",
      "multa adeo gelida melius se nocte dedere\n",
      "aut cum sole nouo terras inrorat eous\n",
      "nocte leues melius stipulae nocte arida prata\n",
      "tondentur noctes lentus non deficit umor\n",
      "et quidam seros hiberni ad luminis ignis\n",
      "peruigilat ferroque faces inspicat acuto\n",
      "interea longum cantu solata laborem\n",
      "arguto coniunx percurrit pectine telas\n",
      "aut dulcis musti uolcano decoquit umorem\n",
      "et foliis undam trepidi despumat aeni\n",
      "at rubicunda ceres medio succiditur aestu\n",
      "et medio tostas aestu terit area fruges\n",
      "nudus ara sere nudus hiems ignaua colono\n",
      "frigoribus parto agricolae plerumque fruuntur\n",
      "mutuaque inter se laeti conuiuia curant\n",
      "inuitat genialis hiems curasque resoluit\n",
      "ceu pressae cum iam portum tetigere carinae\n",
      "puppibus et laeti nautae imposuere coronas\n",
      "sed tamen et quernas glandes tum stringere tempus\n",
      "et lauri bacas oleamque cruentaque myrta\n",
      "tum gruibus pedicas et retia ponere ceruis\n",
      "auritosque sequi lepores tum figere dammas\n",
      "stuppea torquentem balearis uerbera fundae\n",
      "cum nix alta iacet glaciem cum flumina trudunt\n",
      "quid tempestates autumni et sidera dicam\n",
      "atque ubi iam breuiorque dies et mollior aestas\n",
      "quae uigilanda uiris uel cum ruit imbriferum uer\n",
      "spicea iam campis cum messis inhorruit et cum\n",
      "frumenta in uiridi stipula lactentia turgent\n",
      "saepe ego cum flauis messorem induceret aruis\n",
      "agricola et fragili iam stringeret hordea culmo\n",
      "omnia uentorum concurrere proelia uidi\n",
      "quae grauidam late segetem ab radicibus imis\n",
      "sublimem expulsam eruerent ita turbine nigro\n",
      "ferret hiems culmumque leuem stipulasque uolantis\n",
      "saepe etiam immensum caelo uenit agmen aquarum\n",
      "et foedam glomerant tempestatem imbribus atris\n",
      "collectae ex alto nubes ruit arduus aether\n",
      "et pluuia ingenti sata laeta boumque labores\n",
      "diluit implentur fossae et caua flumina crescunt\n",
      "cum sonitu feruetque fretis spirantibus aequor\n",
      "ipse pater media nimborum in nocte corusca\n",
      "fulmina molitur dextra quo maxima motu\n",
      "terra tremit fugere ferae et mortalia corda\n",
      "per gentis humilis strauit pauor ille flagranti\n",
      "aut atho aut rhodopen aut alta ceraunia telo\n",
      "deicit ingeminant austri et densissimus imber\n",
      "nunc nemora ingenti uento nunc litora plangunt\n",
      "hoc metuens caeli mensis et sidera serua\n",
      "frigida saturni sese quo stella receptet\n",
      "quos ignis caelo cyllenius erret in orbis\n",
      "in primis uenerare deos atque annua magnae\n",
      "sacra refer cereri laetis operatus in herbis\n",
      "extremae sub casum hiemis iam uere sereno\n",
      "tum pingues agni et tum mollissima uina\n",
      "tum somni dulces densaeque in montibus umbrae\n",
      "cuncta tibi cererem pubes agrestis adoret\n",
      "cui tu lacte fauos et miti dilue baccho\n",
      "terque nouas circum felix eat hostia fruges\n",
      "omnis quam chorus et socii comitentur ouantes\n",
      "et cererem clamore uocent in tecta neque ante\n",
      "falcem maturis quisquam supponat aristis\n",
      "quam cereri torta redimitus tempora quercu\n",
      "det motus incompositos et carmina dicat\n",
      "atque haec ut certis possemus discere signis\n",
      "aestusque pluuiasque et agentis frigora uentos\n",
      "ipse pater statuit quid menstrua luna moneret\n",
      "quo signo caderent austri quid saepe uidentes\n",
      "agricolae propius stabulis armenta tenerent\n",
      "continuo uentis surgentibus aut freta ponti\n",
      "incipiunt agitata tumescere et aridus altis\n",
      "montibus audiri fragor aut resonantia longe\n",
      "litora misceri et nemorum increbrescere murmur\n",
      "iam sibi tum a curuis male temperat unda carinis\n",
      "cum medio celeres reuolant ex aequore mergi\n",
      "clamoremque ferunt ad litora cumque marinae\n",
      "in sicco ludunt fulicae notasque paludes\n",
      "deserit atque altam supra uolat ardea nubem\n",
      "saepe etiam stellas uento impendente uidebis\n",
      "praecipitis caelo labi noctisque per umbram\n",
      "flammarum longos a tergo albescere tractus\n",
      "saepe leuem paleam et frondes uolitare caducas\n",
      "aut summa nantis in aqua conludere plumas\n",
      "at boreae de parte trucis cum fulminat et cum\n",
      "eurique zephyrique tonat domus omnia plenis\n",
      "rura natant fossis atque omnis nauita ponto\n",
      "umida uela legit numquam imprudentibus imber\n",
      "obfuit aut illum surgentem uallibus imis\n",
      "aeriae fugere grues aut bucula caelum\n",
      "suspiciens patulis captauit naribus auras\n",
      "aut arguta lacus circumuolitauit hirundo\n",
      "et ueterem in limo ranae cecinere querelam\n",
      "saepius et tectis penetralibus extulit oua\n",
      "angustum formica terens iter et bibit ingens\n",
      "arcus et e pastu decedens agmine magno\n",
      "coruorum increpuit densis exercitus alis\n",
      "iam uariae pelagi uolucres et quae asia circum\n",
      "dulcibus in stagnis rimantur prata caystri—\n",
      "certatim largos umeris infundere rores\n",
      "nunc caput obiectare fretis nunc currere in undas\n",
      "et studio incassum uideas gestire lauandi\n",
      "tum cornix plena pluuiam uocat improba uoce\n",
      "et sola in sicca secum spatiatur harena\n",
      "ne nocturna quidem carpentes pensa puellae\n",
      "nesciuere hiemem testa cum ardente uiderent\n",
      "scintillare oleum et putris concrescere fungos\n",
      "nec minus ex imbri soles et aperta serena\n",
      "prospicere et certis poteris cognoscere signis\n",
      "nam neque tum stellis acies obtunsa uidetur\n",
      "nec fratris radiis obnoxia surgere luna\n",
      "tenuia nec lanae per caelum uellera ferri\n",
      "non tepidum ad solem pennas in litore pandunt\n",
      "dilectae thetidi alcyones non ore solutos\n",
      "immundi meminere sues iactare maniplos\n",
      "at nebulae magis ima petunt campoque recumbunt\n",
      "solis et occasum seruans de culmine summo\n",
      "nequiquam seros exercet noctua cantus\n",
      "apparet liquido sublimis in aere nisus\n",
      "et pro purpureo poenas dat scylla capillo\n",
      "quacumque illa leuem fugiens secat aethera pennis\n",
      "ecce inimicus atrox magno stridore per auras\n",
      "insequitur nisus qua se fert nisus ad auras\n",
      "illa leuem fugiens raptim secat aethera pennis\n",
      "tum liquidas corui presso ter gutture uoces\n",
      "aut quater ingeminant et saepe cubilibus altis\n",
      "nescio qua praeter solitum dulcedine laeti\n",
      "inter se in foliis strepitant iuuat imbribus actis\n",
      "progeniem paruam dulcisque reuisere nidos\n",
      "haud equidem credo quia sit diuinitus illis\n",
      "ingenium aut rerum fato prudentia maior\n",
      "uerum ubi tempestas et caeli mobilis umor\n",
      "mutauere uias et iuppiter uuidus austris\n",
      "denset erant quae rara modo et quae densa relaxat\n",
      "uertuntur species animorum et pectora motus\n",
      "nunc alios alios dum nubila uentus agebat\n",
      "concipiunt hinc ille auium concentus in agris\n",
      "et laetae pecudes et ouantes gutture corui\n",
      "si uero solem ad rapidum lunasque sequentis\n",
      "ordine respicies numquam te crastina fallet\n",
      "hora neque insidiis noctis capiere serenae\n",
      "luna reuertentis cum primum colligit ignis\n",
      "si nigrum obscuro comprenderit aera cornu\n",
      "maximus agricolis pelagoque parabitur imber\n",
      "at si uirgineum suffuderit ore ruborem\n",
      "uentus erit uento semper rubet aurea phoebe\n",
      "sin ortu quarto namque is certissimus auctor\n",
      "pura neque obtunsis per caelum cornibus ibit\n",
      "totus et ille dies et qui nascentur ab illo\n",
      "exactum ad mensem pluuia uentisque carebunt\n",
      "uotaque seruati soluent in litore nautae\n",
      "glauco et panopeae et inoo melicertae\n",
      "sol quoque et exoriens et cum se condet in undas\n",
      "signa dabit solem certissima signa sequentur\n",
      "et quae mane refert et quae surgentibus astris\n",
      "ille ubi nascentem maculis uariauerit ortum\n",
      "conditus in nubem medioque refugerit orbe\n",
      "suspecti tibi sint imbres namque urget ab alto\n",
      "arboribusque satisque notus pecorique sinister\n",
      "aut ubi sub lucem densa inter nubila sese\n",
      "diuersi rumpent radii aut ubi pallida surget\n",
      "tithoni croceum linquens aurora cubile\n",
      "heu male tum mitis defendet pampinus uuas\n",
      "tam multa in tectis crepitans salit horrida grando\n",
      "hoc etiam emenso cum iam decedit olympo\n",
      "profuerit meminisse magis nam saepe uidemus\n",
      "ipsius in uultu uarios errare colores\n",
      "caeruleus pluuiam denuntiat igneus euros\n",
      "sin maculae incipiunt rutilo immiscerier igni\n",
      "omnia tum pariter uento nimbisque uidebis\n",
      "feruere non illa quisquam me nocte per altum\n",
      "ire neque a terra moneat conuellere funem\n",
      "at si cum referetque diem condetque relatum\n",
      "lucidus orbis erit frustra terrebere nimbis\n",
      "et claro siluas cernes aquilone moueri\n",
      "denique quid uesper serus uehat unde serenas\n",
      "uentus agat nubes quid cogitet umidus auster\n",
      "sol tibi signa dabit solem quis dicere falsum\n",
      "audeat ille etiam caecos instare tumultus\n",
      "saepe monet fraudemque et operta tumescere bella\n",
      "ille etiam exstincto miseratus caesare romam\n",
      "cum caput obscura nitidum ferrugine texit\n",
      "impiaque aeternam timuerunt saecula noctem\n",
      "tempore quamquam illo tellus quoque et aequora ponti\n",
      "obscenaeque canes importunaeque uolucres\n",
      "signa dabant quotiens cyclopum efferuere in agros\n",
      "uidimus undantem ruptis fornacibus aetnam\n",
      "flammarumque globos liquefactaque uoluere saxa\n",
      "armorum sonitum toto germania caelo\n",
      "audiit insolitis tremuerunt motibus alpes\n",
      "uox quoque per lucos uulgo exaudita silentis\n",
      "ingens et simulacra modis pallentia miris\n",
      "uisa sub obscurum noctis pecudesque locutae\n",
      "infandum sistunt amnes terraeque dehiscunt\n",
      "et maestum inlacrimat templis ebur aeraque sudant\n",
      "proluit insano contorquens uertice siluas\n",
      "fluuiorum rex eridanus camposque per omnis\n",
      "cum stabulis armenta tulit nec tempore eodem\n",
      "tristibus aut extis fibrae apparere minaces\n",
      "aut puteis manare cruor cessauit et altae\n",
      "per noctem resonare lupis ululantibus urbes\n",
      "non alias caelo ceciderunt plura sereno\n",
      "fulgura nec diri totiens arsere cometae\n",
      "ergo inter sese paribus concurrere telis\n",
      "romanas acies iterum uidere philippi\n",
      "nec fuit indignum superis bis sanguine nostro\n",
      "emathiam et latos haemi pinguescere campos\n",
      "scilicet et tempus ueniet cum finibus illis\n",
      "agricola incuruo terram molitus aratro\n",
      "exesa inueniet scabra robigine pila\n",
      "aut grauibus rastris galeas pulsabit inanis\n",
      "grandiaque effossis mirabitur ossa sepulcris\n",
      "di patrii indigetes et romule uestaque mater\n",
      "quae tuscum tiberim et romana palatia seruas\n",
      "hunc saltem euerso iuuenem succurrere saeclo\n",
      "ne prohibete satis iam pridem sanguine nostro\n",
      "laomedonteae luimus periuria troiae\n",
      "iam pridem nobis caeli te regia caesar\n",
      "inuidet atque hominum queritur curare triumphos\n",
      "quippe ubi fas uersum atque nefas tot bella per orbem\n",
      "tam multae scelerum facies non ullus aratro\n",
      "dignus honos squalent abductis arua colonis\n",
      "et curuae rigidum falces conflantur in ensem\n",
      "hinc mouet euphrates illinc germania bellum\n",
      "uicinae ruptis inter se legibus urbes\n",
      "arma ferunt saeuit toto mars impius orbe\n",
      "ut cum carceribus sese effudere quadrigae\n",
      "addunt in spatia et frustra retinacula tendens\n",
      "fertur equis auriga neque audit currus habenas\n",
      "\n"
     ]
    }
   ],
   "source": [
    "# Preprocess the Georgics texts\n",
    "\n",
    "georgics_edit = [preprocess(raw) for raw in georgics_raw]\n",
    "print(georgics_edit[0])"
   ]
  },
  {
   "cell_type": "code",
   "execution_count": 58,
   "metadata": {
    "collapsed": true
   },
   "outputs": [],
   "source": [
    "# Get a list of initial letters\n",
    "\n",
    "def get_initials(lines):\n",
    "    temp = [line.strip() for line in lines]\n",
    "    return [line[0] for line in temp]\n"
   ]
  },
  {
   "cell_type": "code",
   "execution_count": 89,
   "metadata": {
    "collapsed": true
   },
   "outputs": [],
   "source": [
    "georgics_lines = [line_tokenizer.tokenize(edit) for edit in georgics_edit]\n",
    "georgics_initials = [get_initials(lines) for lines in georgics_lines]"
   ]
  },
  {
   "cell_type": "code",
   "execution_count": 64,
   "metadata": {
    "collapsed": true
   },
   "outputs": [],
   "source": [
    "# Function for combining list elements into various length strings\n",
    "\n",
    "def find_ngrams(input_list, n):\n",
    "    temp = list(zip(*[input_list[i:] for i in range(n)]))\n",
    "    ngrams = [\"\".join(t) for t in temp]\n",
    "    return ngrams\n"
   ]
  },
  {
   "cell_type": "code",
   "execution_count": 72,
   "metadata": {},
   "outputs": [
    {
     "name": "stdout",
     "output_type": "stream",
     "text": [
      "None\n"
     ]
    }
   ],
   "source": [
    "\n",
    "\n"
   ]
  },
  {
   "cell_type": "code",
   "execution_count": 66,
   "metadata": {},
   "outputs": [
    {
     "name": "stdout",
     "output_type": "stream",
     "text": [
      "['qu', 'uc', 'cs', 'sh', 'hl', 'll', 'lc', 'cp', 'pe', 'ef', 'fm', 'mf', 'fn', 'nt', 'ti', 'ip', 'pa', 'ai', 'ie', 'ed', 'dq', 'qq', 'qt', 'tc', 'ct', 'ta', 'aa', 'aa', 'an', 'nt', 'ta', 'aq', 'qp', 'ps', 'sq', 'qn', 'nq', 'qn', 'nd', 'di', 'ii', 'iu', 'ul', 'ld', 'di', 'ii', 'ia', 'ai', 'ia', 'au', 'uc', 'ce', 'eh', 'ha', 'ag', 'gi', 'ia', 'ac', 'cc', 'ci', 'id', 'du', 'up', 'pf', 'fp', 'pa', 'aa', 'ai', 'ih', 'ha', 'ae', 'ea', 'au', 'ua', 'as', 'su', 'uu', 'us', 'sn', 'ne', 'es', 'sn', 'ns', 'sa', 'as', 'sp', 'pe', 'es', 'ss', 'ss', 'sn', 'na', 'am', 'mu', 'uf', 'fe', 'er', 're', 'eu', 'ua', 'al', 'li', 'iq', 'qi', 'id', 'de', 'ee', 'ee', 'es', 'sq', 'ql', 'lc', 'cc', 'cp', 'pe', 'eu', 'un', 'nu', 'us', 'so', 'oh', 'hm', 'mn', 'na', 'an', 'nf', 'fo', 'oi', 'ip', 'pm', 'me', 'eu', 'up', 'pu', 'ut', 'tn', 'np', 'pt', 'ti', 'ia', 'aa', 'at', 'tn', 'nt', 'ti', 'ip', 'pi', 'id', 'dm', 'me', 'ec', 'cl', 'li', 'iq', 'qe', 'ef', 'fh', 'hc', 'cd', 'dq', 'qu', 'ut', 'tt', 'tu', 'ua', 'ao', 'os', 'sc', 'ci', 'ih', 'hb', 'bc', 'cs', 'se', 'ep', 'pn', 'na', 'ae', 'en', 'nt', 'ts', 'sa', 'ai', 'im', 'mc', 'cc', 'ci', 'is', 'sm', 'ma', 'an', 'ns', 'se', 'eg', 'ge', 'eu', 'ud', 'dm', 'mi', 'in', 'nr', 'ra', 'ap', 'ph', 'hq', 'qp', 'pl', 'le', 'ee', 'eu', 'un', 'nt', 'td', 'du', 'ua', 'ac', 'ct', 'ta', 'ae', 'ea', 'ac', 'cd', 'di', 'im', 'me', 'es', 'sn', 'nh', 'hi', 'ii', 'ip', 'pq', 'qs', 'sq', 'qc', 'ch', 'hm', 'mo', 'om', 'mc', 'ch', 'hs', 'sm', 'mc', 'ca', 'ai', 'is', 'sa', 'an', 'ni', 'ih', 'hp', 'pe', 'ec', 'ca', 'an', 'nt', 'tf', 'fm', 'mm', 'mu', 'ua', 'ae', 'ea', 'an', 'nn', 'nq', 'qf', 'fr', 'ri', 'ib', 'bs', 'su', 'ui', 'ii', 'if', 'fe', 'ec', 'ce', 'et', 'ts', 'st', 'ts', 'se', 'ea', 'am', 'ma', 'an', 'nt', 'te', 'ep', 'pi', 'ia', 'aa', 'ae', 'ea', 'ae', 'en', 'nf', 'fm', 'mi', 'ic', 'cp', 'ps', 'se', 'et', 'ta', 'as', 'sc', 'cq', 'qa', 'aq', 'qs', 'sf', 'fs', 'sa', 'ao', 'oq', 'qs', 'sf', 'fs', 'se', 'ec', 'ce', 'ed', 'dc', 'ci', 'if', 'ft', 'tp', 'pa', 'ad', 'dn', 'nh', 'hf', 'fq', 'qi', 'is', 'se', 'et', 'tt', 'tc', 'cc', 'ct', 'to', 'oe', 'ef', 'fq', 'qd', 'da', 'aa', 'ai', 'iq', 'qa', 'ac', 'ci', 'im', 'ml', 'li', 'ic', 'cc', 'ci', 'id', 'ds', 'sp', 'pf', 'fs', 'sa', 'aa', 'ae', 'er', 'ru', 'uo', 'oa', 'as', 'sa', 'ae', 'es', 'sa', 'aa', 'ac', 'ci', 'id', 'dc', 'cn', 'ne', 'et', 'te', 'en', 'nn', 'ns', 'sn', 'np', 'pn', 'nn', 'nt', 'tn', 'nd', 'di', 'ia', 'as', 'sn', 'na', 'ae', 'eq', 'qe', 'ei', 'ii', 'it', 'ta', 'an', 'ni', 'ip', 'ph', 'hi', 'iu', 'um', 'md', 'du', 'un', 'nc', 'ce', 'es', 'so', 'oh', 'hl', 'ls', 'sm', 'ma', 'au', 'us', 'sp', 'pt', 'te', 'eu', 'ug', 'gs', 'ss', 'se', 'ei', 'ic', 'cs', 'sa', 'aa', 'ad', 'dt', 'th', 'ht', 'th', 'hp', 'pi', 'ic', 'cs', 'so', 'of', 'fi', 'ia', 'al', 'le', 'ed', 'du', 'us', 'sa', 'as', 'si', 'ic', 'ci', 'it', 'to', 'os', 'su', 'uf', 'fa', 'aa', 'au', 'ui', 'iu', 'ui', 'ie', 'ep', 'pf', 'fc', 'ct', 'ta', 'ap', 'pn', 'nf', 'fe', 'er', 'rn', 'ne', 'es', 'sa', 'ae', 'ea', 'ag', 'gd', 'dq', 'qh', 'hn', 'nl', 'li', 'ii', 'iq', 'qt', 'td', 'de', 'eh', 'hu', 'ua', 'au', 'ua', 'af']\n"
     ]
    }
   ],
   "source": [
    "georgics_bigrams = [find_ngrams(initial,2) for initial in georgics_initials]\n",
    "print(georgics_bigrams[0])"
   ]
  },
  {
   "cell_type": "code",
   "execution_count": 73,
   "metadata": {
    "collapsed": true
   },
   "outputs": [],
   "source": [
    "def get_x_match(bigram):\n",
    "    return bigram[0] == bigram[1]"
   ]
  },
  {
   "cell_type": "code",
   "execution_count": 82,
   "metadata": {},
   "outputs": [
    {
     "name": "stdout",
     "output_type": "stream",
     "text": [
      "['l', 'q', 'a', 'a', 'i', 'i', 'c', 'a', 'u', 's', 's', 'e', 'e', 'c', 'a', 't', 'c', 'e', 'i', 'm', 'n', 'i', 'a', 't', 'c', 'a', 'c', 'a', 'a', 'n', 'n', 'i', 's', 'a', 'a', 'i']\n",
      "[['l', 'q', 'a', 'a', 'i', 'i', 'c', 'a', 'u', 's', 's', 'e', 'e', 'c', 'a', 't', 'c', 'e', 'i', 'm', 'n', 'i', 'a', 't', 'c', 'a', 'c', 'a', 'a', 'n', 'n', 'i', 's', 'a', 'a', 'i'], ['p', 's', 'n', 'n', 'n', 'a', 'n', 'h', 'a', 'a', 'q', 'e', 'i', 'q', 'a', 'a', 'a', 'a', 'a', 'n', 'u', 's', 'a', 'p', 'e', 'a', 'p', 'i', 'n', 'n', 'n', 'a', 'i', 'i', 'h', 's'], ['i', 'c', 'c', 'i', 'i', 'e', 's', 't', 'c', 'c', 't', 'i', 'f', 'i', 's', 's', 'n', 'p', 'i', 's', 'a', 'c', 'u', 'e', 's', 'i', 'a', 'a', 'i', 'c', 'n', 'd', 'p', 'n', 'p', 'i', 'u'], ['m', 'f', 'o', 'a', 'u', 'u', 'p', 'e', 's', 't', 't', 'i', 'c', 'e', 'i', 'd', 'a', 'i', 'i', 's', 'a', 'i', 'e', 's', 'e', 's', 'a', 'a', 'e', 'e', 's', 'm', 'a', 'e', 'p', 'p', 'o', 't', 'q', 'c', 'o', 's', 'i', 'a', 't', 't', 'm', 'i', 'q', 'q', 'c']]\n"
     ]
    }
   ],
   "source": [
    "def gap_match(bigrams):\n",
    "    temp = []\n",
    "    for gram in bigrams:\n",
    "        #print(gram)\n",
    "        if get_x_match(gram):\n",
    "            #print(gram)\n",
    "            temp.append(gram[0])\n",
    "    return(temp)\n",
    "\n",
    "            \n",
    "georgics_gap_matches = [gap_match(bigrams) for bigrams in georgics_bigrams]    \n",
    "print(gap_match(georgics_bigrams[0]))\n",
    "print(georgics_gap_matches)"
   ]
  },
  {
   "cell_type": "code",
   "execution_count": 126,
   "metadata": {},
   "outputs": [
    {
     "name": "stdout",
     "output_type": "stream",
     "text": [
      "[['a', 'a', 'a', 'a', 'a', 'a', 'a', 'a', 'a', 'a'], ['a', 'a', 'a', 'a', 'a', 'a', 'a', 'a', 'a', 'a', 'a'], ['a', 'a', 'a'], ['a', 'a', 'a', 'a', 'a', 'a', 'a']]\n"
     ]
    }
   ],
   "source": [
    "georgics_matches = []\n",
    "\n",
    "for bigrams in georgics_bigrams:\n",
    "    xx = []\n",
    "\n",
    "    for bigram in bigrams:\n",
    "        if get_x_match(bigram) and bigram.startswith('a'):\n",
    "            xx.append(bigram[0])\n",
    "    \n",
    "    georgics_matches.append(xx)\n",
    "\n",
    "print(georgics_matches)"
   ]
  },
  {
   "cell_type": "code",
   "execution_count": 129,
   "metadata": {},
   "outputs": [
    {
     "name": "stdout",
     "output_type": "stream",
     "text": [
      "[[('a', 10)], [('a', 11)], [('a', 3)], [('a', 7)]]\n"
     ]
    }
   ],
   "source": [
    "georgics_match_counts = [Counter(match) for match in georgics_matches]\n",
    "pprint([sorted(count.items()) for count in georgics_match_counts])"
   ]
  },
  {
   "cell_type": "code",
   "execution_count": 130,
   "metadata": {},
   "outputs": [
    {
     "data": {
      "text/plain": [
       "Counter({'a': 31})"
      ]
     },
     "execution_count": 130,
     "metadata": {},
     "output_type": "execute_result"
    }
   ],
   "source": [
    "sum(georgics_match_counts, Counter())"
   ]
  },
  {
   "cell_type": "code",
   "execution_count": 202,
   "metadata": {
    "collapsed": true
   },
   "outputs": [],
   "source": [
    "def find_skipgrams(input_list, n, step=0):\n",
    "    lists = [input_list[i:] for i in range(n+step)]\n",
    "    skipgrams = list(zip(lists[0],lists[-1]))\n",
    "    return skipgrams"
   ]
  },
  {
   "cell_type": "code",
   "execution_count": 203,
   "metadata": {},
   "outputs": [
    {
     "name": "stdout",
     "output_type": "stream",
     "text": [
      "[('a', 'v'), ('r', 'i'), ('m', 'r'), ('a', 'u'), (' ', 'm'), ('v', 'q'), ('i', 'u'), ('r', 'e')]\n"
     ]
    }
   ],
   "source": [
    "test = \" \"\n",
    "test = [l for l in test]\n",
    "print(find_skipgrams(test,2,4))"
   ]
  },
  {
   "cell_type": "code",
   "execution_count": 204,
   "metadata": {
    "collapsed": true
   },
   "outputs": [],
   "source": [
    "test = \"\"\"Arma virumque cano, Troiae qui primus ab oris\n",
    "Italiam, fato profugus, Laviniaque venit\n",
    "litora, multum ille et terris iactatus et alto\n",
    "vi superum saevae memorem Iunonis ob iram;\n",
    "multa quoque et bello passus, dum conderet urbem,               5\n",
    "inferretque deos Latio, genus unde Latinum,\n",
    "Albanique patres, atque altae moenia Romae.\"\"\""
   ]
  },
  {
   "cell_type": "code",
   "execution_count": 205,
   "metadata": {
    "collapsed": true
   },
   "outputs": [],
   "source": [
    "test = preprocess(test).split()"
   ]
  },
  {
   "cell_type": "code",
   "execution_count": 207,
   "metadata": {},
   "outputs": [
    {
     "name": "stdout",
     "output_type": "stream",
     "text": [
      "[('arma', 'cano'), ('uirumque', 'troiae'), ('cano', 'qui'), ('troiae', 'primus'), ('qui', 'ab'), ('primus', 'oris'), ('ab', 'italiam'), ('oris', 'fato'), ('italiam', 'profugus'), ('fato', 'lauiniaque'), ('profugus', 'uenit'), ('lauiniaque', 'litora'), ('uenit', 'multum'), ('litora', 'ille'), ('multum', 'et'), ('ille', 'terris'), ('et', 'iactatus'), ('terris', 'et'), ('iactatus', 'alto'), ('et', 'ui'), ('alto', 'superum'), ('ui', 'saeuae'), ('superum', 'memorem'), ('saeuae', 'iunonis'), ('memorem', 'ob'), ('iunonis', 'iram'), ('ob', 'multa'), ('iram', 'quoque'), ('multa', 'et'), ('quoque', 'bello'), ('et', 'passus'), ('bello', 'dum'), ('passus', 'conderet'), ('dum', 'urbem'), ('conderet', 'inferretque'), ('urbem', 'deos'), ('inferretque', 'latio'), ('deos', 'genus'), ('latio', 'unde'), ('genus', 'latinum'), ('unde', 'albanique'), ('latinum', 'patres'), ('albanique', 'atque'), ('patres', 'altae'), ('atque', 'moenia'), ('altae', 'romae')]\n"
     ]
    }
   ],
   "source": [
    "print(find_skipgrams(test,2,1))"
   ]
  },
  {
   "cell_type": "code",
   "execution_count": 28,
   "metadata": {},
   "outputs": [
    {
     "name": "stdout",
     "output_type": "stream",
     "text": [
      "p = 0.122486\n",
      "We arrive at an expected value for the number of recurrences of initial \"a\" with the gap of length 0 by the calculation 268 x 0.122486 = 13.152238.\n"
     ]
    }
   ],
   "source": [
    "def gap_probability(p, r):\n",
    "    temp = p * ((1-p) ** r)\n",
    "    return temp\n",
    "\n",
    "a_count = 268\n",
    "lines = 2188\n",
    "\n",
    "a_prob = a_count/lines\n",
    "print('p = %f' %a_prob)\n",
    "\n",
    "a_gap_prob = gap_probability(a_prob,gap)\n",
    "\n",
    "gap = 0\n",
    "print(\"We arrive at an expected value for the number of recurrences of initial \\\"a\\\" with the gap \\\n",
    "of length %d by the calculation %d x %f = %f.\" % (gap, a_count, a_prob, a_count * a_gap_prob ))"
   ]
  },
  {
   "cell_type": "code",
   "execution_count": 17,
   "metadata": {},
   "outputs": [
    {
     "data": {
      "text/plain": [
       "0.12248628884826325"
      ]
     },
     "execution_count": 17,
     "metadata": {},
     "output_type": "execute_result"
    }
   ],
   "source": [
    "gap_probability(a_prob,gap)"
   ]
  },
  {
   "cell_type": "code",
   "execution_count": 60,
   "metadata": {
    "collapsed": true
   },
   "outputs": [],
   "source": [
    "georgics_initials_flat = [item for sublist in georgics_initials for item in sublist]"
   ]
  },
  {
   "cell_type": "code",
   "execution_count": 61,
   "metadata": {
    "collapsed": true
   },
   "outputs": [],
   "source": [
    "c = Counter(georgics_initials_flat)"
   ]
  },
  {
   "cell_type": "code",
   "execution_count": 62,
   "metadata": {},
   "outputs": [
    {
     "data": {
      "text/plain": [
       "Counter({'a': 267,\n",
       "         'b': 14,\n",
       "         'c': 166,\n",
       "         'd': 80,\n",
       "         'e': 200,\n",
       "         'f': 84,\n",
       "         'g': 12,\n",
       "         'h': 94,\n",
       "         'i': 230,\n",
       "         'l': 38,\n",
       "         'm': 67,\n",
       "         'n': 160,\n",
       "         'o': 52,\n",
       "         'p': 156,\n",
       "         'q': 103,\n",
       "         'r': 27,\n",
       "         's': 205,\n",
       "         't': 126,\n",
       "         'u': 107})"
      ]
     },
     "execution_count": 62,
     "metadata": {},
     "output_type": "execute_result"
    }
   ],
   "source": [
    "c"
   ]
  },
  {
   "cell_type": "code",
   "execution_count": 96,
   "metadata": {
    "collapsed": true
   },
   "outputs": [],
   "source": [
    "georgics_text = \"\\n\".join(georgics_edit)"
   ]
  },
  {
   "cell_type": "code",
   "execution_count": 99,
   "metadata": {
    "collapsed": true
   },
   "outputs": [],
   "source": [
    "georgics_lines = line_tokenizer.tokenize(georgics_text)"
   ]
  },
  {
   "cell_type": "markdown",
   "metadata": {},
   "source": [
    "#### Total lines in *Georgics*"
   ]
  },
  {
   "cell_type": "code",
   "execution_count": 101,
   "metadata": {
    "collapsed": true
   },
   "outputs": [],
   "source": [
    "georgics_line_count = len(georgics_lines)"
   ]
  }
 ],
 "metadata": {
  "kernelspec": {
   "display_name": "Python 3",
   "language": "python",
   "name": "python3"
  },
  "language_info": {
   "codemirror_mode": {
    "name": "ipython",
    "version": 3
   },
   "file_extension": ".py",
   "mimetype": "text/x-python",
   "name": "python",
   "nbconvert_exporter": "python",
   "pygments_lexer": "ipython3",
   "version": "3.6.3"
  }
 },
 "nbformat": 4,
 "nbformat_minor": 1
}
