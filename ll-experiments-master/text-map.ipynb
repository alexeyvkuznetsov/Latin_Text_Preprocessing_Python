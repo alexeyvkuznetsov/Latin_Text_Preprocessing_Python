{
 "cells": [
  {
   "cell_type": "code",
   "execution_count": 1,
   "metadata": {},
   "outputs": [],
   "source": [
    "import pandas as pd"
   ]
  },
  {
   "cell_type": "code",
   "execution_count": 2,
   "metadata": {},
   "outputs": [],
   "source": [
    "def map_tokens(lines):\n",
    "    \n",
    "    # Preprocess (following unnest_tokens)\n",
    "    lines = [line.lower() for line in lines]\n",
    "    punctuation =\"\\\"#$%&\\'()+,-/:;<=>@[\\]^_`{|}~.?!«»—\"\n",
    "    translator = str.maketrans({key: \" \" for key in punctuation})\n",
    "    lines = [line.translate(translator) for line in lines]\n",
    "    \n",
    "    # Make container\n",
    "    text_map = []\n",
    "    \n",
    "    # Map tokens\n",
    "    for i, line in enumerate(lines):\n",
    "        temp = [(i, j, k) for j, k in enumerate(line.split())]\n",
    "        text_map.extend(temp)\n",
    "\n",
    "    return text_map"
   ]
  },
  {
   "cell_type": "code",
   "execution_count": 3,
   "metadata": {},
   "outputs": [],
   "source": [
    "poem = \"\"\"Cui dono lepidum novum libellum\n",
    "arida modo pumice expolitum?\n",
    "Corneli, tibi: namque tu solebas\n",
    "meas esse aliquid putare nugas.\n",
    "Iam tum, cum ausus es unus Italorum\n",
    "omne aevum tribus explicare cartis...\n",
    "Doctis, Iuppiter, et laboriosis!\n",
    "Quare habe tibi quidquid hoc libelli—\n",
    "qualecumque, quod, o patrona virgo,\n",
    "plus uno maneat perenne saeclo!\"\"\""
   ]
  },
  {
   "cell_type": "code",
   "execution_count": 4,
   "metadata": {},
   "outputs": [
    {
     "name": "stdout",
     "output_type": "stream",
     "text": [
      "['Cui dono lepidum novum libellum', 'arida modo pumice expolitum?', 'Corneli, tibi: namque tu solebas', 'meas esse aliquid putare nugas.', 'Iam tum, cum ausus es unus Italorum', 'omne aevum tribus explicare cartis...', 'Doctis, Iuppiter, et laboriosis!', 'Quare habe tibi quidquid hoc libelli—', 'qualecumque, quod, o patrona virgo,', 'plus uno maneat perenne saeclo!']\n"
     ]
    }
   ],
   "source": [
    "texts = poem.split('\\n')\n",
    "print(texts)"
   ]
  },
  {
   "cell_type": "code",
   "execution_count": 5,
   "metadata": {},
   "outputs": [],
   "source": [
    "token_maps = map_tokens(texts)"
   ]
  },
  {
   "cell_type": "code",
   "execution_count": 6,
   "metadata": {},
   "outputs": [],
   "source": [
    "df = pd.DataFrame(token_maps, columns = ['line', 'position', 'word'])"
   ]
  },
  {
   "cell_type": "code",
   "execution_count": 7,
   "metadata": {},
   "outputs": [
    {
     "data": {
      "text/html": [
       "<div>\n",
       "<style>\n",
       "    .dataframe thead tr:only-child th {\n",
       "        text-align: right;\n",
       "    }\n",
       "\n",
       "    .dataframe thead th {\n",
       "        text-align: left;\n",
       "    }\n",
       "\n",
       "    .dataframe tbody tr th {\n",
       "        vertical-align: top;\n",
       "    }\n",
       "</style>\n",
       "<table border=\"1\" class=\"dataframe\">\n",
       "  <thead>\n",
       "    <tr style=\"text-align: right;\">\n",
       "      <th></th>\n",
       "      <th>line</th>\n",
       "      <th>position</th>\n",
       "      <th>word</th>\n",
       "    </tr>\n",
       "  </thead>\n",
       "  <tbody>\n",
       "    <tr>\n",
       "      <th>0</th>\n",
       "      <td>0</td>\n",
       "      <td>0</td>\n",
       "      <td>cui</td>\n",
       "    </tr>\n",
       "    <tr>\n",
       "      <th>1</th>\n",
       "      <td>0</td>\n",
       "      <td>1</td>\n",
       "      <td>dono</td>\n",
       "    </tr>\n",
       "    <tr>\n",
       "      <th>2</th>\n",
       "      <td>0</td>\n",
       "      <td>2</td>\n",
       "      <td>lepidum</td>\n",
       "    </tr>\n",
       "    <tr>\n",
       "      <th>3</th>\n",
       "      <td>0</td>\n",
       "      <td>3</td>\n",
       "      <td>novum</td>\n",
       "    </tr>\n",
       "    <tr>\n",
       "      <th>4</th>\n",
       "      <td>0</td>\n",
       "      <td>4</td>\n",
       "      <td>libellum</td>\n",
       "    </tr>\n",
       "  </tbody>\n",
       "</table>\n",
       "</div>"
      ],
      "text/plain": [
       "   line  position      word\n",
       "0     0         0       cui\n",
       "1     0         1      dono\n",
       "2     0         2   lepidum\n",
       "3     0         3     novum\n",
       "4     0         4  libellum"
      ]
     },
     "execution_count": 7,
     "metadata": {},
     "output_type": "execute_result"
    }
   ],
   "source": [
    "df.head()"
   ]
  },
  {
   "cell_type": "code",
   "execution_count": null,
   "metadata": {},
   "outputs": [],
   "source": []
  }
 ],
 "metadata": {
  "kernelspec": {
   "display_name": "Python 3",
   "language": "python",
   "name": "python3"
  },
  "language_info": {
   "codemirror_mode": {
    "name": "ipython",
    "version": 3
   },
   "file_extension": ".py",
   "mimetype": "text/x-python",
   "name": "python",
   "nbconvert_exporter": "python",
   "pygments_lexer": "ipython3",
   "version": "3.6.2"
  }
 },
 "nbformat": 4,
 "nbformat_minor": 2
}
