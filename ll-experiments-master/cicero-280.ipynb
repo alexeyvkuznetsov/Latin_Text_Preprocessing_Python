{
 "cells": [
  {
   "cell_type": "code",
   "execution_count": 1,
   "metadata": {
    "collapsed": false
   },
   "outputs": [],
   "source": [
    "# Imports\n",
    "\n",
    "import string\n",
    "import re\n",
    "\n",
    "import html    \n",
    "\n",
    "from cltk.corpus.latin import latinlibrary\n",
    "from cltk.tokenize.sentence import TokenizeSentence\n",
    "\n",
    "from pprint import pprint"
   ]
  },
  {
   "cell_type": "code",
   "execution_count": 2,
   "metadata": {
    "collapsed": true
   },
   "outputs": [],
   "source": [
    "# Setup CLTK tools\n",
    "\n",
    "sentence_tokenizer = TokenizeSentence('latin')\n"
   ]
  },
  {
   "cell_type": "code",
   "execution_count": 3,
   "metadata": {
    "collapsed": false
   },
   "outputs": [],
   "source": [
    "# Get Cicero\n",
    "\n",
    "cicero_files = [file for file in latinlibrary.fileids() if 'cicero/' in file]\n",
    "cicero_raw = latinlibrary.raw(cicero_files)"
   ]
  },
  {
   "cell_type": "code",
   "execution_count": 4,
   "metadata": {
    "collapsed": false
   },
   "outputs": [],
   "source": [
    "# Preprocess texts\n",
    "\n",
    "def preprocess(text):    \n",
    "\n",
    "    text = html.unescape(text) # Handle html entities\n",
    "    text = re.sub(r'&nbsp;?', ' ',text) #&nbsp; stripped incorrectly in corpus?\n",
    "    text = re.sub('\\x00',' ',text) #Another space problem?\n",
    "    \n",
    "    text = re.sub('(\\[|\\() ?\\d+ ?(\\]|\\)) ','', text) # Remove chapter markers\n",
    "    text = re.sub('\\t\\t Cicero \\n\\t\\t The Latin Library \\n\\t\\t The Classics Page','', text)\n",
    "    text = re.sub('Cicero:','', text)\n",
    "    \n",
    "    text = re.sub(r'\\[(M{1,4}(CM|CD|D?C{0,3})(XC|XL|L?X{0,3})(IX|IV|V?I{0,3})|M{0,4}(CM|C?D|D?C{1,3})(XC|XL|L?X{0,3})(IX|IV|V?I{0,4})|M{0,4}(CM|CD|D?C{0,3})(XC|X?L|L?X{1,3})(IX|IV|V?I{0,3})|M{0,4}(CM|CD|D?C{0,3})(XC|XL|L?X{0,3})(IX|I?V|V?I{1,3}))]','',text)\n",
    "    text = re.sub('M\\. CICERO','',text)\n",
    "\n",
    "    translator = str.maketrans({key: \" \" for key in '0123456789'})\n",
    "    text = text.translate(translator)\n",
    "        \n",
    "    text = re.sub('\\s+\\n+\\s+','\\n', text) # Remove double lines and trim spaces around new lines\n",
    "    text = re.sub('\\n+?',' ', text) # Remove new lines\n",
    "    text = re.sub('[\\s]+',' ', text) # Remove double spaces\n",
    "    \n",
    "    return text"
   ]
  },
  {
   "cell_type": "code",
   "execution_count": 5,
   "metadata": {
    "collapsed": true
   },
   "outputs": [],
   "source": [
    "cicero_pp = preprocess(cicero_raw)"
   ]
  },
  {
   "cell_type": "code",
   "execution_count": 6,
   "metadata": {
    "collapsed": false
   },
   "outputs": [],
   "source": [
    "cicero_sents = sentence_tokenizer.tokenize(cicero_pp)"
   ]
  },
  {
   "cell_type": "code",
   "execution_count": 7,
   "metadata": {
    "collapsed": false
   },
   "outputs": [],
   "source": [
    "cicero280 = [sent for sent in cicero_sents if len(sent) == 280]"
   ]
  },
  {
   "cell_type": "code",
   "execution_count": 8,
   "metadata": {
    "collapsed": false
   },
   "outputs": [
    {
     "name": "stdout",
     "output_type": "stream",
     "text": [
      "43\n"
     ]
    }
   ],
   "source": [
    "print(len(cicero280))"
   ]
  },
  {
   "cell_type": "code",
   "execution_count": 9,
   "metadata": {
    "collapsed": false
   },
   "outputs": [
    {
     "name": "stdout",
     "output_type": "stream",
     "text": [
      "1. non faciam ut enumerem miserias omnis in quas incidi per summam iniuriam et scelus non tam inimicorum meorum quam invidorum, ne et meum maerorem exagitem et te in eundem luctum vocem; hoc adfirmo, neminem umquam tanta calamitate esse adfectum, nemini mortem magis optandam fuisse.\n",
      "\n",
      "2. in altera epistula praeter consuetudinem tuam diem non adscribis sed satis significas tempus; lege enim ab octo tribunis pl. promulgata scribis te eas litteras eo ipso die dedisse, id est a. d. iiii Kal. Novembris, et quid putes utilitatis eam promulgationem attulisse perscribis.\n",
      "\n",
      "3. si Brutus putabit me quaternas centesimas oportuisse decernere, cum tota provincia singulas observarem itaque edixissem idque etiam acerbissimis faeneratoribus probaretur, si praefecturam negotiatori denegatam queretur, quod ego Torquato nostro in tuo Laenio, Pompeio ipsi in Sex.\n",
      "\n",
      "4. quas quidem cum exspectassem iam diu, admiratus sum, ut vidi obsignatam epistulam, brevitatem eius, ut aperui, rursus sunchusin litterularum, quia solent tuae compositissimae et clarissimae esse, ac, ne multa, cognovi ex eo quod ita scripseras te Romam venisse a. d. xii Kal. Oct.\n",
      "\n",
      "5. Possumus Appium Claudium suspicari disertum, quia senatum iamiam inclinatum a Pyrrhi pace revocaverit; possumus C. Fabricium, quia sit ad Pyrrhum de captivis recuperandis missus orator; Ti. Coruncanium, quod ex pontificum commentariis longe plurumum ingenio valuisse videatur; M'.\n",
      "\n",
      "6. nam ut horum concisis sententiis, interdum etiam non satis apertis [autem] cum brevitate tum nimio acumine, officit Theopompus elatione atque altitudine orationis suae—quod idem Lysiae Demosthenes —, sic Catonis luminibus obstruxit haec posteriorum quasi exaggerata altius oratio.\n",
      "\n",
      "7. iudiciorum desiderio tribunicia potestas efflagitata est, iudiciorum levitate ordo quoque alius ad res iudicandas postulatur, iudicum culpa atque dedecore etiam censorium nomen, quod asperius antea populo videri solebat, id nunc poscitur, id iam populare et plausibile factum est.\n",
      "\n",
      "8. quodsi ego haec propter magnitudinem rerum ac difficultatem adsequi non potui, qui in omni vita nihil aliud egi, quam longe tu te ab his rebus abesse arbitrare, quas non modo antea numquam cogitasti, sed ne nunc quidem, cum in eas ingrederis, quae et quantae sint suspicari potes?\n",
      "\n",
      "9. Quapropter de summa salute vestra populique Romani, de vestris coniugibus ac liberis, de aris ac focis, de fanis atque templis de totius urbis tectis ac sedibus, de imperio ac libertate, de salute Italiae, de universa re publica decernite diligenter, ut instituistis, ac fortiter.\n",
      "\n",
      "10. namque assiduis internuntiis cum Lepido egi, ut omissa omni contentione reconcilataque voluntate nostra communi consilio rei publicae succurreret, se, liberos urbemque pluris quam unum perditum abiectumque latronem putaret obsequioque meo, si ita faceret, ad omnes res abuteretur.\n",
      "\n",
      "11. Videor mihi, quum separatim de probitate eius et moribus dicturus fuissem, si prius causam, cur eum tanto opere diligerem, tibi exposuissem, in ipsa causa exponenda satis etiam de probitate dixisse; sed tamen separatim promitto in meque recipio fore eum tibi et voluptati et usui:\n",
      "\n",
      "12. Di immortales, quam ego risum nostrum desidero! Mihi erat in animo, quoniam iuris dictionem confe ram, civitates locupletaram, publicanis etiam superioris lustri reliqua sine sociorum ulla querela conservaram, privatis, summis infimis, fueram iucundus, proficisci in Ciliciam Non.\n",
      "\n",
      "13. Longi subsellii, ut noster Pompeius appellat, iudicatio et mora si quem tibi item unum alterumve diem abstulerit—quid enim potest amplius?—, tua tamen dignitas suum locum obtinebit; sed, si me diligis, si a me diligi vis, ad me litteras, ut quam primum laetitia afficiar, mittito.\n",
      "\n",
      "14. C. Trebatius, familiaris meus, ad me scripsit te ex se quaesisse, quibus in locis essem, molesteque te ferre, quod me propter valetudinem tuam, cum ad urbem accessissem, non vidisses, et hoc tempore velle te mecum, si propius accessissem, de officio utriusque nostrum communicare.\n",
      "\n",
      "15. Grata tibi mea esse officia non miror; cognovi enim te gratissimum omnium, idque numquam destiti praedicare; nec enim tu mihi habuisti mode gratiam, verum etiam cumulatissime rettulisti; quamobrem in reliquis tuis rebus omnibus pari me studio erga te et eadem voluntate cognosces.\n",
      "\n",
      "16. latendum tantisper ibidem, dum defervescat haec gratulatio, et simul, dum audiamus, quemadmodum negotium confectum sit; confectum enim esse existimo, magni autem intererit, qui fuerit victoris animus, qui exitus rerum, quamquam, quo me coniectura ducat, habeo, sed exspecto tamen.\n",
      "\n",
      "17. nam inter ista tam magnifica verba tamque praeclara non habet ullum voluptas locum, non modo illa, quam in motu esse dicitis, quam omnes urbani rustici, omnes, inquam, qui Latine loquuntur, voluptatem vocant, sed ne haec quidem stabilis, quam praeter vos nemo appellat voluptatem.\n",
      "\n",
      "18. itaque cum esset satis constitutum id solum esse bonum, quod esset honestum, et id malum solum, quod turpe, tum inter illa, quae nihil valerent ad beate misereve vivendum, aliquid tamen, quod differret, esse voluerunt, ut essent eorum alia aestimabilia, alia contra, alia neutrum.\n",
      "\n",
      "19. Quis enim ferre posset ita loquentem eum, qui se auctorem vitae graviter et sapienter agendae profiteretur, nomina rerum commutantem, cumque idem sentiret quod omnes, quibus rebus eandem vim tribueret, alia nomina inponentem, verba modo mutantem, de opinionibus nihil detrahentem?\n",
      "\n",
      "20. Stoici restant, ei quidem non unam aliquam aut alteram <rem> a nobis, sed totam ad se nostram philosophiam transtulerunt; atque ut reliqui fures earum rerum, quas ceperunt, signa commutant, sic illi, ut sententiis nostris pro suis uterentur, nomina tamquam rerum notas mutaverunt.\n",
      "\n",
      "21. Illud te ad extremum et oro et hortor, ut, tamquam poetae boni et actores industrii solent, sic tu in extrema parte et conclusione muneris ac negotii tui diligentissimus sis, ut hic tertius annus imperii tui tamquam tertius actus perfectissimus atque ornatissimus fuisse videatur:\n",
      "\n",
      "22. nego esse ullam domum aliam privato eodem quo quae optima lege, publico vero omni praecipuo et humano et divino iure munitam; quae primum aedificatur ex auctoritate senatus pecunia publica, deinde contra vim nefariam huius gladiatoris tot senati consultis munita atque saepta est.\n",
      "\n",
      "23. laude eorum, qui iudicarunt; similitudine eius rei, qua de agitur, ad eam rem, qua de iudicatum est; et commemorando non modo non esse reprehensum iudicium, sed ab omnibus adprobatum; et demonstrando difficilius et maius fuisse ad iudicandum, quod afferatur, quam id, quod instet:\n",
      "\n",
      "24. adde inscitiam pransi, poti, oscitantis ducis, qui cum a tergo hostem interclusum reliquisset, nihil de eius extremis comitibus cogitavit, in quos incensos ira vitamque domini desperantis cum incidisset, haesit in eis poenis, quas ab eo servi fideles pro domini vita expetiverunt.\n",
      "\n",
      "25. Tu enim sumebas nisi in hominis figura rationem inesse non posse; sumet alius nisi in terrestri, nisi in eo, qui natus sit, nisi in eo, qui adoleverit, nisi in eo, qui didicerit, nisi in eo, qui ex animo constet et corpore caduco et infirmo, postremo nisi in homine atque mortali.\n",
      "\n",
      "26. accepimus enim deorum cupiditates aegritudines iracundias; nec vero, ut fabulae ferunt, bellis proeliisque caruerunt, nec solum ut apud Homerum cum duo exercitus contrarios alii dei ex alia parte defenderent, sed etiam ut cum Titanis ut cum Gigantibus sua propria bella gesserunt.\n",
      "\n",
      "27. Quae quattuor quamquam inter se colligata atque implicata sunt, tamen ex singulis certa officiorum genera nascuntur, velut ex ea parte, quae prima discripta est, in qua sapientiam et prudentiam ponimus, inest indagatio atque inventio veri, eiusque virtutis hoc munus est proprium.\n",
      "\n",
      "28. Nam et ratione uti atque oratione prudenter et agere quod agas considerate omnique in re quid sit veri videre et tueri decet, contraque falli, errare, labi, decipi tam dedecet quam delirare et mente esse captum; et iusta omnia decora sunt, iniusta contra, ut turpia, sic indecora.\n",
      "\n",
      "29. Zeno quidem ille, a quo disciplina Stoicorum est, manu demonstrare solebat quid inter has artis interesset; nam cum compresserat digitos pugnumque fecerat, dialecticam aiebat eius modi esse; cum autem deduxerat et manum dilataverat, palmae illius similem eloquentiam esse dicebat.\n",
      "\n",
      "30. Quod si ea quae dixi non ita essent, quis tamen se tam durum agrestemque praeberet qui hanc mihi non daret veniam, ut cum meae forenses artes et actiones publicae concidissent, non me aut desidiae, quod facere non possum, aut maestitiae, cui resisto, potius quam litteris dederem?\n",
      "\n",
      "31. Tum Crassus \"atqui arbitror, Sulpici, cum audieris, non tam te haec admiraturum, quae dixero, quam existimaturum tum, cum ea audire cupiebas, causam cur cuperes non fuisse nihil enim dicam reconditum, nihil exspectatione vestra dignum, nihil aut inauditum vobis aut cuiquam novum.\n",
      "\n",
      "32. Praeclare enim est hoc usurpatum a doctissimis (quorum ego auctoritate non uterer, si mihi apud aliquos agrestes haec habenda esset oratio; cum vero apud prudentissimos loquar, quibus haec inaudita non sint, cur ego simulem me, si quid in his studiis operae posuerim, perdidisse?)\n",
      "\n",
      "33. Actionis autem duo sunt genera—unum ad persequendum aliquid aut declinandum, ut quibus rebus adipisci gloriam possis aut quomodo invidia vitetur, alterum quod ad aliquod commodum usumque refertur, ut quemadmodum sit respublica administranda aut quemadmodum in paupertate vivendum.\n",
      "\n",
      "34. Atque etiam voluptas, quae maxime est inimica virtuti bonique naturam fallaciter imitando adulterat, quam immanissimus quisque acerrime sequitur, neque solum honestis rebus sed etiam necessariis anteponit, in suadendo, cum ei generi hominum consilium des, saepe sane laudanda est.\n",
      "\n",
      "35. Itaque admissarius iste, simul atque audivit voluptatem a philosopho tanto opere laudari, nihil expiscatus est, sic suos sensus voluptarios omnis incitavit, sic ad illius hanc orationem adhinnivit, ut non magistrum virtutis sed auctorem libidinis a se illum inventum arbitraretur.\n",
      "\n",
      "36. Postea quam invenit neminem eorum qui possunt et solent ita neglegens esse coepit ut, cum in mentem veniret ei, resideret, deinde spatiaretur, non numquam etiam puerum vocaret, credo, cui cenam imperaret, prorsus ut vestro consessu et hoc conventu pro summa solitudine abuteretur.\n",
      "\n",
      "37. nam quid aliud agimus, cum a voluptate, id est a corpore, cum a re familiari, quae est ministra et famula corporis, cum a re publica, cum a negotio omni sevocamus animum, quid, inquam, tum agimus nisi animum ad se ipsum advocamus, secum esse cogimus maximeque a corpore abducimus?\n",
      "\n",
      "38. Obversentur species honestae animo, Zeno proponatur Eleates, qui perpessus est omnia potius quam conscios delendae tyrannidis indicaret; de Anaxarcho Democritio cogitetur, qui cum Cypri in manus Timocreontis regis incidisset, nullum genus supplicii deprecatus est neque recusavit.\n",
      "\n",
      "39. Etenim, pro deorum atque hominum fidem! parumne cognitum est superioribus nostris disputationibus, an delectationis et oti consumendi causa locuti sumus, sapientem ab omni concitatione animi, quam perturbationem voco, semper vacare, semper in animo eius esse placidissimarn pacem?\n",
      "\n",
      "40. quaero quae tanta in te vanitas, tanta levitas fuerit ut in hoc iudicio T. Annium isdem verbis laudares quibus eum verbis laudare et boni viri et boni cives consuerunt, cum in eundem nuper ab eadem illa taeterrima furia productus ad populum cupidissime falsum testimonium dixeris?\n",
      "\n",
      "41. O modestum ordinem, quod illinc vivus surrexerit! Possum sescenta decreta proferre in quibus, ut ego non dicam, pecuniam intercessisse ipsa decretorum novitas iniquitasque declarat; verum ut ex uno de ceteris coniecturam facere possitis, id quod priore actione didicistis, audite.\n",
      "\n",
      "42. Locatur opus id quod ex mea pecunia reficiatur; ego me refecturum dico; probatio futura est tua, qui locas; praedibus et praediis populo cautum est; et, si non putas cautum, scilicet tu, praetor, in mea bona quos voles immittes, me ad meas fortunas defendendas accedere non sines.\n",
      "\n",
      "43. Per eosdem istius furtorum iniuriarum uxorumque socios istius imperio Syracusis Marcellia tolluntur maximo gemitu luctuque civitatis, quem illi diem festum cum recentibus beneficiis C. Marcelli debitum reddebant, tum generi nomini familiae Marcellorum maxima voluntate tribuebant.\n",
      "\n"
     ]
    }
   ],
   "source": [
    "for i, sent in enumerate(cicero280):\n",
    "    print('%d. %s\\n' % (i+1, sent))"
   ]
  },
  {
   "cell_type": "code",
   "execution_count": 10,
   "metadata": {
    "collapsed": true
   },
   "outputs": [],
   "source": [
    "cicero560 = [sent for sent in cicero_sents if len(sent) == 560]"
   ]
  },
  {
   "cell_type": "code",
   "execution_count": 11,
   "metadata": {
    "collapsed": false
   },
   "outputs": [
    {
     "name": "stdout",
     "output_type": "stream",
     "text": [
      "3\n"
     ]
    }
   ],
   "source": [
    "print(len(cicero560))"
   ]
  },
  {
   "cell_type": "code",
   "execution_count": 12,
   "metadata": {
    "collapsed": false
   },
   "outputs": [
    {
     "name": "stdout",
     "output_type": "stream",
     "text": [
      "1. Vt igitur ante meridiem discesserunt paulumque requierunt, in primis hoc a se Cotta animadversum esse dicebat, omne illud tempus meridianum Crassum in acerrima atque attentissima cogitatione posuisse seseque, qui vultum eius, cum ei dicendum esset, obtutumque oculorum in cogitando probe nosset atque in maximis causis saepe vidisset, tum dedita opera quiescentibus aliis in eam exedram venisse, in qua Crassus posito lectulo recubuisset, cumque eum defixum in cogitatione esse sensisset, statim recessisse atque in eo silentio duas horas fere esse consumptas.\n",
      "\n",
      "2. alter unguentis adfluens, calamistrata coma, despiciens conscios stuprorum ac veteres vexatores aetatulae suae, puteali et faeneratorum gregibus inflatus, a quibus compulsus olim, ne in Scyllaeo illo aeris alieni tamquam [in] fretu ad columnam adhaeresceret, in tribunatus portum perfugerat, contemnebat equites Romanos, minitabatur senatui, venditabat se operis atque ab iis se ereptum ne de ambitu causam diceret praedicabat, ab isdemque se etiam invito senatu provinciam sperare dicebat; eamque nisi adeptus esset, se incolumem nullo modo fore arbitrabatur.\n",
      "\n",
      "3. Hunc in omnibus stupris, hunc in fanorum expilationibus, hunc in impuris conviviis principem adhibebat; tantamque habet morum similitudo coniunctionem atque concordiam ut Apronius, qui aliis inhumanus ac barbarus, isti uni commodus ac disertus videretur; ut quem omnes odissent neque videre vellent, sine eo iste esse non posset; ut cum alii ne conviviis quidem isdem quibus Apronius, hic isdem etiam poculis uteretur; postremo ut odor Aproni taeterrimus oris et corporis,—quem, ut aiunt, ne bestiae quidem ferre possent,—uni isti suavis et iucundus videretur.\n",
      "\n"
     ]
    }
   ],
   "source": [
    "for i, sent in enumerate(cicero560):\n",
    "    print('%d. %s\\n' % (i+1, sent))"
   ]
  }
 ],
 "metadata": {
  "kernelspec": {
   "display_name": "Python 3",
   "language": "python",
   "name": "python3"
  },
  "language_info": {
   "codemirror_mode": {
    "name": "ipython",
    "version": 3
   },
   "file_extension": ".py",
   "mimetype": "text/x-python",
   "name": "python",
   "nbconvert_exporter": "python",
   "pygments_lexer": "ipython3",
   "version": "3.5.2"
  }
 },
 "nbformat": 4,
 "nbformat_minor": 1
}
