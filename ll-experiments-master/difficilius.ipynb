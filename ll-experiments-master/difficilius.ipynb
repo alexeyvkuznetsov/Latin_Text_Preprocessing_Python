{
 "cells": [
  {
   "cell_type": "code",
   "execution_count": 1,
   "metadata": {
    "collapsed": true
   },
   "outputs": [],
   "source": [
    "text = \"\"\"Arma virumque cano, Troiae qui primus ab oris\n",
    "Italiam, fato profugus, Laviniaque venit\n",
    "litora, multum ille et terris iactatus et alto\n",
    "vi superum saevae memorem Iunonis ob iram;\n",
    "multa quoque et bello passus, dum conderet urbem,\n",
    "inferretque deos Latio, genus unde Latinum,\n",
    "Albanique patres, atque altae moenia Romae.\"\"\""
   ]
  },
  {
   "cell_type": "code",
   "execution_count": 2,
   "metadata": {
    "collapsed": true
   },
   "outputs": [],
   "source": [
    "def difficilius(text):\n",
    "    text = text.upper() # Uppercase\n",
    "    text = text.replace('U', 'V') # Convert U to V\n",
    "    text = text.replace(' ', '') # Remove spaces\n",
    "    \n",
    "    # Remove punctuation\n",
    "    punctuation =\"\\\"#$%&\\'()*+,-/:;<=>@[\\]^_`{|}~.?!«»\"\n",
    "    translator = str.maketrans({key: \"\" for key in punctuation})\n",
    "    text = text.translate(translator)\n",
    "    return text\n"
   ]
  },
  {
   "cell_type": "code",
   "execution_count": 3,
   "metadata": {},
   "outputs": [
    {
     "name": "stdout",
     "output_type": "stream",
     "text": [
      "ARMAVIRVMQVECANOTROIAEQVIPRIMVSABORIS\n",
      "ITALIAMFATOPROFVGVSLAVINIAQVEVENIT\n",
      "LITORAMVLTVMILLEETTERRISIACTATVSETALTO\n",
      "VISVPERVMSAEVAEMEMOREMIVNONISOBIRAM\n",
      "MVLTAQVOQVEETBELLOPASSVSDVMCONDERETVRBEM\n",
      "INFERRETQVEDEOSLATIOGENVSVNDELATINVM\n",
      "ALBANIQVEPATRESATQVEALTAEMOENIAROMAE\n"
     ]
    }
   ],
   "source": [
    "print(difficilius(text))"
   ]
  }
 ],
 "metadata": {
  "kernelspec": {
   "display_name": "Python 3",
   "language": "python",
   "name": "python3"
  },
  "language_info": {
   "codemirror_mode": {
    "name": "ipython",
    "version": 3
   },
   "file_extension": ".py",
   "mimetype": "text/x-python",
   "name": "python",
   "nbconvert_exporter": "python",
   "pygments_lexer": "ipython3",
   "version": "3.6.1"
  }
 },
 "nbformat": 4,
 "nbformat_minor": 2
}
