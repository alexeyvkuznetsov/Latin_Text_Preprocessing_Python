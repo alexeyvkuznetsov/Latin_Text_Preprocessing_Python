{
 "cells": [
  {
   "cell_type": "markdown",
   "metadata": {},
   "source": [
    "# Measuring Negative Diction in Latin Satire\n",
    "\n",
    "Exploratory data analysis based on the following question:\n",
    "Persius's Satire 1 seems to be especially 'negative' compared to other poems in Latin literature,\n",
    "even compared to other works of satire. Is Persius 1 more negative than other satires? If so,\n",
    "how much more negative?\n",
    "\n",
    "Notes:\n",
    "\n",
    "- Defining \"negative diction\" (for now!) as instances of *non*, *nec*, *neque*. Will expand the list on the next pass\n",
    "- Next steps need to include baseline measures for rates of negative diction in Latin literature in general, Latin poetry and satire specifically\n",
    "\n",
    "Patrick J. Burns, last updated 11/4/2017"
   ]
  },
  {
   "cell_type": "code",
   "execution_count": 1,
   "metadata": {
    "collapsed": true
   },
   "outputs": [],
   "source": [
    "# Imports\n",
    "\n",
    "import os\n",
    "import string\n",
    "import re\n",
    "import html  \n",
    "\n",
    "from pprint import pprint\n",
    "\n",
    "from cltk.corpus.latin import latinlibrary\n",
    "from cltk.tokenize.word import WordTokenizer\n",
    "from cltk.tokenize.line import LineTokenizer\n",
    "from cltk.stem.latin.j_v import JVReplacer"
   ]
  },
  {
   "cell_type": "code",
   "execution_count": 2,
   "metadata": {
    "collapsed": true
   },
   "outputs": [],
   "source": [
    "# Setup CLTK tools\n",
    "word_tokenizer = WordTokenizer('latin')\n",
    "line_tokenizer = LineTokenizer('latin')\n",
    "replacer = JVReplacer()"
   ]
  },
  {
   "cell_type": "code",
   "execution_count": 3,
   "metadata": {
    "collapsed": true
   },
   "outputs": [],
   "source": [
    "# There appears to be a high concentration of 'negative'\n",
    "# diction in Persius. Let's quantify this.\n",
    "\n",
    "# So we get Persius's Satires files from the Latin Library...\n",
    "files = latinlibrary.fileids()\n",
    "persius_file = 'persius.txt'\n",
    "persius_raw = latinlibrary.raw(persius_file)"
   ]
  },
  {
   "cell_type": "code",
   "execution_count": 4,
   "metadata": {},
   "outputs": [
    {
     "name": "stdout",
     "output_type": "stream",
     "text": [
      "[\"PROLOGVS \\n \\n\\n Nec fonte labra prolui caballino \\nnec in bicipiti somniasse Parnaso \\nmemini, ut repente sic poeta prodirem. \\nHeliconidasque pallidamque Pirenen \\nillis remitto quorum imagines lambunt    5 \\nhederae sequaces; ipse semipaganus \\nad sacra uatum carmen adfero nostrum. \\nquis expediuit psittaco suum 'chaere' \\npicamque docuit nostra uerba conari? \\nmagister artis ingenique largitor    10 \\nuenter, negatas artifex sequi uoces. \\nquod si dolosi spes refulserit nummi, \\ncoruos poetas et poetridas picas \\ncantare credas Pegaseium nectar.\\n \\n\\n \\n\\n \\n\", 'SATVRA I \\n \\n\\n \\nO curas hominum! o quantum est in rebus inane! \\n\\'quis leget haec?\\' min tu istud ais? nemo hercule. \\'nemo?\\' \\nuel duo uel nemo. \\'turpe et miserabile.\\' quare? \\nne mihi Polydamas et Troiades Labeonem \\npraetulerint? nugae. non, si quid turbida Roma    5 \\neleuet, accedas examenue inprobum in illa \\ncastiges trutina nec te quaesiueris extra. \\nnam Romae quis non&#151;a, si fas dicere&#151;sed fas \\ntum cum ad canitiem et nostrum istud uiuere triste \\naspexi ac nucibus facimus quaecumque relictis,    10 \\ncum sapimus patruos. tunc tunc&#151;ignoscite (nolo, \\nquid faciam?) sed sum petulanti splene&#151;cachinno. \\n scribimus inclusi, numeros ille, hic pede liber, \\ngrande aliquid quod pulmo animae praelargus anhelet. \\nscilicet haec populo pexusque togaque recenti    15 \\net natalicia tandem cum sardonyche albus \\nsede leges celsa, liquido cum plasmate guttur \\nmobile conlueris, patranti fractus ocello. \\ntunc neque more probo uideas nec uoce serena \\ningentis trepidare Titos, cum carmina lumbum    20 \\nintrant et tremulo scalpuntur ubi intima uersu. \\ntun, uetule, auriculis alienis colligis escas, \\narticulis quibus et dicas cute perditus \\'ohe\\'? \\n\\'quo didicisse, nisi hoc fermentum et quae semel intus \\ninnata est rupto iecore exierit caprificus?\\'    25 \\nen pallor seniumque! o mores, usque adeone \\nscire tuum nihil est nisi te scire hoc sciat alter? \\n\\'at pulchrum est digito monstrari et dicier \"hic est.\" \\nten cirratorum centum dictata fuisse \\npro nihilo pendes?\\' ecce inter pocula quaerunt    30 \\nRomulidae saturi quid dia poemata narrent. \\nhic aliquis, cui circum umeros hyacinthina laena est, \\nrancidulum quiddam balba de nare locutus \\nPhyllidas, Hypsipylas, uatum et plorabile siquid, \\neliquat ac tenero subplantat uerba palato.    35 \\nadsensere uiri: nunc non cinis ille poetae \\nfelix? non leuior cippus nunc inprimit ossa? \\nlaudant conuiuae: nunc non e manibus illis, \\nnunc non e tumulo fortunataque fauilla \\nnascentur uiolae? \\'rides\\' ait \\'et nimis uncis    40 \\nnaribus indulges. an erit qui uelle recuset \\nos populi meruisse et cedro digna locutus \\nlinquere nec scombros metuentia carmina nec tus?\\' \\n quisquis es, o modo quem ex aduerso dicere feci, \\nnon ego cum scribo, si forte quid aptius exit,    45 \\nquando haec rara auis est, si quid tamen aptius exit, \\nlaudari metuam; neque enim mihi cornea fibra est. \\nsed recti finemque extremumque esse recuso \\n\\'euge\\' tuum et \\'belle.\\' nam \\'belle\\' hoc excute totum: \\nquid non intus habet? non hic est Ilias Atti    50 \\nebria ueratro? non siqua elegidia crudi \\ndictarunt proceres? non quidquid denique lectis \\nscribitur in citreis? calidum scis ponere sumen, \\nscis comitem horridulum trita donare lacerna, \\net \\'uerum\\' inquis \\'amo, uerum mihi dicite de me.\\'    55 \\nqui pote? uis dicam? nugaris, cum tibi, calue, \\npinguis aqualiculus propenso sesquipede extet. \\no Iane, a tergo quem nulla ciconia pinsit \\nnec manus auriculas imitari mobilis albas \\nnec linguae quantum sitiat canis Apula tantae.    60 \\nuos, o patricius sanguis, quos uiuere fas est \\noccipiti caeco, posticae occurrite sannae. \\n \\'quis populi sermo est? quis enim nisi carmina molli \\nnunc demum numero fluere, ut per leue seueros \\neffundat iunctura unguis? scit tendere uersum    65 \\nnon secus ac si oculo rubricam derigat uno. \\nsiue opus in mores, in luxum, in prandia regum \\ndicere, res grandes nostro dat Musa poetae.\\' \\necce modo heroas sensus adferre docemus \\nnugari solitos Graece, nec ponere lucum    70 \\nartifices nec rus saturum laudare, ubi corbes \\net focus et porci et fumosa Palilia feno, \\nunde Remus sulcoque terens dentalia, Quinti, \\ncum trepida ante boues dictatorem induit uxor \\net tua aratra domum lictor tulit&#151;euge poeta!    75 \\n\\'est nunc Brisaei quem uenosus liber Acci, \\nsunt quos Pacuuiusque et uerrucosa moretur \\nAntiopa aerumnis cor luctificabile fulta?\\' \\nhos pueris monitus patres infundere lippos \\ncum uideas, quaerisne unde haec sartago loquendi    80 \\nuenerit in linguas, unde istud dedecus in quo \\ntrossulus exultat tibi per subsellia leuis? \\nnilne pudet capiti non posse pericula cano \\npellere quin tepidum hoc optes audire \\'decenter\\'? \\n\\'fur es\\' ait Pedio. Pedius quid? crimina rasis    85 \\nlibrat in antithetis, doctas posuisse figuras \\nlaudatur: \\'bellum hoc.\\' hoc bellum? an, Romule, ceues? \\nmen moueat? quippe, et, cantet si naufragus, assem \\nprotulerim? cantas, cum fracta te in trabe pictum \\nex umero portes? uerum nec nocte paratum    90 \\nplorabit qui me uolet incuruasse querella. \\n \\'sed numeris decor est et iunctura addita crudis. \\ncludere sic uersum didicit \"Berecyntius Attis\" \\net \"qui caeruleum dirimebat Nerea delphin,\" \\nsic \"costam longo subduximus Appennino.\"    95 \\n\"Arma uirum\", nonne hoc spumosum et cortice pingui \\nut ramale uetus uegrandi subere coctum?\\' \\nquidnam igitur tenerum et laxa ceruice legendum? \\n\\'torua Mimalloneis inplerunt cornua bombis, \\net raptum uitulo caput ablatura superbo    100 \\nBassaris et lyncem Maenas flexura corymbis \\neuhion ingeminat, reparabilis adsonat echo.\\' \\nhaec fierent si testiculi uena ulla paterni \\nuiueret in nobis? summa delumbe saliua \\nhoc natat in labris et in udo est Maenas et Attis    105 \\nnec pluteum caedit nec demorsos sapit unguis. \\n \\'sed quid opus teneras mordaci radere uero \\nauriculas? uide sis ne maiorum tibi forte \\nlimina frigescant: sonat hic de nare canina \\nlittera.\\' per me equidem sint omnia protinus alba;    110 \\nnil moror. euge omnes, omnes bene, mirae eritis res. \\nhoc iuuat? \\'hic\\' inquis \\'ueto quisquam faxit oletum.\\' \\npinge duos anguis: \\'pueri, sacer est locus, extra \\nmeiite.\\' discedo. secuit Lucilius urbem, \\nte Lupe, te Muci, et genuinum fregit in illis.    115 \\nomne uafer uitium ridenti Flaccus amico \\ntangit et admissus circum praecordia ludit, \\ncallidus excusso populum suspendere naso. \\nme muttire nefas? nec clam? nec cum scrobe? nusquam? \\nhic tamen infodiam. uidi, uidi ipse, libelle:    120 \\nauriculas asini quis non habet? hoc ego opertum, \\nhoc ridere meum, tam nil, nulla tibi uendo \\nIliade. audaci quicumque adflate Cratino \\niratum Eupolidem praegrandi cum sene palles, \\naspice et haec, si forte aliquid decoctius audis.    125 \\ninde uaporata lector mihi ferueat aure, \\nnon hic qui in crepidas Graiorum ludere gestit \\nsordidus et lusco qui possit dicere \\'lusce,\\' \\nsese aliquem credens Italo quod honore supinus \\nfregerit heminas Arreti aedilis iniquas,    130 \\nnec qui abaco numeros et secto in puluere metas \\nscit risisse uafer, multum gaudere paratus \\nsi cynico barbam petulans nonaria uellat. \\nhis mane edictum, post prandia Callirhoen do.\\n \\n\\n \\n\\n \\n', \"SATVRA II \\n \\n\\n \\nHunc, Macrine, diem numera meliore lapillo, \\nqui tibi labentis apponet candidus annos. \\nfunde merum genio. non tu prece poscis emaci \\nquae nisi seductis nequeas committere diuis; \\nat bona pars procerum tacita libabit acerra.    5 \\nhaut cuiuis promptum est murmurque humilisque susurros \\ntollere de templis et aperto uiuere uoto. \\n'mens bona, fama, fides', haec clare et ut audiat hospes; \\nilla sibi introrsum et sub lingua murmurat: 'o si \\nebulliat patruus, praeclarum funus!' et 'o si    10 \\nsub rastro crepet argenti mihi seria dextro \\nHercule! pupillumue utinam, quem proximus heres \\ninpello, expungam; nam et est scabiosus et acri \\nbile tumet. Nerio iam tertia conditur uxor.' \\nhaec sancte ut poscas, Tiberino in gurgite mergis    15 \\nmane caput bis terque et noctem flumine purgas. \\nheus age, responde (minimum est quod scire laboro) \\nde Ioue quid sentis? estne ut praeponere cures \\nhunc&#151;cuinam? cuinam? uis Staio? an&#151;scilicet haeres? \\nquis potior iudex puerisue quis aptior orbis?    20 \\nhoc igitur quo tu Iouis aurem inpellere temptas \\ndic agedum Staio. 'pro Iuppiter, o bone' clamet \\n'Iuppiter!' at sese non clamet Iuppiter ipse? \\nignouisse putas quia, cum tonat, ocius ilex \\nsulpure discutitur sacro quam tuque domusque?    25 \\nan quia non fibris ouium Ergennaque iubente \\ntriste iaces lucis euitandumque bidental, \\nidcirco stolidam praebet tibi uellere barbam \\nIuppiter? aut quidnam est qua tu mercede deorum \\nemeris auriculas? pulmone et lactibus unctis?    30 \\n ecce auia aut metuens diuum matertera cunis \\nexemit puerum frontemque atque uda labella \\ninfami digito et lustralibus ante saliuis \\nexpiat, urentis oculos inhibere perita; \\ntunc manibus quatit et spem macram supplice uoto    35 \\nnunc Licini in campos, nunc Crassi mittit in aedis: \\n'hunc optet generum rex et regina, puellae \\nhunc rapiant; quidquid calcauerit hic, rosa fiat.' \\nast ego nutrici non mando uota. negato, \\nIuppiter, haec illi, quamuis te albata rogarit.    40 \\n poscis opem neruis corpusque fidele senectae. \\nesto age. sed grandes patinae tuccetaque crassa \\nadnuere his superos uetuere Iouemque morantur. \\nrem struere exoptas caeso boue Mercuriumque    45 \\narcessis fibra: 'da fortunare Penatis, \\nda pecus et gregibus fetum.' quo, pessime, pacto, \\ntot tibi cum in flamma iunicum omenta liquescant? \\net tamen hic extis et opimo uincere ferto \\nintendit: 'iam crescit ager, iam crescit ouile,    50 \\niam dabitur, iam iam';donec deceptus et exspes \\nnequiquam fundo suspiret nummus in imo. \\n si tibi creterras argenti incusaque pingui \\nauro dona feram, sudes et pectore laeuo \\nexcutiat guttas laetari praetrepidum cor.    55 \\nhinc illud subiit, auro sacras quod ouato \\nperducis facies. 'nam fratres inter aenos, \\nsomnia pituita qui purgatissima mittunt, \\npraecipui sunto sitque illis aurea barba.' \\naurum uasa Numae Saturniaque inpulit aera    60 \\nVestalisque urnas et Tuscum fictile mutat. \\no curuae in terris animae et caelestium inanis, \\nquid iuuat hoc, templis nostros inmittere mores \\net bona dis ex hac scelerata ducere pulpa? \\nhaec sibi corrupto casiam dissoluit oliuo,    65 \\nhaec Calabrum coxit uitiato murice uellus, \\nhaec bacam conchae rasisse et stringere uenas \\nferuentis massae crudo de puluere iussit. \\npeccat et haec, peccat, uitio tamen utitur. at uos \\ndicite, pontifices, in sancto quid facit aurum?    70 \\nnempe hoc quod Veneri donatae a uirgine pupae. \\nquin damus id superis, de magna quod dare lance \\nnon possit magni Messalae lippa propago? \\nconpositum ius fasque animo sanctosque recessus \\nmentis et incoctum generoso pectus honesto.    75 \\nhaec cedo ut admoueam templis et farre litabo. \\n \\n\\n \\n\\n \\n\\n \\n\", \"SATVRA III \\n \\n\\n \\nNempe haec adsidue. iam clarum mane fenestras \\nintrat et angustas extendit lumine rimas. \\nstertimus, indomitum quod despumare Falernum \\nsufficiat, quinta dum linea tangitur umbra. \\n'en quid agis? siccas insana canicula messes    5 \\niam dudum coquit et patula pecus omne sub ulmo est' \\nunus ait comitum. uerumne? itan? ocius adsit \\nhuc aliquis. nemon? turgescit uitrea bilis: \\nfindor, ut Arcadiae pecuaria rudere credas. \\niam liber et positis bicolor membrana capillis    10 \\ninque manus chartae nodosaque uenit harundo. \\ntum querimur crassus calamo quod pendeat umor. \\nnigra sed infusa uanescit sepia lympha, \\ndilutas querimur geminet quod fistula guttas. \\no miser inque dies ultra miser, hucine rerum    15 \\nuenimus? a, cur non potius teneroque columbo \\net similis regum pueris pappare minutum \\nposcis et iratus mammae lallare recusas? \\nan tali studeam calamo? cui uerba? quid istas \\nsuccinis ambages? tibi luditur. effluis amens,    20 \\ncontemnere. sonat uitium percussa, maligne \\nrespondet uiridi non cocta fidelia limo. \\nudum et molle lutum es, nunc nunc properandus et acri \\nfingendus sine fine rota. sed rure paterno \\nest tibi far modicum, purum et sine labe salinum    25 \\n(quid metuas?) cultrixque foci secura patella. \\nhoc satis? an deceat pulmonem rumpere uentis \\nstemmate quod Tusco ramum millesime ducis \\ncensoremue tuum uel quod trabeate salutas? \\nad populum phaleras! ego te intus et in cute noui.    30 \\nnon pudet ad morem discincti uiuere Nattae. \\nsed stupet hic uitio et fibris increuit opimum \\npingue, caret culpa, nescit quid perdat, et alto \\ndemersus summa rursus non bullit in unda. \\n magne pater diuum, saeuos punire tyrannos    35 \\nhaut alia ratione uelis, cum dira libido \\nmouerit ingenium feruenti tincta ueneno: \\nuirtutem uideant intabescantque relicta. \\nanne magis Siculi gemuerunt aera iuuenci \\net magis auratis pendens laquearibus ensis    40 \\npurpureas subter ceruices terruit, 'imus, \\nimus praecipites' quam si sibi dicat et intus \\npalleat infelix quod proxima nesciat uxor? \\n saepe oculos, memini, tangebam paruus oliuo, \\ngrandia si nollem morituri uerba Catonis    45 \\ndiscere non sano multum laudanda magistro, \\nquae pater adductis sudans audiret amicis. \\niure; etenim id summum, quid dexter senio ferret, \\nscire erat in uoto, damnosa canicula quantum \\nraderet, angustae collo non fallier orcae,    50 \\nneu quis callidior buxum torquere flagello. \\nhaut tibi inexpertum curuos deprendere mores \\nquaeque docet sapiens bracatis inlita Medis \\nporticus, insomnis quibus et detonsa iuuentus \\ninuigilat siliquis et grandi pasta polenta;    55 \\net tibi quae Samios diduxit littera ramos \\nsurgentem dextro monstrauit limite callem. \\nstertis adhuc laxumque caput conpage soluta \\noscitat hesternum dissutis undique malis. \\nest aliquid quo tendis et in quod derigis arcum?    60 \\nan passim sequeris coruos testaque lutoque, \\nsecurus quo pes ferat, atque ex tempore uiuis? \\n elleborum frustra, cum iam cutis aegra tumebit, \\nposcentis uideas; uenienti occurrite morbo, \\net quid opus Cratero magnos promittere montis?    65 \\ndiscite et, o miseri, causas cognoscite rerum: \\nquid sumus et quidnam uicturi gignimur, ordo \\nquis datus, aut metae qua mollis flexus et unde, \\nquis modus argento, quid fas optare, quid asper \\nutile nummus habet, patriae carisque propinquis    70 \\nquantum elargiri deceat, quem te deus esse \\niussit et humana qua parte locatus es in re. \\ndisce nec inuideas quod multa fidelia putet \\nin locuplete penu, defensis pinguibus Vmbris, \\net piper et pernae, Marsi monumenta clientis,    75 \\nmaenaque quod prima nondum defecerit orca. \\n hic aliquis de gente hircosa centurionum \\ndicat: 'quod sapio satis est mihi. non ego curo \\nesse quod Arcesilas aerumnosique Solones \\nobstipo capite et figentes lumine terram,    80 \\nmurmura cum secum et rabiosa silentia rodunt \\natque exporrecto trutinantur uerba labello, \\naegroti ueteris meditantes somnia, gigni \\nde nihilo nihilum, in nihilum nil posse reuerti. \\nhoc est quod palles? cur quis non prandeat hoc est?'    85 \\nhis populus ridet, multumque torosa iuuentus \\ningeminat tremulos naso crispante cachinnos. \\n 'inspice, nescio quid trepidat mihi pectus et aegris \\nfaucibus exsuperat grauis halitus, inspice sodes' \\nqui dicit medico, iussus requiescere, postquam    90 \\ntertia conpositas uidit nox currere uenas, \\nde maiore domo modice sitiente lagoena \\nlenia loturo sibi Surrentina rogabit. \\n'heus bone, tu palles.' 'nihil est.' 'uideas tamen istuc, \\nquidquid id est. surgit tacite tibi lutea pellis.'    95 \\n'at tu deterius palles, ne sis mihi tutor. \\niam pridem hunc sepeli; tu restas.' 'perge, tacebo.' \\nturgidus hic epulis atque albo uentre lauatur, \\ngutture sulpureas lente exhalante mefites. \\nsed tremor inter uina subit calidumque trientem    100 \\nexcutit e manibus, dentes crepuere retecti, \\nuncta cadunt laxis tunc pulmentaria labris. \\nhinc tuba, candelae, tandemque beatulus alto \\nconpositus lecto crassisque lutatus amomis \\nin portam rigidas calces extendit. at illum    105 \\nhesterni capite induto subiere Quirites. \\n 'tange, miser, uenas et pone in pectore dextram; \\nnil calet hic. summosque pedes attinge manusque; \\nnon frigent.' uisa est si forte pecunia, siue \\ncandida uicini subrisit molle puella,    110 \\ncor tibi rite salit? positum est algente catino \\ndurum holus et populi cribro decussa farina: \\ntemptemus fauces; tenero latet ulcus in ore \\nputre quod haut deceat plebeia radere beta. \\nalges, cum excussit membris timor albus aristas;    115 \\nnunc face supposita feruescit sanguis et ira \\nscintillant oculi, dicisque facisque quod ipse \\nnon sani esse hominis non sanus iuret Orestes.\\n \\n\\n \\n\\n \\n\", 'SATVRA IV \\n \\n\\n \\n\\'Rem populi tractas?\\' (barbatum haec crede magistrum \\ndicere, sorbitio tollit quem dira cicutae) \\n\\'quo fretus? dic hoc, magni pupille Pericli. \\nscilicet ingenium et rerum prudentia uelox \\nante pilos uenit, dicenda tacendaue calles.    5 \\nergo ubi commota feruet plebecula bile, \\nfert animus calidae fecisse silentia turbae \\nmaiestate manus. quid deinde loquere? \"Quirites, \\nhoc puta non iustum est, illud male, rectius illud.\" \\nscis etenim iustum gemina suspendere lance    10 \\nancipitis librae, rectum discernis ubi inter \\ncurua subit uel cum fallit pede regula uaro, \\net potis es nigrum uitio praefigere theta. \\nquin tu igitur summa nequiquam pelle decorus \\nante diem blando caudam iactare popello    15 \\ndesinis, Anticyras melior sorbere meracas? \\nquae tibi summa boni est? uncta uixisse patella \\nsemper et adsiduo curata cuticula sole? \\nexpecta, haut aliud respondeat haec anus. i nunc, \\n\"Dinomaches ego sum\" suffla, \"sum candidus.\" esto,    20 \\ndum ne deterius sapiat pannucia Baucis, \\ncum bene discincto cantauerit ocima uernae.\\' \\n ut nemo in sese temptat descendere, nemo, \\nsed praecedenti spectatur mantica tergo! \\nquaesieris \\'nostin Vettidi praedia?\\' \\'cuius?\\'    25 \\n\\'diues arat Curibus quantum non miluus errat.\\' \\n\\'hunc ais, hunc dis iratis genioque sinistro, \\nqui, quandoque iugum pertusa ad compita figit, \\nseriolae ueterem metuens deradere limum \\ningemit \"hoc bene sit\" tunicatum cum sale mordens    30 \\ncepe et farratam pueris plaudentibus ollam \\npannosam faecem morientis sorbet aceti?\\' \\nat si unctus cesses et figas in cute solem, \\nest prope te ignotus cubito qui tangat et acre \\ndespuat: \\'hi mores! penemque arcanaque lumbi    35 \\nruncantem populo marcentis pandere uuluas. \\ntum, cum maxillis balanatum gausape pectas, \\ninguinibus quare detonsus gurgulio extat? \\nquinque palaestritae licet haec plantaria uellant \\nelixasque nates labefactent forcipe adunca,    40 \\nnon tamen ista filix ullo mansuescit aratro.\\' \\n caedimus inque uicem praebemus crura sagittis. \\nuiuitur hoc pacto, sic nouimus. ilia subter \\ncaecum uulnus habes, sed lato balteus auro \\npraetegit. ut mauis, da uerba et decipe neruos,    45 \\nsi potes. \\'egregium cum me uicinia dicat, \\nnon credam?\\' uiso si palles, inprobe, nummo, \\nsi facis in penem quidquid tibi uenit, amarum \\nsi puteal multa cautus uibice flagellas, \\nnequiquam populo bibulas donaueris aures.    50 \\nrespue quod non es; tollat sua munera cerdo. \\ntecum habita: noris quam sit tibi curta supellex. \\n \\n\\n \\n\\n \\n\\n \\n', 'SATVRA V \\n \\n\\n \\nVatibus hic mos est, centum sibi poscere uoces, \\ncentum ora et linguas optare in carmina centum, \\nfabula seu maesto ponatur hianda tragoedo, \\nuolnera seu Parthi ducentis ab inguine ferrum. \\n\\'quorsum haec? aut quantas robusti carminis offas    5 \\ningeris, ut par sit centeno gutture niti? \\ngrande locuturi nebulas Helicone legunto, \\nsi quibus aut Procnes aut si quibus olla Thyestae \\nferuebit saepe insulso cenanda Glyconi. \\ntu neque anhelanti, coquitur dum massa camino,    10 \\nfolle premis uentos nec clauso murmure raucus \\nnescio quid tecum graue cornicaris inepte \\nnec scloppo tumidas intendis rumpere buccas. \\nuerba togae sequeris iunctura callidus acri, \\nore teres modico, pallentis radere mores    15 \\ndoctus et ingenuo culpam defigere ludo. \\nhinc trahe quae dicis mensasque relinque Mycenis \\ncum capite et pedibus plebeiaque prandia noris.\\' \\nnon equidem hoc studeo, pullatis ut mihi nugis \\npagina turgescat dare pondus idonea fumo.    20 \\nsecrete loquimur. tibi nunc hortante Camena \\nexcutienda damus praecordia, quantaque nostrae \\npars tua sit, Cornute, animae, tibi, dulcis amice, \\nostendisse iuuat. pulsa, dinoscere cautus \\nquid solidum crepet et pictae tectoria linguae.    25 \\nhic ego centenas ausim deposcere fauces, \\nut quantum mihi te sinuoso in pectore fixi \\nuoce traham pura, totumque hoc uerba resignent \\nquod latet arcana non enarrabile fibra. \\n cum primum pauido custos mihi purpura cessit    30 \\nbullaque subcinctis Laribus donata pependit, \\ncum blandi comites totaque inpune Subura \\npermisit sparsisse oculos iam candidus umbo, \\ncumque iter ambiguum est et uitae nescius error \\ndiducit trepidas ramosa in compita mentes,    35 \\nme tibi supposui. teneros tu suscipis annos \\nSocratico, Cornute, sinu. tum fallere sollers \\nadposita intortos extendit regula mores \\net premitur ratione animus uincique laborat \\nartificemque tuo ducit sub pollice uoltum.    40 \\ntecum etenim longos memini consumere soles \\net tecum primas epulis decerpere noctes. \\nunum opus et requiem pariter disponimus ambo \\natque uerecunda laxamus seria mensa. \\nnon equidem hoc dubites, amborum foedere certo    45 \\nconsentire dies et ab uno sidere duci. \\nnostra uel aequali suspendit tempora Libra \\nParca tenax ueri, seu nata fidelibus hora \\ndiuidit in Geminos concordia fata duorum \\nSaturnumque grauem nostro Ioue frangimus una,    50 \\nnescio quod certe est quod me tibi temperat astrum. \\n mille hominum species et rerum discolor usus; \\nuelle suum cuique est nec uoto uiuitur uno. \\nmercibus hic Italis mutat sub sole recenti \\nrugosum piper et pallentis grana cumini,    55 \\nhic satur inriguo mauult turgescere somno, \\nhic campo indulget, hunc alea decoquit, ille \\nin uenerem putris; sed cum lapidosa cheragra \\nfregerit articulos ueteris ramalia fagi, \\ntunc crassos transisse dies lucemque palustrem    60 \\net sibi iam seri uitam ingemuere relictam. \\nat te nocturnis iuuat inpallescere chartis; \\ncultor enim iuuenum purgatas inseris aures \\nfruge Cleanthea. petite hinc, puerique senesque, \\nfinem animo certum miserisque uiatica canis.    65 \\n\\'cras hoc fiet.\\' idem cras fiat. \\'quid? quasi magnum \\nnempe diem donas!\\' sed cum lux altera uenit, \\niam cras hesternum consumpsimus; ecce aliud cras \\negerit hos annos et semper paulum erit ultra. \\nnam quamuis prope te, quamuis temone sub uno    70 \\nuertentem sese frustra sectabere canthum, \\ncum rota posterior curras et in axe secundo. \\n libertate opus est. non hac, ut quisque Velina \\nPublius emeruit, scabiosum tesserula far \\npossidet. heu steriles ueri, quibus una Quiritem    75 \\nuertigo facit! hic Dama est non tresis agaso, \\nuappa lippus et in tenui farragine mendax. \\nuerterit hunc dominus, momento turbinis exit \\nMarcus Dama. papae! Marco spondente recusas \\ncredere tu nummos? Marco sub iudice palles?    80 \\nMarcus dixit, ita est. adsigna, Marce, tabellas. \\nhaec mera libertas, hoc nobis pillea donant. \\n\\'an quisquam est alius liber, nisi ducere uitam \\ncui licet ut libuit? licet ut uolo uiuere, non sum \\nliberior Bruto?\\' \\'mendose colligis\\' inquit    85 \\nStoicus hic aurem mordaci lotus aceto, \\n\\'hoc relicum accipio, \"licet\" illud et \"ut uolo\" tolle.\\' \\n\\'uindicta postquam meus a praetore recessi, \\ncur mihi non liceat, iussit quodcumque uoluntas, \\nexcepto siquid Masuri rubrica uetabit?\\'    90 \\ndisce, sed ira cadat naso rugosaque sanna, \\ndum ueteres auias tibi de pulmone reuello. \\nnon praetoris erat stultis dare tenuia rerum \\nofficia atque usum rapidae permittere uitae; \\nsambucam citius caloni aptaueris alto.    95 \\nstat contra ratio et secretam garrit in aurem, \\nne liceat facere id quod quis uitiabit agendo. \\npublica lex hominum naturaque continet hoc fas, \\nut teneat uetitos inscitia debilis actus. \\ndiluis elleborum, certo conpescere puncto    100 \\nnescius examen? uetat hoc natura medendi. \\nnauem si poscat sibi peronatus arator \\nluciferi rudis, exclamet Melicerta perisse \\nfrontem de rebus. tibi recto uiuere talo \\nars dedit et ueris speciem dinoscere calles,    105 \\nne qua subaerato mendosum tinniat auro? \\nquaeque sequenda forent quaeque euitanda uicissim, \\nilla prius creta, mox haec carbone notasti? \\nes modicus uoti, presso lare, dulcis amicis? \\niam nunc adstringas, iam nunc granaria laxes,    110 \\ninque luto fixum possis transcendere nummum \\nnec gluttu sorbere saliuam Mercurialem? \\n\\'haec mea sunt, teneo\\' cum uere dixeris, esto \\nliberque ac sapiens praetoribus ac Ioue dextro. \\nsin tu, cum fueris nostrae paulo ante farinae.    115 \\npelliculam ueterem retines et fronte politus \\nastutam uapido seruas in pectore uolpem, \\nquae dederam supra relego funemque reduco. \\nnil tibi concessit ratio; digitum exere, peccas, \\net quid tam paruum est? sed nullo ture litabis,    120 \\nhaereat in stultis breuis ut semuncia recti. \\nhaec miscere nefas nec, cum sis cetera fossor, \\ntris tantum ad numeros Satyrum moueare Bathylli. \\n\\'liber ego.\\' unde datum hoc sumis, tot subdite rebus? \\nan dominum ignoras nisi quem uindicta relaxat?    125 \\n\\'i, puer, et strigiles Crispini ad balnea defer\\' \\nsi increpuit, \\'cessas nugator?\\', seruitium acre \\nte nihil inpellit nec quicquam extrinsecus intrat \\nquod neruos agitet; sed si intus et in iecore aegro \\nnascuntur domini, qui tu inpunitior exis    130 \\natque hic quem ad strigilis scutica et metus egit erilis? \\n mane piger stertis. \\'surge\\' inquit Auaritia, \\'eia \\nsurge.\\' negas. instat. \\'surge\\' inquit. \\'non queo.\\' \\'surge.\\'  \\n\\'et quid agam?\\' \\'rogat! en saperdas aduehe Ponto, \\ncastoreum, stuppas, hebenum, tus, lubrica Coa.    135 \\ntolle recens primus piper et sitiente camelo. \\nuerte aliquid; iura.\\' \\'sed Iuppiter audiet.\\' \\'eheu, \\nbaro, regustatum digito terebrare salinum \\ncontentus perages, si uiuere cum Ioue tendis.\\' \\niam pueris pellem succinctus et oenophorum aptas.    140 \\nocius ad nauem! nihil obstat quin trabe uasta \\nAegaeum rapias, ni sollers Luxuria ante \\nseductum moneat: \\'quo deinde, insane, ruis, quo? \\nquid tibi uis? calido sub pectore mascula bilis \\nintumuit quam non extinxerit urna cicutae?    145 \\ntu mare transilias? tibi torta cannabe fulto \\ncena sit in transtro Veiientanumque rubellum \\nexhalet uapida laesum pice sessilis obba? \\nquid petis? ut nummi, quos hic quincunce modesto \\nnutrieras, pergant auidos sudare deunces?    150 \\nindulge genio, carpamus dulcia, nostrum est \\nquod uiuis, cinis et manes et fabula fies, \\nuiue memor leti, fugit hora, hoc quod loquor inde est.\\' \\nen quid agis? duplici in diuersum scinderis hamo. \\nhuncine an hunc sequeris? subeas alternus oportet    155 \\nancipiti obsequio dominos, alternus oberres. \\nnec tu, cum obstiteris semel instantique negaris \\nparere imperio, \\'rupi iam uincula\\' dicas; \\nnam et luctata canis nodum abripit, et tamen illi, \\ncum fugit, a collo trahitur pars longa catenae.    160 \\n\\'Daue, cito, hoc credas iubeo, finire dolores \\npraeteritos meditor\\' (crudum Chaerestratus unguem \\nadrodens ait haec). \\'an siccis dedecus obstem \\ncognatis? an rem patriam rumore sinistro \\nlimen ad obscenum frangam, dum Chrysidis udas    165 \\nebrius ante fores extincta cum face canto?\\' \\n\\'euge, puer, sapias, dis depellentibus agnam \\npercute.\\' \\'sed censen plorabit, Daue, relicta?\\' \\n\\'nugaris. solea, puer, obiurgabere rubra, \\nne trepidare uelis atque artos rodere casses.    170 \\nnunc ferus et uiolens; at, si uocet, haut mora dicas \\n\"quidnam igitur faciam? nec nunc, cum arcessat et ultro \\nsupplicet, accedam?\" si totus et integer illinc \\nexieras, nec nunc.\\' hic hic quod quaerimus, hic est, \\nnon in festuca, lictor quam iactat ineptus.    175 \\nius habet ille sui, palpo quem ducit hiantem \\ncretata Ambitio? uigila et cicer ingere large \\nrixanti populo, nostra ut Floralia possint \\naprici meminisse senes. quid pulchrius? at cum \\nHerodis uenere dies unctaque fenestra    180 \\ndispositae pinguem nebulam uomuere lucernae \\nportantes uiolas rubrumque amplexa catinum \\ncauda natat thynni, tumet alba fidelia uino, \\nlabra moues tacitus recutitaque sabbata palles. \\ntum nigri lemures ouoque pericula rupto,    185 \\ntum grandes galli et cum sistro lusca sacerdos \\nincussere deos inflantis corpora, si non \\npraedictum ter mane caput gustaueris ali. \\ndixeris haec inter uaricosos centuriones, \\ncontinuo crassum ridet Pulfenius ingens    190 \\net centum Graecos curto centusse licetur.\\n \\n\\n \\n\\n \\n', \"SATVRA VI \\n \\n\\n \\nAdmouit iam bruma foco te, Basse, Sabino? \\niamne lyra et tetrico uiuunt tibi pectine chordae? \\nmire opifex numeris ueterum primordia uocum \\natque marem strepitum fidis intendisse Latinae, \\nmox iuuenes agitare iocos et pollice honesto    5 \\negregius lusisse senex. mihi nunc Ligus ora \\nintepet hibernatque meum mare, qua latus ingens \\ndant scopuli et multa litus se ualle receptat. \\n'Lunai portum, est operae, cognoscite, ciues.' \\ncor iubet hoc Enni, postquam destertuit esse    10 \\nMaeonides Quintus pauone ex Pythagoreo. \\nhic ego securus uolgi et quid praeparet auster \\ninfelix pecori, securus et angulus ille \\nuicini nostro quia pinguior, etsi adeo omnes \\nditescant orti peioribus, usque recusem    15 \\ncuruus ob id minui senio aut cenare sine uncto \\net signum in uapida naso tetigisse lagoena. \\ndiscrepet his alius. geminos, horoscope, uaro \\nproducis genio: solis natalibus est qui \\ntinguat holus siccum muria uafer in calice empta,    20 \\nipse sacrum inrorans patinae piper; hic bona dente \\ngrandia magnanimus peragit puer. utar ego, utar, \\nnec rhombos ideo libertis ponere lautus \\nnec tenuis sollers turdarum nosse saliuas. \\nmesse tenus propria uiue et granaria (fas est)    25 \\nemole. quid metuas? occa et seges altera in herba est. \\nat uocat officium, trabe rupta Bruttia saxa \\nprendit amicus inops remque omnem surdaque uota \\ncondidit Ionio, iacet ipse in litore et una \\ningentes de puppe dei iamque obuia mergis    30 \\ncosta ratis lacerae; nunc et de caespite uiuo \\nfrange aliquid, largire inopi, ne pictus oberret \\ncaerulea in tabula. sed cenam funeris heres \\nnegleget iratus quod rem curtaueris; urnae \\nossa inodora dabit, seu spirent cinnama surdum    35 \\nseu ceraso peccent casiae nescire paratus. \\n'tune bona incolumis minuas?' et Bestius urguet \\ndoctores Graios: 'ita fit; postquam sapere urbi \\ncum pipere et palmis uenit nostrum hoc maris expers, \\nfenisecae crasso uitiarunt unguine pultes.'    40 \\nhaec cinere ulterior metuas? at tu, meus heres \\nquisquis eris, paulum a turba seductior audi. \\no bone, num ignoras? missa est a Caesare laurus \\ninsignem ob cladem Germanae pubis et aris \\nfrigidus excutitur cinis ac iam postibus arma,    45 \\niam chlamydas regum, iam lutea gausapa captis \\nessedaque ingentesque locat Caesonia Rhenos. \\ndis igitur genioque ducis centum paria ob res \\negregie gestas induco. quis uetat? aude. \\nuae, nisi coniues. oleum artocreasque popello    50 \\nlargior. an prohibes? dic clare. 'non adeo' inquis \\n'exossatus ager iuxta est.' age, si mihi nulla \\niam reliqua ex amitis, patruelis nulla, proneptis \\nnulla manet patrui, sterilis matertera uixit \\ndeque auia nihilum superest, accedo Bouillas    55 \\ncliuumque ad Virbi, praesto est mihi Manius heres. \\n'progenies terrae?' quaere ex me quis mihi quartus \\nsit pater: haut prompte, dicam tamen; adde etiam unum, \\nunum etiam: terrae est iam filius et mihi ritu \\nManius hic generis prope maior auunculus exit.    60 \\nqui prior es, cur me in decursu lampada poscis? \\nsum tibi Mercurius; uenio deus huc ego ut ille \\npingitur. an renuis? uis tu gaudere relictis? \\n'dest aliquid summae.' minui mihi, sed tibi totum est \\nquidquid id est. ubi sit, fuge quaerere, quod mihi quondam    65 \\nlegarat Tadius, neu dicta, 'pone paterna, \\nfenoris accedat merces, hinc exime sumptus, \\nquid relicum est?' relicum? nunc nunc inpensius ungue, \\nungue, puer, caules. mihi festa luce coquatur \\nurtica et fissa fumosum sinciput aure,    70 \\nut tuus iste nepos olim satur anseris extis, \\ncum morosa uago singultiet inguine uena, \\npatriciae inmeiat uoluae? mihi trama figurae \\nsit reliqua, ast illi tremat omento popa uenter? \\n uende animam lucro, mercare atque excute sollers    75 \\nomne latus mundi, ne sit praestantior alter \\nCappadocas rigida pinguis plausisse catasta, \\nrem duplica. 'feci; iam triplex, iam mihi quarto, \\niam decies redit in rugam. depunge ubi sistam, \\ninuentus, Chrysippe, tui finitor acerui.'    80 \\n\\n \\n\\n \\n \\n \\n \"]\n"
     ]
    }
   ],
   "source": [
    "# Let's separate the Persius LL text by poem\n",
    "\n",
    "def multifind(match, string):\n",
    "    \"\"\"https://stackoverflow.com/a/4664889/1816347\"\"\"\n",
    "    return [s.start() for s in re.finditer(match, string)]\n",
    "\n",
    "prologue_start = persius_raw.find('PROLOGVS')\n",
    "satire_starts = multifind(r'\\bSATVRA\\b', persius_raw)\n",
    "satire_end = persius_raw.find('The Latin Library \\n The Classics Page')\n",
    "\n",
    "persius_prologue = [persius_raw[prologue_start:satire_starts[0]-1]]\n",
    "\n",
    "persius_satires = []\n",
    "\n",
    "for i, start in enumerate(satire_starts):\n",
    "    if i != len(satire_starts) - 1:\n",
    "        satire = persius_raw[start:satire_starts[i+1]-1]\n",
    "    else:\n",
    "        satire = persius_raw[start:satire_end]\n",
    "    persius_satires.append(satire)\n",
    "\n",
    "persius_raws = persius_prologue + persius_satires\n",
    "print(persius_raws)"
   ]
  },
  {
   "cell_type": "code",
   "execution_count": 5,
   "metadata": {
    "collapsed": true
   },
   "outputs": [],
   "source": [
    "# Preprocess texts\n",
    "\n",
    "def preprocess(text):\n",
    "    \n",
    "    text = html.unescape(text) # Handle html entities\n",
    "    text = re.sub(r'&nbsp;?', ' ',text) #&nbsp; stripped incorrectly in corpus?\n",
    "    text = re.sub(r'\\x00',' ',text) #Another space problem?\n",
    "        \n",
    "    text = text.lower()\n",
    "    text = replacer.replace(text) #Normalize u/v & i/j    \n",
    "    \n",
    "    punctuation =\"\\\"#$%&\\'()*+,-/:;<=>@[\\]^_`{|}~.?!«»—\"\n",
    "    translator = str.maketrans({key: \" \" for key in punctuation})\n",
    "    text = text.translate(translator)\n",
    "    \n",
    "    translator = str.maketrans({key: \" \" for key in '0123456789'})\n",
    "    text = text.translate(translator)\n",
    "    \n",
    "    text = re.sub('[ ]+',' ', text) # Remove double spaces\n",
    "    text = re.sub('\\s+\\n+\\s+','\\n', text) # Remove double lines and trim spaces around new lines\n",
    "        \n",
    "    text = \"\\n\".join([line.strip() for line in text.split('\\n')])\n",
    "    \n",
    "    return text"
   ]
  },
  {
   "cell_type": "code",
   "execution_count": 6,
   "metadata": {},
   "outputs": [
    {
     "name": "stdout",
     "output_type": "stream",
     "text": [
      "['Persius Prologue', 'Persius Satire I', 'Persius Satire II', 'Persius Satire III', 'Persius Satire IV', 'Persius Satire V', 'Persius Satire VI']\n"
     ]
    }
   ],
   "source": [
    "# ...get titles...\n",
    "\n",
    "persius_titles = [\"Persius \" + line[0].strip().replace('PROLOGVS','Prologue').replace('SATVRA','Satire') for line in [poem.split('\\n') for poem in persius_raws]]\n",
    "print(persius_titles)"
   ]
  },
  {
   "cell_type": "code",
   "execution_count": 7,
   "metadata": {},
   "outputs": [
    {
     "name": "stdout",
     "output_type": "stream",
     "text": [
      "('prologus\\n'\n",
      " 'nec fonte labra prolui caballino\\n'\n",
      " 'nec in bicipiti somniasse parnaso\\n'\n",
      " 'memini ut repente sic poeta prodirem\\n'\n",
      " 'heliconidasque pallidamque pirenen\\n'\n",
      " 'illis remitto quorum imagines lambunt\\n'\n",
      " 'hederae sequaces ipse semipaganus\\n'\n",
      " 'ad sacra uatum carmen adfero nostrum\\n'\n",
      " 'quis expediuit psittaco suum chaere\\n'\n",
      " 'picamque docuit nostra uerba conari\\n'\n",
      " 'magister artis ingenique largitor\\n'\n",
      " 'uenter negatas artifex sequi uoces\\n'\n",
      " 'quod si dolosi spes refulserit nummi\\n'\n",
      " 'coruos poetas et poetridas picas\\n'\n",
      " 'cantare credas pegaseium nectar\\n')\n"
     ]
    }
   ],
   "source": [
    "# ...preprocess the Satire texts...\n",
    "\n",
    "persius_edit = [preprocess(raw) for raw in persius_raws]\n",
    "pprint(persius_edit[0][:500])"
   ]
  },
  {
   "cell_type": "code",
   "execution_count": 8,
   "metadata": {},
   "outputs": [
    {
     "name": "stdout",
     "output_type": "stream",
     "text": [
      "('nec fonte labra prolui caballino\\n'\n",
      " 'nec in bicipiti somniasse parnaso\\n'\n",
      " 'memini ut repente sic poeta prodirem\\n'\n",
      " 'heliconidasque pallidamque pirenen\\n'\n",
      " 'illis remitto quorum imagines lambunt\\n'\n",
      " 'hederae sequaces ipse semipaganus\\n'\n",
      " 'ad sacra uatum carmen adfero nostrum\\n'\n",
      " 'quis expediuit psittaco suum chaere\\n'\n",
      " 'picamque docuit nostra uerba conari\\n'\n",
      " 'magister artis ingenique largitor\\n'\n",
      " 'uenter negatas artifex sequi uoces\\n'\n",
      " 'quod si dolosi spes refulserit nummi\\n'\n",
      " 'coruos poetas et poetridas picas\\n'\n",
      " 'cantare credas pegaseium nectar\\n')\n"
     ]
    }
   ],
   "source": [
    "# ...strip titles...\n",
    "\n",
    "persius_edit = [\"\\n\".join(poem.split('\\n')[1:]) for poem in persius_edit]\n",
    "pprint(persius_edit[0])"
   ]
  },
  {
   "cell_type": "code",
   "execution_count": 9,
   "metadata": {},
   "outputs": [
    {
     "name": "stdout",
     "output_type": "stream",
     "text": [
      "['nec', 'fonte', 'labra', 'prolui', 'caballino', 'nec', 'in', 'bicipiti', 'somniasse', 'parnaso', 'memini', 'ut', 'repente', 'sic', 'poeta', 'prodirem', 'heliconidas', '-que', 'pallidam', '-que', 'pirene', '-ne', 'illis', 'remitto', 'quorum', 'imagines', 'lambunt', 'hederae', 'sequaces', 'ipse', 'semipaganus', 'ad', 'sacra', 'uatum', 'carmen', 'adfero', 'nostrum', 'quis', 'expediuit', 'psittaco', 'suum', 'chaere', 'picam', '-que', 'docuit', 'nostra', 'uerba', 'conari', 'magister', 'artis', 'ingeni', '-que', 'largitor', 'uenter', 'negatas', 'artifex', 'sequi', 'uoces', 'quod', 'si', 'dolosi', 'spes', 'refulserit', 'nummi', 'coruos', 'poetas', 'et', 'poetridas', 'picas', 'cantare', 'credas', 'pegaseium', 'nectar']\n"
     ]
    }
   ],
   "source": [
    "persius_tokens = [word_tokenizer.tokenize(tokens) for tokens in persius_edit]\n",
    "print(persius_tokens[0])"
   ]
  },
  {
   "cell_type": "code",
   "execution_count": 10,
   "metadata": {},
   "outputs": [
    {
     "data": {
      "text/plain": [
       "[{'non': 0},\n",
       " {'non': 15},\n",
       " {'non': 5},\n",
       " {'non': 11},\n",
       " {'non': 5},\n",
       " {'non': 12},\n",
       " {'non': 1}]"
      ]
     },
     "execution_count": 10,
     "metadata": {},
     "output_type": "execute_result"
    }
   ],
   "source": [
    "negative_words = ['non']\n",
    "persius_negatives = [{word: tokens.count(word) for word in negative_words} for tokens in persius_tokens]\n",
    "persius_negatives"
   ]
  },
  {
   "cell_type": "code",
   "execution_count": 11,
   "metadata": {},
   "outputs": [
    {
     "data": {
      "text/plain": [
       "[{'nec': 2, 'neque': 0, 'non': 0},\n",
       " {'nec': 14, 'neque': 2, 'non': 15},\n",
       " {'nec': 0, 'neque': 0, 'non': 5},\n",
       " {'nec': 1, 'neque': 0, 'non': 11},\n",
       " {'nec': 0, 'neque': 0, 'non': 5},\n",
       " {'nec': 9, 'neque': 1, 'non': 12},\n",
       " {'nec': 2, 'neque': 0, 'non': 1}]"
      ]
     },
     "execution_count": 11,
     "metadata": {},
     "output_type": "execute_result"
    }
   ],
   "source": [
    "negative_words = ['non', 'nec', 'neque']\n",
    "persius_negatives = [{word: tokens.count(word) for word in negative_words} for tokens in persius_tokens]\n",
    "persius_negatives"
   ]
  },
  {
   "cell_type": "code",
   "execution_count": 12,
   "metadata": {},
   "outputs": [
    {
     "data": {
      "text/plain": [
       "[68, 945, 521, 788, 342, 1288, 570]"
      ]
     },
     "execution_count": 12,
     "metadata": {},
     "output_type": "execute_result"
    }
   ],
   "source": [
    "persius_lengths = [len(tokens.split()) for tokens in persius_edit]\n",
    "persius_lengths"
   ]
  },
  {
   "cell_type": "code",
   "execution_count": 13,
   "metadata": {},
   "outputs": [
    {
     "data": {
      "text/plain": [
       "[2, 31, 5, 12, 5, 22, 3]"
      ]
     },
     "execution_count": 13,
     "metadata": {},
     "output_type": "execute_result"
    }
   ],
   "source": [
    "persius_negative_totals = [sum(d.values()) for d in persius_negatives]\n",
    "persius_negative_totals"
   ]
  },
  {
   "cell_type": "code",
   "execution_count": 14,
   "metadata": {},
   "outputs": [
    {
     "name": "stdout",
     "output_type": "stream",
     "text": [
      "[29.41, 32.8, 9.6, 15.23, 14.62, 17.08, 5.26]\n"
     ]
    }
   ],
   "source": [
    "persius_negative_relative = [round((1000 * x)/y,2) for x, y in zip(persius_negative_totals, persius_lengths)]\n",
    "print(persius_negative_relative)"
   ]
  },
  {
   "cell_type": "code",
   "execution_count": 15,
   "metadata": {},
   "outputs": [
    {
     "name": "stdout",
     "output_type": "stream",
     "text": [
      "[('Persius Prologue', 29.41),\n",
      " ('Persius Satire I', 32.8),\n",
      " ('Persius Satire II', 9.6),\n",
      " ('Persius Satire III', 15.23),\n",
      " ('Persius Satire IV', 14.62),\n",
      " ('Persius Satire V', 17.08),\n",
      " ('Persius Satire VI', 5.26)]\n"
     ]
    }
   ],
   "source": [
    "pprint(list(zip(persius_titles, persius_negative_relative)))"
   ]
  },
  {
   "cell_type": "code",
   "execution_count": 16,
   "metadata": {},
   "outputs": [
    {
     "name": "stdout",
     "output_type": "stream",
     "text": [
      "(\"a adflasset, peior serpentibus Afris.'\\n\"\n",
      " ' \\n'\n",
      " '\\n'\n",
      " ' \\n'\n",
      " '\\t \\n'\n",
      " '\\t\\t Horace \\n'\n",
      " '\\t\\t The Latin Library \\n'\n",
      " '\\t\\t The Classics Page')\n"
     ]
    }
   ],
   "source": [
    "# Do the same for Horace\n",
    "\n",
    "horace_files = [file for file in files if 'horace/serm' in file]\n",
    "horace_raw = latinlibrary.raw(horace_files)\n",
    "pprint(horace_raw[-100:])"
   ]
  },
  {
   "cell_type": "code",
   "execution_count": 17,
   "metadata": {},
   "outputs": [],
   "source": [
    "# Let's separate the Horace LL text by poem\n",
    "\n",
    "satire_starts = multifind(r'\\b\\d\\.\\d+\\b', horace_raw)\n",
    "satire_end = horace_raw.find('\\t\\t Horace \\n')\n",
    "\n",
    "horace_satires = []\n",
    "\n",
    "for i, start in enumerate(satire_starts):\n",
    "    if i != len(satire_starts) - 1:\n",
    "        satire = horace_raw[start:satire_starts[i+1]-1]\n",
    "    else:\n",
    "        satire = horace_raw[start:satire_end]\n",
    "    horace_satires.append(satire)\n",
    "\n",
    "horace_satires = [satire for satire in horace_satires if satire]\n"
   ]
  },
  {
   "cell_type": "code",
   "execution_count": 18,
   "metadata": {},
   "outputs": [
    {
     "name": "stdout",
     "output_type": "stream",
     "text": [
      "['qui', 'fit', 'maecenas', 'ut', 'nemo', 'quam', 'sibi', 'sortem', 'seu', 'ratio', 'dederit', 'seu', 'fors', 'obiecerit', 'illa', 'contentus', 'uiuat', 'laudet', 'diuersa', 'sequentis', 'o', 'fortunati', 'mercatores', 'grauis', 'annis', 'miles', 'ait', 'multo', 'iam', 'fractus', 'membra', 'labore', 'contra', 'mercator', 'nauim', 'iactantibus', 'austris', 'militia', 'est', 'potior', 'quid', 'enim', 'concurritur', 'horae', 'momento', 'cita', 'mors', 'uenit', 'aut', 'uictoria', 'laeta', 'agricolam', 'laudat', 'iuris', 'legum', '-que', 'peritus', 'sub', 'galli', 'cantum', 'consultor', 'ubi', 'ostia', 'pulsat', 'ille', 'datis', 'uadibus', 'qui', 'rure', 'extractus', 'in', 'urbem', 'est', 'solos', 'felicis', 'uiuentis', 'clamat', 'in', 'urbe', 'cetera', 'de', 'genere', 'hoc', 'adeo', 'sunt', 'multa', 'loquacem', 'delassare', 'ualent', 'fabium', 'ne', 'te', 'morer', 'audi', 'quo', 'rem', 'deducam', 'si', 'quis', 'deus']\n"
     ]
    }
   ],
   "source": [
    "# ...get titles...\n",
    "\n",
    "horace_titles = [\"Horace Satire \" + line[0].strip() for line in [poem.split('\\n') for poem in horace_satires]]\n",
    "\n",
    "\n",
    "horace_edit = [preprocess(raw) for raw in horace_satires] # ...preprocess the Satire texts...\n",
    "horace_edit = [\"\\n\".join(poem.split('\\n')[1:]) for poem in horace_edit] #...strip titles...\n",
    "horace_tokens = [word_tokenizer.tokenize(tokens) for tokens in horace_edit]\n",
    "\n",
    "print(horace_tokens[0][:100])"
   ]
  },
  {
   "cell_type": "code",
   "execution_count": 19,
   "metadata": {},
   "outputs": [
    {
     "data": {
      "text/plain": [
       "[{'nec': 0, 'neque': 6, 'non': 11},\n",
       " {'nec': 5, 'neque': 3, 'non': 9},\n",
       " {'nec': 3, 'neque': 1, 'non': 7},\n",
       " {'nec': 3, 'neque': 5, 'non': 9},\n",
       " {'nec': 1, 'neque': 2, 'non': 5},\n",
       " {'nec': 3, 'neque': 3, 'non': 16},\n",
       " {'nec': 0, 'neque': 0, 'non': 3},\n",
       " {'nec': 1, 'neque': 0, 'non': 2},\n",
       " {'nec': 5, 'neque': 1, 'non': 7},\n",
       " {'nec': 2, 'neque': 5, 'non': 6},\n",
       " {'nec': 2, 'neque': 5, 'non': 3},\n",
       " {'nec': 6, 'neque': 2, 'non': 10},\n",
       " {'nec': 6, 'neque': 4, 'non': 24},\n",
       " {'nec': 2, 'neque': 0, 'non': 9},\n",
       " {'nec': 1, 'neque': 1, 'non': 3},\n",
       " {'nec': 6, 'neque': 3, 'non': 5},\n",
       " {'nec': 0, 'neque': 7, 'non': 12}]"
      ]
     },
     "execution_count": 19,
     "metadata": {},
     "output_type": "execute_result"
    }
   ],
   "source": [
    "negative_words = ['non', 'nec', 'neque']\n",
    "horace_negatives = [{word: tokens.count(word) for word in negative_words} for tokens in horace_tokens]\n",
    "horace_negatives"
   ]
  },
  {
   "cell_type": "code",
   "execution_count": 20,
   "metadata": {},
   "outputs": [
    {
     "name": "stdout",
     "output_type": "stream",
     "text": [
      "[20.02, 17.73, 11.02, 16.98, 11.78, 23.89, 12.88, 9.17, 22.57, 18.57, 16.69, 19.21, 15.0, 17.52, 6.68, 16.79, 23.2]\n"
     ]
    }
   ],
   "source": [
    "horace_lengths = [len(tokens.split()) for tokens in horace_satires]\n",
    "horace_negative_totals = [sum(d.values()) for d in horace_negatives]\n",
    "horace_negative_relative = [round((1000 * x)/y,2) for x, y in zip(horace_negative_totals, horace_lengths)]\n",
    "print(horace_negative_relative)\n"
   ]
  },
  {
   "cell_type": "code",
   "execution_count": 21,
   "metadata": {},
   "outputs": [
    {
     "name": "stdout",
     "output_type": "stream",
     "text": [
      "[('Horace Satire 1.1', 20.02),\n",
      " ('Horace Satire 1.2', 17.73),\n",
      " ('Horace Satire 1.3', 11.02),\n",
      " ('Horace Satire 1.4', 16.98),\n",
      " ('Horace Satire 1.5', 11.78),\n",
      " ('Horace Satire 1.6', 23.89),\n",
      " ('Horace Satire 1.7', 12.88),\n",
      " ('Horace Satire 1.8', 9.17),\n",
      " ('Horace Satire 1.9', 22.57),\n",
      " ('Horace Satire 1.10', 18.57),\n",
      " ('Horace Satire 2.1', 16.69),\n",
      " ('Horace Satire 2.2', 19.21),\n",
      " ('Horace Satire 2.3', 15.0),\n",
      " ('Horace Satire 2.4', 17.52),\n",
      " ('Horace Satire 2.5', 6.68),\n",
      " ('Horace Satire 2.6', 16.79),\n",
      " ('Horace Satire 2.7', 23.2)]\n",
      "[('Persius Prologue', 29.41),\n",
      " ('Persius Satire I', 32.8),\n",
      " ('Persius Satire II', 9.6),\n",
      " ('Persius Satire III', 15.23),\n",
      " ('Persius Satire IV', 14.62),\n",
      " ('Persius Satire V', 17.08),\n",
      " ('Persius Satire VI', 5.26)]\n"
     ]
    }
   ],
   "source": [
    "pprint(list(zip(horace_titles, horace_negative_relative)))\n",
    "pprint(list(zip(persius_titles, persius_negative_relative)))"
   ]
  },
  {
   "cell_type": "code",
   "execution_count": 22,
   "metadata": {},
   "outputs": [
    {
     "name": "stdout",
     "output_type": "stream",
     "text": [
      "(\" Siculos cantus effugit remige surdo.'\\n\"\n",
      " ' \\n'\n",
      " ' \\n'\n",
      " '\\t \\n'\n",
      " '\\t\\t Juvenal \\n'\n",
      " '\\t\\t The Latin Library \\n'\n",
      " '\\t\\t The Classics Page')\n"
     ]
    }
   ],
   "source": [
    "# Do the same for Juvenal\n",
    "juvenal_files = [file for file in files if 'juv' in file]\n",
    "juvenal_raw = latinlibrary.raw(juvenal_files)\n",
    "pprint(juvenal_raw[-100:])"
   ]
  },
  {
   "cell_type": "code",
   "execution_count": 23,
   "metadata": {
    "collapsed": true
   },
   "outputs": [],
   "source": [
    "# Let's separate the Juvenal LL text by poem\n",
    "\n",
    "satire_starts = multifind(r'\\bD. IVNI IVVENALIS SATVRA\\b', juvenal_raw)\n",
    "satire_end = juvenal_raw.find('\\t\\t Juvenal \\n')\n",
    "\n",
    "juvenal_satires = []\n",
    "\n",
    "for i, start in enumerate(satire_starts):\n",
    "    if i != len(satire_starts) - 1:\n",
    "        satire = juvenal_raw[start:satire_starts[i+1]-1]\n",
    "    else:\n",
    "        satire = juvenal_raw[start:satire_end]\n",
    "    juvenal_satires.append(satire)\n",
    "\n",
    "juvenal_satires = [satire for satire in juvenal_satires if satire]"
   ]
  },
  {
   "cell_type": "code",
   "execution_count": 24,
   "metadata": {},
   "outputs": [
    {
     "name": "stdout",
     "output_type": "stream",
     "text": [
      "['semper', 'ego', 'auditor', 'tantum', 'numquamne', 'reponam', 'uexatus', 'totiens', 'rauci', 'theseide', 'cordi', 'inpune', 'ergo', 'mihi', 'recitauerit', 'ille', 'togatas', 'hic', 'elegos', 'inpune', 'diem', 'consumpserit', 'ingens', 'telephus', 'aut', 'summi', 'plena', 'iam', 'margine', 'libri', 'scriptus', 'et', 'in', 'tergo', 'necdum', 'finitus', 'orestes', 'nota', 'magis', 'nulli', 'domus', 'est', 'sua', 'quam', 'mihi', 'lucus', 'martis', 'et', 'aeoliis', 'uicinum', 'rupibus', 'antrum', 'uulcani', 'quid', 'agant', 'uenti', 'quas', 'torqueat', 'umbras', 'aeacus', 'unde', 'alius', 'furtiuae', 'deuehat', 'aurum', 'pelliculae', 'quantas', 'iaculetur', 'monychus', 'ornos', 'frontonis', 'platani', 'conuolsa', '-que', 'marmora', 'clamant', 'semper', 'et', 'adsiduo', 'ruptae', 'lectore', 'columnae', 'expectes', 'eadem', 'a', 'summo', 'minimo', '-que', 'poeta', 'et', 'nos', 'ergo', 'manum', 'ferulae', 'subduximus', 'et', 'nos', 'consilium', 'dedimus', 'sullae']\n"
     ]
    }
   ],
   "source": [
    "# ...get titles...\n",
    "\n",
    "juvenal_titles = [line[0].replace('D. IVNI IVVENALIS','Juvenal').replace('SATVRA', 'Satire').strip() for line in [poem.split('\\n') for poem in juvenal_satires]]\n",
    "\n",
    "\n",
    "juvenal_edit = [preprocess(raw) for raw in juvenal_satires] # ...preprocess the Satire texts...\n",
    "juvenal_edit = [\"\\n\".join(poem.split('\\n')[1:]) for poem in juvenal_edit] #...strip titles...\n",
    "juvenal_tokens = [word_tokenizer.tokenize(tokens) for tokens in juvenal_edit]\n",
    "\n",
    "print(juvenal_tokens[0][:100])"
   ]
  },
  {
   "cell_type": "code",
   "execution_count": 25,
   "metadata": {},
   "outputs": [
    {
     "name": "stdout",
     "output_type": "stream",
     "text": [
      "[8.77, 10.22, 17.84, 15.2, 22.09, 16.49, 10.34, 14.56, 18.53, 16.76, 8.9, 9.33, 12.82, 11.58, 12.09]\n"
     ]
    }
   ],
   "source": [
    "negative_words = ['non', 'nec', 'neque']\n",
    "juvenal_negatives = [{word: tokens.count(word) for word in negative_words} for tokens in juvenal_tokens]\n",
    "juvenal_negatives\n",
    "\n",
    "juvenal_lengths = [len(tokens.split()) for tokens in juvenal_satires]\n",
    "juvenal_negative_totals = [sum(d.values()) for d in juvenal_negatives]\n",
    "juvenal_negative_relative = [round((1000 * x)/y,2) for x, y in zip(juvenal_negative_totals, juvenal_lengths)]\n",
    "print(juvenal_negative_relative)"
   ]
  },
  {
   "cell_type": "code",
   "execution_count": 26,
   "metadata": {},
   "outputs": [
    {
     "name": "stdout",
     "output_type": "stream",
     "text": [
      "[('Horace Satire 1.1', 20.02),\n",
      " ('Horace Satire 1.2', 17.73),\n",
      " ('Horace Satire 1.3', 11.02),\n",
      " ('Horace Satire 1.4', 16.98),\n",
      " ('Horace Satire 1.5', 11.78),\n",
      " ('Horace Satire 1.6', 23.89),\n",
      " ('Horace Satire 1.7', 12.88),\n",
      " ('Horace Satire 1.8', 9.17),\n",
      " ('Horace Satire 1.9', 22.57),\n",
      " ('Horace Satire 1.10', 18.57),\n",
      " ('Horace Satire 2.1', 16.69),\n",
      " ('Horace Satire 2.2', 19.21),\n",
      " ('Horace Satire 2.3', 15.0),\n",
      " ('Horace Satire 2.4', 17.52),\n",
      " ('Horace Satire 2.5', 6.68),\n",
      " ('Horace Satire 2.6', 16.79),\n",
      " ('Horace Satire 2.7', 23.2)]\n",
      "[('Persius Prologue', 29.41),\n",
      " ('Persius Satire I', 32.8),\n",
      " ('Persius Satire II', 9.6),\n",
      " ('Persius Satire III', 15.23),\n",
      " ('Persius Satire IV', 14.62),\n",
      " ('Persius Satire V', 17.08),\n",
      " ('Persius Satire VI', 5.26)]\n",
      "[('Juvenal Satire I', 8.77),\n",
      " ('Juvenal Satire X', 10.22),\n",
      " ('Juvenal Satire XI', 17.84),\n",
      " ('Juvenal Satire XII', 15.2),\n",
      " ('Juvenal Satire XIII', 22.09),\n",
      " ('Juvenal Satire XIV', 16.49),\n",
      " ('Juvenal Satire XV', 10.34),\n",
      " ('Juvenal Satire XVI', 14.56),\n",
      " ('Juvenal Satire II', 18.53),\n",
      " ('Juvenal Satire III', 16.76),\n",
      " ('Juvenal Satire IV', 8.9),\n",
      " ('Juvenal Satire V', 9.33),\n",
      " ('Juvenal Satire VI', 12.82),\n",
      " ('Juvenal Satire VII', 11.58),\n",
      " ('Juvenal Satire VIII', 12.09)]\n"
     ]
    }
   ],
   "source": [
    "pprint(list(zip(horace_titles, horace_negative_relative)))\n",
    "pprint(list(zip(persius_titles, persius_negative_relative)))\n",
    "pprint(list(zip(juvenal_titles, juvenal_negative_relative)))"
   ]
  },
  {
   "cell_type": "code",
   "execution_count": 27,
   "metadata": {
    "collapsed": true
   },
   "outputs": [],
   "source": [
    "satire_negative_relative = list(zip(horace_titles, horace_negative_relative)) + \\\n",
    "                            list(zip(persius_titles, persius_negative_relative)) + \\\n",
    "                            list(zip(juvenal_titles, juvenal_negative_relative))\n"
   ]
  },
  {
   "cell_type": "code",
   "execution_count": 28,
   "metadata": {},
   "outputs": [
    {
     "data": {
      "image/png": "[encoded data removed]",
      "text/plain": [
       "<matplotlib.figure.Figure at 0x10dd85cf8>"
      ]
     },
     "metadata": {},
     "output_type": "display_data"
    }
   ],
   "source": [
    "import numpy as np\n",
    "import matplotlib.pyplot as plt\n",
    "\n",
    "# sort in-place from highest to lowest\n",
    "#popularity_data.sort(key=lambda x: x[1], reverse=True) \n",
    "\n",
    "# save the names and their respective scores separately\n",
    "# reverse the tuples to go from most frequent to least frequent \n",
    "people = list(zip(*satire_negative_relative))[0]\n",
    "score = list(zip(*satire_negative_relative))[1]\n",
    "x_pos = np.arange(len(people)) \n",
    "\n",
    "# calculate slope and intercept for the linear trend line\n",
    "slope, intercept = np.polyfit(x_pos, score, 1)\n",
    "trendline = intercept + (slope * x_pos)\n",
    "\n",
    "plt.figure(figsize=(20,10))\n",
    "\n",
    "plt.title('Negative Diction in Roman Satire', fontsize = 24)\n",
    "#plt.plot(x_pos, trendline, color='red', linestyle='--')    \n",
    "plt.bar(x_pos, score,align='center')\n",
    "plt.xticks(x_pos, people,rotation='vertical') \n",
    "plt.ylabel('Negative Words (per 1000 words)')\n",
    "plt.show()"
   ]
  }
 ],
 "metadata": {
  "kernelspec": {
   "display_name": "Python 3",
   "language": "python",
   "name": "python3"
  },
  "language_info": {
   "codemirror_mode": {
    "name": "ipython",
    "version": 3
   },
   "file_extension": ".py",
   "mimetype": "text/x-python",
   "name": "python",
   "nbconvert_exporter": "python",
   "pygments_lexer": "ipython3",
   "version": "3.6.1"
  }
 },
 "nbformat": 4,
 "nbformat_minor": 2
}
