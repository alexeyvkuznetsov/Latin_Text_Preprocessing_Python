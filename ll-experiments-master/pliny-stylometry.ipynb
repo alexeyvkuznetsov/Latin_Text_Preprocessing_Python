{
 "cells": [
  {
   "cell_type": "code",
   "execution_count": null,
   "metadata": {},
   "outputs": [],
   "source": [
    "# Imports\n",
    "\n",
    "import os\n",
    "import string\n",
    "import re\n",
    "from collections import Counter\n",
    "import html  \n",
    "\n",
    "from pprint import pprint\n",
    "\n",
    "import numpy as np\n",
    "import pandas as pd\n",
    "import matplotlib.pyplot as plt\n",
    "\n",
    "from cltk.corpus.latin import latinlibrary\n",
    "from cltk.tokenize.line import LineTokenizer\n",
    "from cltk.tokenize.word import WordTokenizer\n",
    "from cltk.stem.latin.j_v import JVReplacer"
   ]
  },
  {
   "cell_type": "code",
   "execution_count": null,
   "metadata": {},
   "outputs": [],
   "source": [
    "# Setup CLTK tools\n",
    "\n",
    "line_tokenizer = LineTokenizer('latin')\n",
    "word_tokenizer = WordTokenizer('latin')\n",
    "replacer = JVReplacer()"
   ]
  },
  {
   "cell_type": "markdown",
   "metadata": {},
   "source": [
    "## Get text of the Pliny 10"
   ]
  },
  {
   "cell_type": "code",
   "execution_count": null,
   "metadata": {},
   "outputs": [],
   "source": [
    "# Get the Pliny Ep. 10 text\n",
    "\n",
    "files = latinlibrary.fileids()\n",
    "pliny_ep10_raw = latinlibrary.raw('pliny.ep10.txt')\n",
    "print(pliny_ep10_raw)"
   ]
  },
  {
   "cell_type": "code",
   "execution_count": null,
   "metadata": {},
   "outputs": [],
   "source": [
    "# Preprocess texts\n",
    "\n",
    "def preprocess(text):\n",
    "\n",
    "    remove_list = [r'\\bPliny the Younger\\b',\n",
    "                   r'\\bThe Latin Library\\b',\n",
    "                   r'\\bThe Classics Page',\n",
    "                   r'C. PLINII CAECILII SECVNDI EPISTVLARVM LIBER DECIMVS AD TRAIANVM IMPERATOREM CVM EIVSDEM RESPONSIS',\n",
    "                  ]\n",
    "    \n",
    "    for pattern in remove_list:\n",
    "        text = re.sub(pattern, '', text)\n",
    "    \n",
    "    # REMOVE LETTER HEADINGS?\n",
    "    \n",
    "    text = html.unescape(text) # Handle html entities\n",
    "    text = re.sub(r'&nbsp;?', ' ',text) #&nbsp; stripped incorrectly in corpus?\n",
    "    text = re.sub(r'\\x00',' ',text) #Another space problem?\n",
    "    \n",
    "    # Remove roman numeral headings; must be before lower & replacer\n",
    "    #text = re.sub(r'\\b(M{1,4}(CM|CD|D?C{0,3})(XC|XL|L?X{0,3})(IX|IV|V?I{0,3})|M{0,4}(CM|C?D|D?C{1,3})(XC|XL|L?X{0,3})(IX|IV|V?I{0,4})|M{0,4}(CM|CD|D?C{0,3})(XC|X?L|L?X{1,3})(IX|IV|V?I{0,3})|M{0,4}(CM|CD|D?C{0,3})(XC|XL|L?X{0,3})(IX|I?V|V?I{1,3}))\\b[\\.]',' ',text)\n",
    "    \n",
    "    text = text.lower()\n",
    "    text = replacer.replace(text) #Normalize u/v & i/j\n",
    "    \n",
    "    # Herdan also normalizes 'qu' to 'c'\n",
    "    #text = re.sub('qu', 'k', text)\n",
    "    #text = re.sub('cui', 'ku', text)\n",
    "    \n",
    "    \n",
    "    punctuation =\"\\\"#$%&\\'()*+,-/:;<=>@[\\]^_`{|}~.?!«»\"\n",
    "    translator = str.maketrans({key: \" \" for key in punctuation})\n",
    "    text = text.translate(translator)\n",
    "    \n",
    "    translator = str.maketrans({key: \" \" for key in '0123456789'})\n",
    "    text = text.translate(translator)\n",
    "    \n",
    "    # Remove letters standing alone on a line as leftover indicators\n",
    "    text = re.sub(r'^\\s*?[a-z]\\s*?$','', text, flags=re.MULTILINE)\n",
    "\n",
    "    # Trim spaces around lines\n",
    "    text = re.sub(r'^\\s*','', text, flags=re.MULTILINE)\n",
    "    text = re.sub(r'\\s*$','', text, flags=re.MULTILINE)\n",
    "\n",
    "    text = re.sub(r'\\n',r' ', text, flags=re.MULTILINE) # Replace multiple new lines with one\n",
    "    text = re.sub('[ ]+',' ', text) # Remove double spaces\n",
    "\n",
    "    # Remove text of Trajan's responses to Pliny, leaving nothing\n",
    "    # Couldn't get this to consistently insert \\n before \\g<1>\n",
    "    text = re.sub(r'traianus plinio.*?(c plinius traiano imperatori)',r'\\g<1>',text, flags=re.DOTALL)\n",
    "\n",
    "    # Split text on Pliny's salutation to Trajan, leaving each letter in one paragraph\n",
    "    text = re.sub(r'c plinius traiano imperatori ',r'\\n', text)\n",
    "\n",
    "    # Remove leading blank line\n",
    "    text = re.sub(r'^\\n','', text, flags=re.MULTILINE)\n",
    "    return text\n",
    "\n",
    "pliny_ep10_clean = preprocess(pliny_ep10_raw)\n",
    "print(pliny_ep10_clean)"
   ]
  },
  {
   "cell_type": "code",
   "execution_count": null,
   "metadata": {},
   "outputs": [],
   "source": [
    "# Assign cleaned text to variable\n",
    "# Also write letters to separate files\n",
    "# NB We've lost the numbers for the letters, so I use a lookup table to get original number\n",
    "# Other options:\n",
    "#     1. Don't delete the letters to Trajan, but just don't write them out to file\n",
    "#     2. Keep that number until the final step of writing or saving\n",
    "i = 0\n",
    "letters = pliny_ep10_clean.split('\\n')\n",
    "crosswalk = [\"1\", \"2\", \"3A\", \"4\", \"5\", \"6\", \"8\", \"10\", \"11\", \"12\", \"13\", \"14\", \"15\", \"17A\", \"17B\", \"19\", \"21\", \"23\", \"25\", \"26\", \"27\", \"29\", \"31\", \"33\", \"35\", \"37\", \"39\", \"41\", \"43\", \"45\", \"47\", \"49\", \"51\", \"52\", \"54\", \"56\", \"58\", \"59\", \"61\", \"63\", \"64\", \"65\", \"67\", \"68\", \"70\", \"72\", \"74\", \"75\", \"77\", \"79\", \"81\", \"83\", \"85\", \"86A\", \"86B\", \"87\", \"88\", \"90\", \"92\", \"94\", \"96\", \"98\", \"100\", \"102\", \"104\", \"106\", \"108\", \"110\", \"112\", \"114\", \"116\", \"118\", \"120\"]\n",
    "subdir = './pliny_ep10/'\n",
    "for letter in letters:\n",
    "    if len(letter) > 1:\n",
    "        fname = subdir + crosswalk[i] + '.txt'\n",
    "        file = open(fname,'w')\n",
    "        file.write(letter)\n",
    "        file.close()\n",
    "        i = i + 1"
   ]
  }
 ],
 "metadata": {
  "kernelspec": {
   "display_name": "Python 3",
   "language": "python",
   "name": "python3"
  },
  "language_info": {
   "codemirror_mode": {
    "name": "ipython",
    "version": 3
   },
   "file_extension": ".py",
   "mimetype": "text/x-python",
   "name": "python",
   "nbconvert_exporter": "python",
   "pygments_lexer": "ipython3",
   "version": "3.6.3"
  }
 },
 "nbformat": 4,
 "nbformat_minor": 1
}
