{
 "cells": [
  {
   "cell_type": "markdown",
   "metadata": {},
   "source": [
    "## Make wordsearch grid"
   ]
  },
  {
   "cell_type": "code",
   "execution_count": 1,
   "metadata": {
    "collapsed": true
   },
   "outputs": [],
   "source": [
    "# following B. Helmig's Crossword Puzzle Generator\n",
    "# http://bryanhelmig.com/python-crossword-puzzle-generator/"
   ]
  },
  {
   "cell_type": "code",
   "execution_count": 2,
   "metadata": {
    "collapsed": true
   },
   "outputs": [],
   "source": [
    "import random, re, time, string\n",
    "from copy import copy as duplicate"
   ]
  },
  {
   "cell_type": "code",
   "execution_count": 3,
   "metadata": {},
   "outputs": [],
   "source": [
    "class Crossword(object):\n",
    "    def __init__(self, cols, rows, empty = '-', maxloops = 2000, available_words=[]):\n",
    "        self.cols = cols\n",
    "        self.rows = rows\n",
    "        self.empty = empty\n",
    "        self.maxloops = maxloops\n",
    "        self.available_words = available_words\n",
    "        self.randomize_word_list()\n",
    "        self.current_word_list = []\n",
    "        self.debug = 0\n",
    "        self.clear_grid()\n",
    "        self.latin_lower = string.ascii_lowercase.replace('j','').replace('v', '')\n",
    "\n",
    "    def clear_grid(self): # initialize grid and fill with empty character\n",
    "        self.grid = []\n",
    "        for i in range(self.rows):\n",
    "            ea_row = []\n",
    "            for j in range(self.cols):\n",
    "                ea_row.append(self.empty)\n",
    "            self.grid.append(ea_row)\n",
    " \n",
    "    def randomize_word_list(self): # also resets words and sorts by length\n",
    "        temp_list = []\n",
    "        for word in self.available_words:\n",
    "            if isinstance(word, Word):\n",
    "                temp_list.append(Word(word.word, word.clue))\n",
    "            else:\n",
    "                temp_list.append(Word(word[0], word[1]))\n",
    "        random.shuffle(temp_list) # randomize word list\n",
    "        temp_list.sort(key=lambda i: len(i.word), reverse=True) # sort by length\n",
    "        self.available_words = temp_list\n",
    " \n",
    "    def compute_crossword(self, time_permitted = 1.00, spins=2):\n",
    "        time_permitted = float(time_permitted)\n",
    " \n",
    "        count = 0\n",
    "        copy = Crossword(self.cols, self.rows, self.empty, self.maxloops, self.available_words)\n",
    " \n",
    "        start_full = float(time.time())\n",
    "        while (float(time.time()) - start_full) < time_permitted or count == 0: # only run for x seconds\n",
    "            self.debug += 1\n",
    "            copy.current_word_list = []\n",
    "            copy.clear_grid()\n",
    "            copy.randomize_word_list()\n",
    "            x = 0\n",
    "            while x < spins: # spins; 2 seems to be plenty\n",
    "                for word in copy.available_words:\n",
    "                    if word not in copy.current_word_list:\n",
    "                        copy.fit_and_add(word)\n",
    "                x += 1\n",
    "            #print copy.solution()\n",
    "            #print len(copy.current_word_list), len(self.current_word_list), self.debug\n",
    "            # buffer the best crossword by comparing placed words\n",
    "            if len(copy.current_word_list) > len(self.current_word_list):\n",
    "                self.current_word_list = copy.current_word_list\n",
    "                self.grid = copy.grid\n",
    "            count += 1\n",
    "        return\n",
    " \n",
    "    def suggest_coord(self, word):\n",
    "        count = 0\n",
    "        coordlist = []\n",
    "        glc = -1\n",
    "        for given_letter in word.word: # cycle through letters in word\n",
    "            glc += 1\n",
    "            rowc = 0\n",
    "            for row in self.grid: # cycle through rows\n",
    "                rowc += 1\n",
    "                colc = 0\n",
    "                for cell in row: # cycle through  letters in rows\n",
    "                    colc += 1\n",
    "                    if given_letter == cell: # check match letter in word to letters in row\n",
    "                        try: # suggest vertical placement \n",
    "                            if rowc - glc > 0: # make sure we're not suggesting a starting point off the grid\n",
    "                                if ((rowc - glc) + word.length) <= self.rows: # make sure word doesn't go off of grid\n",
    "                                    coordlist.append([colc, rowc - glc, 1, colc + (rowc - glc), 0])\n",
    "                        except: pass\n",
    "                        try: # suggest horizontal placement \n",
    "                            if colc - glc > 0: # make sure we're not suggesting a starting point off the grid\n",
    "                                if ((colc - glc) + word.length) <= self.cols: # make sure word doesn't go off of grid\n",
    "                                    coordlist.append([colc - glc, rowc, 0, rowc + (colc - glc), 0])\n",
    "                        except: pass\n",
    "        # example: coordlist[0] = [col, row, vertical, col + row, score]\n",
    "        #print word.word\n",
    "        #print coordlist\n",
    "        new_coordlist = self.sort_coordlist(coordlist, word)\n",
    "        #print new_coordlist\n",
    "        return new_coordlist\n",
    " \n",
    "    def sort_coordlist(self, coordlist, word): # give each coordinate a score, then sort\n",
    "        new_coordlist = []\n",
    "        for coord in coordlist:\n",
    "            col, row, vertical = coord[0], coord[1], coord[2]\n",
    "            coord[4] = self.check_fit_score(col, row, vertical, word) # checking scores\n",
    "            if coord[4]: # 0 scores are filtered\n",
    "                new_coordlist.append(coord)\n",
    "        random.shuffle(new_coordlist) # randomize coord list; why not?\n",
    "        new_coordlist.sort(key=lambda i: i[4], reverse=True) # put the best scores first\n",
    "        return new_coordlist\n",
    " \n",
    "    def fit_and_add(self, word): # doesn't really check fit except for the first word; otherwise just adds if score is good\n",
    "        fit = False\n",
    "        count = 0\n",
    "        coordlist = self.suggest_coord(word)\n",
    " \n",
    "        while not fit and count < self.maxloops:\n",
    " \n",
    "            if len(self.current_word_list) == 0: # this is the first word: the seed\n",
    "                # top left seed of longest word yields best results (maybe override)\n",
    "                vertical, col, row = random.randrange(0, 2), 1, 1\n",
    "                ''' \n",
    "                # optional center seed method, slower and less keyword placement\n",
    "                if vertical:\n",
    "                    col = int(round((self.cols + 1)/2, 0))\n",
    "                    row = int(round((self.rows + 1)/2, 0)) - int(round((word.length + 1)/2, 0))\n",
    "                else:\n",
    "                    col = int(round((self.cols + 1)/2, 0)) - int(round((word.length + 1)/2, 0))\n",
    "                    row = int(round((self.rows + 1)/2, 0))\n",
    "                # completely random seed method\n",
    "                '''\n",
    "                col = random.randrange(1, self.cols + 1)\n",
    "                row = random.randrange(1, self.rows + 1)\n",
    " \n",
    "                if self.check_fit_score(col, row, vertical, word): \n",
    "                    fit = True\n",
    "                    self.set_word(col, row, vertical, word, force=True)\n",
    "            else: # a subsquent words have scores calculated\n",
    "                try: \n",
    "                    col, row, vertical = coordlist[count][0], coordlist[count][1], coordlist[count][2]\n",
    "                except IndexError: return # no more cordinates, stop trying to fit\n",
    " \n",
    "                if coordlist[count][4]: # already filtered these out, but double check\n",
    "                    fit = True \n",
    "                    self.set_word(col, row, vertical, word, force=True)\n",
    " \n",
    "            count += 1\n",
    "        return\n",
    " \n",
    "    def check_fit_score(self, col, row, vertical, word):\n",
    "        '''\n",
    "        And return score (0 signifies no fit). 1 means a fit, 2+ means a cross.\n",
    " \n",
    "        The more crosses the better.\n",
    "        '''\n",
    "        if col < 1 or row < 1:\n",
    "            return 0\n",
    " \n",
    "        count, score = 1, 1 # give score a standard value of 1, will override with 0 if collisions detected\n",
    "        for letter in word.word:            \n",
    "            try:\n",
    "                active_cell = self.get_cell(col, row)\n",
    "            except IndexError:\n",
    "                return 0\n",
    " \n",
    "            if active_cell == self.empty or active_cell == letter:\n",
    "                pass\n",
    "            else:\n",
    "                return 0\n",
    " \n",
    "            if active_cell == letter:\n",
    "                score += 1\n",
    " \n",
    "            if vertical:\n",
    "                # check surroundings\n",
    "                if active_cell != letter: # don't check surroundings if cross point\n",
    "                    if not self.check_if_cell_clear(col+1, row): # check right cell\n",
    "                        return 0\n",
    " \n",
    "                    if not self.check_if_cell_clear(col-1, row): # check left cell\n",
    "                        return 0\n",
    " \n",
    "                if count == 1: # check top cell only on first letter\n",
    "                    if not self.check_if_cell_clear(col, row-1):\n",
    "                        return 0\n",
    " \n",
    "                if count == len(word.word): # check bottom cell only on last letter\n",
    "                    if not self.check_if_cell_clear(col, row+1): \n",
    "                        return 0\n",
    "            else: # else horizontal\n",
    "                # check surroundings\n",
    "                if active_cell != letter: # don't check surroundings if cross point\n",
    "                    if not self.check_if_cell_clear(col, row-1): # check top cell\n",
    "                        return 0\n",
    " \n",
    "                    if not self.check_if_cell_clear(col, row+1): # check bottom cell\n",
    "                        return 0\n",
    " \n",
    "                if count == 1: # check left cell only on first letter\n",
    "                    if not self.check_if_cell_clear(col-1, row):\n",
    "                        return 0\n",
    " \n",
    "                if count == len(word.word): # check right cell only on last letter\n",
    "                    if not self.check_if_cell_clear(col+1, row):\n",
    "                        return 0\n",
    " \n",
    " \n",
    "            if vertical: # progress to next letter and position\n",
    "                row += 1\n",
    "            else: # else horizontal\n",
    "                col += 1\n",
    " \n",
    "            count += 1\n",
    " \n",
    "        return score\n",
    " \n",
    "    def set_word(self, col, row, vertical, word, force=False): # also adds word to word list\n",
    "        if force:\n",
    "            word.col = col\n",
    "            word.row = row\n",
    "            word.vertical = vertical\n",
    "            self.current_word_list.append(word)\n",
    " \n",
    "            for letter in word.word:\n",
    "                self.set_cell(col, row, letter)\n",
    "                if vertical:\n",
    "                    row += 1\n",
    "                else:\n",
    "                    col += 1\n",
    "        return\n",
    " \n",
    "    def set_cell(self, col, row, value):\n",
    "        self.grid[row-1][col-1] = value\n",
    " \n",
    "    def get_cell(self, col, row):\n",
    "        return self.grid[row-1][col-1]\n",
    " \n",
    "    def check_if_cell_clear(self, col, row):\n",
    "        try:\n",
    "            cell = self.get_cell(col, row)\n",
    "            if cell == self.empty: \n",
    "                return True\n",
    "        except IndexError:\n",
    "            pass\n",
    "        return False\n",
    " \n",
    "    def solution(self): # return solution grid\n",
    "        outStr = \"\"\n",
    "        for r in range(self.rows):\n",
    "            for c in self.grid[r]:\n",
    "                outStr += '%s ' % c\n",
    "            outStr += '\\n'\n",
    "        return outStr\n",
    " \n",
    "    def word_find(self): # return solution grid\n",
    "        outStr = \"\"\n",
    "        for r in range(self.rows):\n",
    "            for c in self.grid[r]:\n",
    "                if c == self.empty:\n",
    "                    outStr += '%s ' % self.latin_lower[random.randint(0,len(self.latin_lower)-1)]\n",
    "                else:\n",
    "                    outStr += '%s ' % c\n",
    "            outStr += '\\n'\n",
    "        return outStr\n",
    " \n",
    "    def order_number_words(self): # orders words and applies numbering system to them\n",
    "        self.current_word_list.sort(key=lambda i: (i.col + i.row))\n",
    "        count, icount = 1, 1\n",
    "        for word in self.current_word_list:\n",
    "            word.number = count\n",
    "            if icount < len(self.current_word_list):\n",
    "                if word.col == self.current_word_list[icount].col and word.row == self.current_word_list[icount].row:\n",
    "                    pass\n",
    "                else:\n",
    "                    count += 1\n",
    "            icount += 1\n",
    " \n",
    "    def display(self, order=True): # return (and order/number wordlist) the grid minus the words adding the numbers\n",
    "        outStr = \"\"\n",
    "        if order:\n",
    "            self.order_number_words()\n",
    " \n",
    "        copy = self\n",
    " \n",
    "        for word in self.current_word_list:\n",
    "            copy.set_cell(word.col, word.row, word.number)\n",
    " \n",
    "        for r in range(copy.rows):\n",
    "            for c in copy.grid[r]:\n",
    "                outStr += '%s ' % c\n",
    "            outStr += '\\n'\n",
    " \n",
    "        outStr = re.sub(r'[a-z]', ' ', outStr)\n",
    "        return outStr\n",
    " \n",
    "    def word_bank(self): \n",
    "        outStr = ''\n",
    "        temp_list = duplicate(self.current_word_list)\n",
    "        random.shuffle(temp_list) # randomize word list\n",
    "        for word in temp_list:\n",
    "            outStr += '%s\\n' % word.word\n",
    "        return outStr\n",
    " \n",
    "    def legend(self): # must order first\n",
    "        outStr = ''\n",
    "        for word in self.current_word_list:\n",
    "            outStr += '%d. (%d,%d) %s: %s\\n' % (word.number, word.col, word.row, word.down_across(), word.clue )\n",
    "        return outStr\n",
    " \n",
    "class Word(object):\n",
    "    def __init__(self, word=None, clue=None):\n",
    "        self.word = re.sub(r'\\s', '', word.lower())\n",
    "        self.clue = clue\n",
    "        self.length = len(self.word)\n",
    "        # the below are set when placed on board\n",
    "        self.row = None\n",
    "        self.col = None\n",
    "        self.vertical = None\n",
    "        self.number = None\n",
    " \n",
    "    def down_across(self): # return down or across\n",
    "        if self.vertical: \n",
    "            return 'down'\n",
    "        else: \n",
    "            return 'across'\n",
    " \n",
    "    def __repr__(self):\n",
    "        return self.word"
   ]
  },
  {
   "cell_type": "markdown",
   "metadata": {},
   "source": [
    "## Get wordlist from text"
   ]
  },
  {
   "cell_type": "markdown",
   "metadata": {},
   "source": [
    "### Get poems of Catullus"
   ]
  },
  {
   "cell_type": "code",
   "execution_count": 4,
   "metadata": {},
   "outputs": [],
   "source": [
    "from cltk.corpus.latin import latinlibrary"
   ]
  },
  {
   "cell_type": "code",
   "execution_count": 5,
   "metadata": {
    "collapsed": true
   },
   "outputs": [],
   "source": [
    "catullus_raw = latinlibrary.raw('catullus.txt')"
   ]
  },
  {
   "cell_type": "code",
   "execution_count": 6,
   "metadata": {
    "collapsed": true
   },
   "outputs": [],
   "source": [
    "catullus_start = catullus_raw.find(' I.')\n",
    "catullus_end = catullus_raw.rfind('Fragmenta')\n",
    "catullus_string = catullus_raw[catullus_start:catullus_end]"
   ]
  },
  {
   "cell_type": "code",
   "execution_count": 7,
   "metadata": {
    "collapsed": true
   },
   "outputs": [],
   "source": [
    "# Remove roman numeral headings; must be before lower & replacer\n",
    "rn_pattern = r'(M{1,4}(CM|CD|D?C{0,3})(XC|XL|L?X{0,3})(IX|IV|V?I{0,3})|M{0,4}(CM|C?D|D?C{1,3})(XC|XL|L?X{0,3})(IX|IV|V?I{0,4})|M{0,4}(CM|CD|D?C{0,3})(XC|X?L|L?X{1,3})(IX|IV|V?I{0,3})|M{0,4}(CM|CD|D?C{0,3})(XC|XL|L?X{0,3})(IX|I?V|V?I{1,3}))[a|b]?\\.'"
   ]
  },
  {
   "cell_type": "code",
   "execution_count": 8,
   "metadata": {
    "collapsed": true
   },
   "outputs": [],
   "source": [
    "import re\n",
    "x = re.finditer(rn_pattern, catullus_string) "
   ]
  },
  {
   "cell_type": "code",
   "execution_count": 9,
   "metadata": {
    "collapsed": true
   },
   "outputs": [],
   "source": [
    "catullus_starts = [m.start(0) for m in re.finditer(rn_pattern, catullus_string)]"
   ]
  },
  {
   "cell_type": "code",
   "execution_count": 10,
   "metadata": {
    "collapsed": true
   },
   "outputs": [],
   "source": [
    "# cf. https://stackoverflow.com/a/10851479\n",
    "catullus_starts.append(None)\n",
    "catullus_poems = [catullus_string[catullus_starts[i]:catullus_starts[i+1]] for i in range(len(catullus_starts)-1)]"
   ]
  },
  {
   "cell_type": "code",
   "execution_count": 11,
   "metadata": {
    "collapsed": true
   },
   "outputs": [],
   "source": [
    "catullus_titles = [item[:item.find('\\n')].strip() for item in catullus_poems]\n",
    "catullus_poems = [item[item.find('\\n'):].strip() for item in catullus_poems]"
   ]
  },
  {
   "cell_type": "code",
   "execution_count": 12,
   "metadata": {
    "collapsed": true
   },
   "outputs": [],
   "source": [
    "# Imports for preprocessing\n",
    "\n",
    "import re # Regex module, useful for pattern matching\n",
    "import html # Useful for handling entities\n",
    "\n",
    "# Import/load a CLTK tool for normalizing i/j and u/v in Latin texts\n",
    "from cltk.stem.latin.j_v import JVReplacer\n",
    "replacer = JVReplacer()"
   ]
  },
  {
   "cell_type": "code",
   "execution_count": 13,
   "metadata": {
    "collapsed": true
   },
   "outputs": [],
   "source": [
    "# Preprocess texts\n",
    "def preprocess(text):\n",
    "\n",
    "    # Remove html entities and related html artifacts\n",
    "    text = html.unescape(text) # Handle html entities\n",
    "    text = re.sub(r'&nbsp;?', ' ',text) #&nbsp; stripped incorrectly in corpus?\n",
    "    text = re.sub(r'\\x00',' ',text) #Another space problem?\n",
    "    text = re.sub(r' \\xa0 ', '    ', text)\n",
    "    # Lowercase text\n",
    "    text = text.lower()\n",
    "\n",
    "    # Normalize text\n",
    "    text = replacer.replace(text) #Normalize u/v & i/j\n",
    "    \n",
    "    # Remove punctuation with translate\n",
    "    punctuation =\"\\\"#$%&\\'()+,-/:;<=>@[\\]^_`{|}~.?!«»—\"\n",
    "    translator = str.maketrans({key: \" \" for key in punctuation})\n",
    "    text = text.translate(translator)\n",
    "    \n",
    "    # Remove numbers\n",
    "    translator = str.maketrans({key: \" \" for key in '0123456789'})\n",
    "    text = text.translate(translator)\n",
    "        \n",
    "    return text.strip()"
   ]
  },
  {
   "cell_type": "code",
   "execution_count": 14,
   "metadata": {
    "collapsed": true
   },
   "outputs": [],
   "source": [
    "catullus_preprocess = [preprocess(poem) for poem in catullus_poems]"
   ]
  },
  {
   "cell_type": "markdown",
   "metadata": {},
   "source": [
    "### Compute tf-idf for Catullus"
   ]
  },
  {
   "cell_type": "code",
   "execution_count": 15,
   "metadata": {
    "collapsed": true
   },
   "outputs": [],
   "source": [
    "import math\n",
    "from textblob import TextBlob as tb\n",
    "\n",
    "def tf(word, blob):\n",
    "    return blob.words.count(word) / len(blob.words)\n",
    "\n",
    "def n_containing(word, bloblist):\n",
    "    return sum(1 for blob in bloblist if word in blob.words)\n",
    "\n",
    "def idf(word, bloblist):\n",
    "    return math.log(len(bloblist) / (1 + n_containing(word, bloblist)))\n",
    "\n",
    "def tfidf(word, blob, bloblist):\n",
    "    return tf(word, blob) * idf(word, bloblist)"
   ]
  },
  {
   "cell_type": "code",
   "execution_count": 16,
   "metadata": {
    "collapsed": true
   },
   "outputs": [],
   "source": [
    "bloblist = [tb(poem) for poem in catullus_preprocess]"
   ]
  },
  {
   "cell_type": "code",
   "execution_count": 17,
   "metadata": {},
   "outputs": [],
   "source": [
    "scores = []\n",
    "top_words = []\n",
    "\n",
    "for i, blob in enumerate(bloblist):\n",
    "    temp = {word: tfidf(word, blob, bloblist) for word in blob.words}\n",
    "    scores.append(temp)\n",
    "    sorted_words = sorted(temp.items(), key=lambda x: x[1], reverse=True)\n",
    "    top_words.append([word[0] for word in sorted_words[:30] if len(word[0]) > 3][:20])"
   ]
  },
  {
   "cell_type": "code",
   "execution_count": 18,
   "metadata": {},
   "outputs": [
    {
     "name": "stdout",
     "output_type": "stream",
     "text": [
      "Top words in Catullus I. ad Cornelium\n",
      "\tWord: dono, TF-IDF: 0.07995\n",
      "\tWord: lepidum, TF-IDF: 0.07995\n",
      "\tWord: arida, TF-IDF: 0.07995\n",
      "\tWord: expolitum, TF-IDF: 0.07995\n",
      "\tWord: solebas, TF-IDF: 0.07995\n",
      "\tWord: nugas, TF-IDF: 0.07995\n",
      "\tWord: ausus, TF-IDF: 0.07995\n",
      "\tWord: italorum, TF-IDF: 0.07995\n",
      "\tWord: aeuum, TF-IDF: 0.07995\n",
      "\tWord: tribus, TF-IDF: 0.07995\n",
      "\tWord: explicare, TF-IDF: 0.07995\n",
      "\tWord: cartis, TF-IDF: 0.07995\n",
      "\tWord: laboriosis, TF-IDF: 0.07995\n",
      "\tWord: habe, TF-IDF: 0.07995\n",
      "\tWord: libelli, TF-IDF: 0.07995\n",
      "\tWord: qualecumque, TF-IDF: 0.07995\n",
      "\tWord: patrona, TF-IDF: 0.07995\n",
      "\tWord: maneat, TF-IDF: 0.07995\n",
      "\tWord: perenne, TF-IDF: 0.07995\n",
      "\tWord: saeclo, TF-IDF: 0.07995\n",
      "\n",
      "\n",
      "Top words in Catullus II. fletus passeris Lesbiae\n",
      "\tWord: ludere, TF-IDF: 0.14988\n",
      "\tWord: appetenti, TF-IDF: 0.08322\n",
      "\tWord: acris, TF-IDF: 0.08322\n",
      "\tWord: morsus, TF-IDF: 0.08322\n",
      "\tWord: nitenti, TF-IDF: 0.08322\n",
      "\tWord: iocari, TF-IDF: 0.08322\n",
      "\tWord: solaciolum, TF-IDF: 0.08322\n",
      "\tWord: doloris, TF-IDF: 0.08322\n",
      "\tWord: acquiescat, TF-IDF: 0.08322\n",
      "\tWord: sicut, TF-IDF: 0.08322\n",
      "\tWord: tristis, TF-IDF: 0.08322\n",
      "\tWord: leuare, TF-IDF: 0.08322\n",
      "\tWord: passer, TF-IDF: 0.07494\n",
      "\tWord: tenere, TF-IDF: 0.07494\n",
      "\tWord: digitum, TF-IDF: 0.07494\n",
      "\tWord: incitare, TF-IDF: 0.07494\n",
      "\tWord: desiderio, TF-IDF: 0.07494\n",
      "\tWord: carum, TF-IDF: 0.07494\n",
      "\tWord: credo, TF-IDF: 0.07494\n",
      "\tWord: grauis, TF-IDF: 0.07494\n",
      "\n",
      "\n"
     ]
    }
   ],
   "source": [
    "for i, title in enumerate(catullus_titles[:2]):\n",
    "    print(\"Top words in Catullus %s\" % title)\n",
    "    sorted_words = sorted(scores[i].items(), key=lambda x: x[1], reverse=True)\n",
    "    for word, score in sorted_words[:20]:\n",
    "        print(\"\\tWord: {}, TF-IDF: {}\".format(word, round(score, 5)))\n",
    "    print('\\n')"
   ]
  },
  {
   "cell_type": "code",
   "execution_count": 19,
   "metadata": {},
   "outputs": [
    {
     "name": "stdout",
     "output_type": "stream",
     "text": [
      "['ludere', 'appetenti', 'acris', 'morsus', 'nitenti', 'iocari', 'solaciolum', 'doloris', 'acquiescat', 'sicut', 'tristis', 'leuare', 'passer', 'tenere', 'digitum', 'incitare', 'desiderio', 'carum', 'credo', 'grauis']\n"
     ]
    }
   ],
   "source": [
    "catullus_top_words = top_words[1]\n",
    "print(catullus_top_words)"
   ]
  },
  {
   "cell_type": "markdown",
   "metadata": {},
   "source": [
    "## Putting it together"
   ]
  },
  {
   "cell_type": "code",
   "execution_count": 20,
   "metadata": {},
   "outputs": [],
   "source": [
    "words = [[word, None] for word in catullus_top_words]\n",
    "catullus_word_search = Crossword(20, 20, '-', 5000, words)\n",
    "catullus_word_search.compute_crossword(2)"
   ]
  },
  {
   "cell_type": "code",
   "execution_count": 21,
   "metadata": {},
   "outputs": [
    {
     "name": "stdout",
     "output_type": "stream",
     "text": [
      "ludere\n",
      "appetenti\n",
      "passer\n",
      "grauis\n",
      "leuare\n",
      "credo\n",
      "tenere\n",
      "nitenti\n",
      "digitum\n",
      "solaciolum\n",
      "morsus\n",
      "carum\n",
      "acquiescat\n",
      "incitare\n",
      "acris\n",
      "iocari\n",
      "tristis\n",
      "doloris\n",
      "desiderio\n",
      "sicut\n",
      "\n"
     ]
    }
   ],
   "source": [
    "print(catullus_word_search.word_bank())"
   ]
  },
  {
   "cell_type": "code",
   "execution_count": 22,
   "metadata": {},
   "outputs": [
    {
     "name": "stdout",
     "output_type": "stream",
     "text": [
      "y q d l i d z t c x n m w d p f r r g k \n",
      "g q c i n s n g r a u i s y s i c u t m \n",
      "g g q a w m c i e z r l o c g f a g c w \n",
      "y d t f y t t o d g m z l u d e r e e t \n",
      "s k e f r l d q o l a k a o l p u l u l \n",
      "i o n m b p u d d b u d c a f a m f i k \n",
      "g o e p r p c d o l o r i s x h p y n x \n",
      "q t r p p y k i n y t d o r k b i u c d \n",
      "s l e u a r e r s r e t l b d g o s i b \n",
      "m d k r s t z t t a c q u i e s c a t o \n",
      "a c r i s b h r m p u t m k s y a t a c \n",
      "y g d o e y i i t p d u r t i q r z r x \n",
      "t f m o r s u s l e z y q h d z i t e l \n",
      "f q b g s k m t q t p c t x e i d a l z \n",
      "x g k w y n n i t e n t i e r g n m w y \n",
      "n a t p q g t s h n k b z d i n p g t g \n",
      "o m b n u k t f p t p i g b o i m b w i \n",
      "h g k h p h d i g i t u m r z p d i l p \n",
      "y e i i m l u s f e l x z b o o a a u e \n",
      "a c x w u x y n d f d a i e k s d o y f \n",
      "\n"
     ]
    }
   ],
   "source": [
    "print(catullus_word_search.word_find())"
   ]
  },
  {
   "cell_type": "code",
   "execution_count": 23,
   "metadata": {},
   "outputs": [
    {
     "name": "stdout",
     "output_type": "stream",
     "text": [
      "- - - - - - - - c - - - - - - - - - - - \n",
      "- - - - - - - g r a u i s - s i c u t - \n",
      "- - - - - - - - e - - - o - - - a - - - \n",
      "- - t - - - - - d - - - l u d e r e - - \n",
      "- - e - - - - - o - - - a - - - u - - - \n",
      "- - n - - - - - - - - - c - - - m - i - \n",
      "- - e - - - - d o l o r i s - - - - n - \n",
      "- - r - p - - - - - - - o - - - i - c - \n",
      "- l e u a r e - - - - - l - d - o - i - \n",
      "- - - - s - - t - a c q u i e s c a t - \n",
      "a c r i s - - r - p - - m - s - a - a - \n",
      "- - - - e - - i - p - - - - i - r - r - \n",
      "- - m o r s u s - e - - - - d - i - e - \n",
      "- - - - - - - t - t - - - - e - - - - - \n",
      "- - - - - - n i t e n t i - r - - - - - \n",
      "- - - - - - - s - n - - - - i - - - - - \n",
      "- - - - - - - - - t - - - - o - - - - - \n",
      "- - - - - - d i g i t u m - - - - - - - \n",
      "- - - - - - - - - - - - - - - - - - - - \n",
      "- - - - - - - - - - - - - - - - - - - - \n",
      "\n"
     ]
    }
   ],
   "source": [
    "print(catullus_word_search.solution())"
   ]
  }
 ],
 "metadata": {
  "kernelspec": {
   "display_name": "Python 3",
   "language": "python",
   "name": "python3"
  },
  "language_info": {
   "codemirror_mode": {
    "name": "ipython",
    "version": 3
   },
   "file_extension": ".py",
   "mimetype": "text/x-python",
   "name": "python",
   "nbconvert_exporter": "python",
   "pygments_lexer": "ipython3",
   "version": "3.6.1"
  }
 },
 "nbformat": 4,
 "nbformat_minor": 2
}
