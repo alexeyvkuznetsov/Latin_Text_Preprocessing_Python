{
 "cells": [
  {
   "cell_type": "markdown",
   "metadata": {},
   "source": [
    "# Elementary Lexical Analysis with the CLTK\n",
    "\n",
    "In this tutorial, we will use the Classical Language Toolkit to analyze word choice in Sophocles' *Antigone*. Specifically, we will isolate words that occur both in Ode to Man and somewhere in the rest of the play.\n",
    "\n",
    "## General Design\n",
    "\n",
    "We will follow these steps to complete our task:\n",
    "\n",
    "1) Lemmetize the texts and extract the necessary lemmata.\n",
    "2) Isolate only the lemmata that occur in both the Ode and somewhere else in the text.\n",
    "3) Print the isolated lemmata.\n",
    "4) Create a concordance for key words.\n",
    "\n",
    "## Lemmatizing Texts\n",
    "\n",
    "Lemmatization is the process of simplifying inflected words to their basic form. For example, the lemma of γραψάμενος is γράφω. We begin by first loading the text we wish to lemmatize, the ```antigone.txt``` file in this case, and saving it as a string for later use. Note that we do not have to close the file with ```file.close()``` since this is executed automatically at the end of the ```with``` statement."
   ]
  },
  {
   "cell_type": "code",
   "execution_count": 6,
   "metadata": {
    "collapsed": false
   },
   "outputs": [
    {
     "name": "stdout",
     "output_type": "stream",
     "text": [
      "ὦ κοινὸν αὐτάδελφον Ἰσμήνης κάρα\n",
      "ἆρ᾽ οἶσθ᾽ ὅ τι Ζεὺς τῶν ἀπ᾽ Οἰδίπου κακῶν\n",
      "ὁποῖον οὐχὶ νῷν ἔτι ζώσαιν τελεῖ\n",
      "οὐδὲν γὰρ οὔτ᾽ ἀλγεινὸν οὔτ᾽ ἄτης ἄτερ\n",
      "οὔτ᾽ αἰσχρὸν οὔτ᾽ ἄτιμόν ἐσθ᾽ ὁποῖον οὐ\n",
      "τῶν σῶν τε κἀμῶν οὐκ ὄπωπ᾽ ἐγὼ κακῶν\n",
      "καὶ νῦν τί τοῦτ᾽ αὖ φασι πανδήμῳ πόλει\n",
      "κήρυγμα θεῖναι τὸν στρατηγὸν ἀρτίως\n",
      "ἔχεις τι κεἰσήκουσας ἤ σε λανθάνει\n",
      "πρὸς τοὺς φίλους στείχοντα τῶν ἐχθρῶν κακά\n",
      "ἐμοὶ μὲν οὐδεὶς μῦθος  φίλων\n",
      "οὔθ᾽ ἡδὺς οὔτ᾽ ἀλγεινὸς ἵκετ᾽ ἐξ ὅτου\n",
      "δυοῖν ἀδελφοῖν ἐστερήθημεν δύο\n",
      "μιᾷ θανόντοιν ἡμέρᾳ διπλῇ χερί\n",
      "ἐπεὶ δὲ φροῦδός ἐστιν Ἀργείων στρατὸς\n",
      "ἐν νυκτὶ τῇ νῦν οὐδὲν οἶδ᾽ ὑπέρτερον\n",
      "οὔτ᾽ εὐτυχοῦσα μᾶλλον οὔτ᾽ ἀτωμένη\n",
      "ᾔδη καλῶς καί σ᾽ ἐκτὸς αὐλείων πυλῶν\n",
      "τοῦδ᾽ οὕνεκ᾽ ἐξέπεμπον ὡς μόνη κλύοις\n",
      "τί δ᾽ ἔστι δηλοῖς γάρ τι καλχαίνουσ᾽ ἔπος\n",
      "οὐ γὰρ τάφου νῷν τὼ κασιγνήτω \n",
      "τὸν μὲν προτίσας τὸν δ᾽ ἀτιμάσας ἔχει\n",
      "Ἐτεοκλέα μέν ὡς λέγουσι σὺν δίκης\n",
      "χρήσει δικαίᾳ καὶ νόμου κατὰ χθονὸς\n",
      "ἔκρυψε τοῖς ἔνερθεν ἔντιμον νεκροῖς\n",
      "τὸν δ᾽ ἀθλίως θανόντα Πολυνείκους νέκυν\n",
      "ἀστοῖσί φασιν ἐκκεκηρῦχθαι τὸ μὴ\n",
      "τάφῳ καλύψαι μηδὲ κωκῦσαί τινα\n",
      "ἐᾶν δ᾽ ἄκλαυτον ἄταφον οἰωνοῖς γλυκὺν\n",
      "θησαυρὸν εἰσορῶσι πρὸς χάριν βορᾶς\n"
     ]
    }
   ],
   "source": [
    "with open(\"antigone.txt\") as file:\n",
    "    antigone_text = file.read()\n",
    "print(antigone_text[:1084]) # The [:1084] limits the print statement to print only the first 1,084 \n",
    "                            # characters of the text, which are the first 30 lines."
   ]
  },
  {
   "cell_type": "markdown",
   "metadata": {},
   "source": [
    "Now let us load the Ode text the same way."
   ]
  },
  {
   "cell_type": "code",
   "execution_count": 3,
   "metadata": {
    "collapsed": false
   },
   "outputs": [
    {
     "name": "stdout",
     "output_type": "stream",
     "text": [
      "πολλὰ τὰ δεινὰ κοὐδὲν ἀνθρώπου δεινότερον πέλει\n",
      "τοῦτο καὶ πολιοῦ πέραν πόντου χειμερίῳ νότῳ\t\n",
      "χωρεῖ περιβρυχίοισιν\n",
      "περῶν ὑπ᾽ οἴδμασιν\n",
      "θεῶν τε τὰν ὑπερτάταν Γᾶν\n",
      "ἄφθιτον ἀκαμάταν ἀποτρύεται\n",
      "ἰλλομένων ἀρότρων ἔτος εἰς ἔτος\n",
      "ἱππείῳ γένει πολεύων\t\n",
      "κουφονόων τε φῦλον ὀρνίθων ἀμφιβαλὼν ἄγει\n",
      "καὶ θηρῶν ἀγρίων ἔθνη πόντου τ᾽ εἰναλίαν φύσιν\t\n",
      "σπείραισι δικτυοκλώστοις\n",
      "περιφραδὴς ἀνήρ\n",
      "κρατεῖ δὲ μηχαναῖς ἀγραύλου\n",
      "θηρὸς ὀρεσσιβάτα λασιαύχενά θ᾽\t\n",
      "ἵππον ὀχμάζεται ἀμφὶ λόφον ζυγῶν\n",
      "οὔρειόν τ᾽ ἀκμῆτα ταῦρον\n",
      "καὶ φθέγμα καὶ ἀνεμόεν φρόνημα καὶ ἀστυνόμους\t\n",
      "ὀργὰς ἐδιδάξατο καὶ δυσαύλων\n",
      "πάγων ὑπαίθρεια καὶ δύσομβρα φεύγειν βέλη\n",
      "παντοπόρος ἄπορος ἐπ᾽ οὐδὲν ἔρχεται\n",
      "τὸ μέλλον Ἅιδα μόνον φεῦξιν οὐκ ἐπάξεται\t\n",
      "νόσων δ᾽ ἀμηχάνων φυγὰς ξυμπέφρασται\n",
      "σοφόν τι τὸ μηχανόεν τέχνας ὑπὲρ ἐλπίδ᾽ ἔχων\t\n",
      "τοτὲ μὲν κακόν ἄλλοτ᾽ ἐπ᾽ ἐσθλὸν ἕρπει\n",
      "νόμους γεραίρων χθονὸς θεῶν τ᾽ ἔνορκον δίκαν\n",
      "ὑψίπολις ἄπολις ὅτῳ τὸ μὴ καλὸν\t\n",
      "ξύνεστι τόλμας χάριν μήτ᾽ ἐμοὶ παρέστιος\n",
      "γένοιτο μήτ᾽ ἴσον φρονῶν ὃς τάδ᾽ ἔρδει\t\n",
      "ἐς δαιμόνιον τέρας ἀμφινοῶ\n",
      "τόδε πῶς εἰδὼς ἀντιλογήσω\n",
      "τήνδ᾽ οὐκ εἶναι παῖδ᾽ Ἀντιγόνην\n",
      "ὦ δύστηνος\n",
      "καὶ δυστήνου πατρὸς Οἰδιπόδα\t\n",
      "τί ποτ᾽; οὐ δή που σέ γ᾽ ἀπιστοῦσαν\n",
      "τοῖς βασιλείοισιν ἄγουσι νόμοις\n",
      "καὶ ἐν ἀφροσύνῃ καθελόντες;\n"
     ]
    }
   ],
   "source": [
    "with open(\"odeToMan.txt\") as file:\n",
    "    ode_text = file.read()\n",
    "print(ode_text)"
   ]
  },
  {
   "cell_type": "code",
   "execution_count": null,
   "metadata": {
    "collapsed": true
   },
   "outputs": [],
   "source": []
  }
 ],
 "metadata": {
  "kernelspec": {
   "display_name": "Python 3",
   "language": "python",
   "name": "python3"
  },
  "language_info": {
   "codemirror_mode": {
    "name": "ipython",
    "version": 3
   },
   "file_extension": ".py",
   "mimetype": "text/x-python",
   "name": "python",
   "nbconvert_exporter": "python",
   "pygments_lexer": "ipython3",
   "version": "3.5.1"
  }
 },
 "nbformat": 4,
 "nbformat_minor": 0
}
